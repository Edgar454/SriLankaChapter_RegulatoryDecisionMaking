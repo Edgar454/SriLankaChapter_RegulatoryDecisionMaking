{
 "cells": [
  {
   "cell_type": "markdown",
   "metadata": {
    "id": "4hyanJvqZzlP"
   },
   "source": [
    "# Libraries"
   ]
  },
  {
   "cell_type": "code",
   "execution_count": 1,
   "metadata": {
    "colab": {
     "base_uri": "https://localhost:8080/"
    },
    "executionInfo": {
     "elapsed": 60271,
     "status": "ok",
     "timestamp": 1734322146943,
     "user": {
      "displayName": "Chinmaya Joshi",
      "userId": "00565563287490683982"
     },
     "user_tz": -330
    },
    "id": "81FquzcWSdlQ",
    "outputId": "aec282f7-0b30-47a3-801b-2d78f4514214"
   },
   "outputs": [
    {
     "name": "stdout",
     "output_type": "stream",
     "text": [
      "\u001b[?25l   \u001b[90m━━━━━━━━━━━━━━━━━━━━━━━━━━━━━━━━━━━━━━━━\u001b[0m \u001b[32m0.0/1.6 MB\u001b[0m \u001b[31m?\u001b[0m eta \u001b[36m-:--:--\u001b[0m\r\u001b[2K   \u001b[91m━━━━━━━━━━━━━━━━━━━━━━━━━━━━━━━━━━━━━\u001b[0m\u001b[90m╺\u001b[0m\u001b[90m━━\u001b[0m \u001b[32m1.5/1.6 MB\u001b[0m \u001b[31m44.5 MB/s\u001b[0m eta \u001b[36m0:00:01\u001b[0m\r\u001b[2K   \u001b[90m━━━━━━━━━━━━━━━━━━━━━━━━━━━━━━━━━━━━━━━━\u001b[0m \u001b[32m1.6/1.6 MB\u001b[0m \u001b[31m26.0 MB/s\u001b[0m eta \u001b[36m0:00:00\u001b[0m\n",
      "\u001b[2K   \u001b[90m━━━━━━━━━━━━━━━━━━━━━━━━━━━━━━━━━━━━━━━━\u001b[0m \u001b[32m1.2/1.2 MB\u001b[0m \u001b[31m51.9 MB/s\u001b[0m eta \u001b[36m0:00:00\u001b[0m\n",
      "\u001b[2K   \u001b[90m━━━━━━━━━━━━━━━━━━━━━━━━━━━━━━━━━━━━━━━━\u001b[0m \u001b[32m195.8/195.8 kB\u001b[0m \u001b[31m13.8 MB/s\u001b[0m eta \u001b[36m0:00:00\u001b[0m\n",
      "\u001b[2K   \u001b[90m━━━━━━━━━━━━━━━━━━━━━━━━━━━━━━━━━━━━━━━━\u001b[0m \u001b[32m390.3/390.3 kB\u001b[0m \u001b[31m22.6 MB/s\u001b[0m eta \u001b[36m0:00:00\u001b[0m\n",
      "\u001b[2K   \u001b[90m━━━━━━━━━━━━━━━━━━━━━━━━━━━━━━━━━━━━━━━━\u001b[0m \u001b[32m298.0/298.0 kB\u001b[0m \u001b[31m17.3 MB/s\u001b[0m eta \u001b[36m0:00:00\u001b[0m\n",
      "\u001b[2K   \u001b[90m━━━━━━━━━━━━━━━━━━━━━━━━━━━━━━━━━━━━━━━━\u001b[0m \u001b[32m1.2/1.2 MB\u001b[0m \u001b[31m45.3 MB/s\u001b[0m eta \u001b[36m0:00:00\u001b[0m\n",
      "\u001b[2K   \u001b[90m━━━━━━━━━━━━━━━━━━━━━━━━━━━━━━━━━━━━━━━━\u001b[0m \u001b[32m49.5/49.5 kB\u001b[0m \u001b[31m3.3 MB/s\u001b[0m eta \u001b[36m0:00:00\u001b[0m\n",
      "\u001b[2K     \u001b[90m━━━━━━━━━━━━━━━━━━━━━━━━━━━━━━━━━━━━━━━━\u001b[0m \u001b[32m44.0/44.0 kB\u001b[0m \u001b[31m2.7 MB/s\u001b[0m eta \u001b[36m0:00:00\u001b[0m\n",
      "\u001b[2K   \u001b[90m━━━━━━━━━━━━━━━━━━━━━━━━━━━━━━━━━━━━━━━━\u001b[0m \u001b[32m233.1/233.1 kB\u001b[0m \u001b[31m3.9 MB/s\u001b[0m eta \u001b[36m0:00:00\u001b[0m\n",
      "\u001b[2K   \u001b[90m━━━━━━━━━━━━━━━━━━━━━━━━━━━━━━━━━━━━━━━━\u001b[0m \u001b[32m13.3/13.3 MB\u001b[0m \u001b[31m79.7 MB/s\u001b[0m eta \u001b[36m0:00:00\u001b[0m\n",
      "\u001b[2K   \u001b[90m━━━━━━━━━━━━━━━━━━━━━━━━━━━━━━━━━━━━━━━━\u001b[0m \u001b[32m9.7/9.7 MB\u001b[0m \u001b[31m87.8 MB/s\u001b[0m eta \u001b[36m0:00:00\u001b[0m\n",
      "\u001b[2K   \u001b[90m━━━━━━━━━━━━━━━━━━━━━━━━━━━━━━━━━━━━━━━━\u001b[0m \u001b[32m139.2/139.2 kB\u001b[0m \u001b[31m8.8 MB/s\u001b[0m eta \u001b[36m0:00:00\u001b[0m\n",
      "\u001b[2K   \u001b[90m━━━━━━━━━━━━━━━━━━━━━━━━━━━━━━━━━━━━━━━━\u001b[0m \u001b[32m3.1/3.1 MB\u001b[0m \u001b[31m75.1 MB/s\u001b[0m eta \u001b[36m0:00:00\u001b[0m\n",
      "\u001b[2K   \u001b[90m━━━━━━━━━━━━━━━━━━━━━━━━━━━━━━━━━━━━━━━━\u001b[0m \u001b[32m83.2/83.2 kB\u001b[0m \u001b[31m5.8 MB/s\u001b[0m eta \u001b[36m0:00:00\u001b[0m\n",
      "\u001b[?25h"
     ]
    }
   ],
   "source": [
    "%pip install llama-index -q\n",
    "%pip install transformers -q\n",
    "%pip install torch -q\n",
    "%pip install llama-index-llms-groq -q\n",
    "%pip install sentence-transformers -q\n",
    "%pip install \"llama-index-embeddings-huggingface\" -q\n",
    "%pip install llama-index-agent-lats -q\n",
    "%pip install kdbai-client -q\n",
    "%pip install llama-index-vector-stores-kdbai -q\n",
    "%pip install kdbai_client -q"
   ]
  },
  {
   "cell_type": "code",
   "execution_count": 2,
   "metadata": {
    "executionInfo": {
     "elapsed": 42487,
     "status": "ok",
     "timestamp": 1734322189428,
     "user": {
      "displayName": "Chinmaya Joshi",
      "userId": "00565563287490683982"
     },
     "user_tz": -330
    },
    "id": "hxsO6P24TFnJ"
   },
   "outputs": [],
   "source": [
    "import pandas as pd\n",
    "from typing import List, Dict\n",
    "from llama_index.core import VectorStoreIndex, ServiceContext, Document\n",
    "from llama_index.core.node_parser import SentenceSplitter, MarkdownNodeParser\n",
    "from llama_index.embeddings.huggingface import HuggingFaceEmbedding\n",
    "from llama_index.llms.groq import Groq\n",
    "from llama_index.core.llms import ChatMessage\n",
    "import kdbai_client as kdbai\n",
    "\n",
    "import time\n",
    "from tqdm.notebook import tqdm\n",
    "import matplotlib.pyplot as plt"
   ]
  },
  {
   "cell_type": "markdown",
   "metadata": {
    "id": "CJ0qj3DVZ50B"
   },
   "source": [
    "# Data Loading"
   ]
  },
  {
   "cell_type": "code",
   "execution_count": 3,
   "metadata": {
    "colab": {
     "base_uri": "https://localhost:8080/"
    },
    "executionInfo": {
     "elapsed": 433,
     "status": "ok",
     "timestamp": 1734308975289,
     "user": {
      "displayName": "Chinmaya Joshi",
      "userId": "00565563287490683982"
     },
     "user_tz": -330
    },
    "id": "nVfXRRS5THRw",
    "outputId": "4edc19d0-18e4-4bfc-cbb0-245ad12298c7"
   },
   "outputs": [
    {
     "data": {
      "text/plain": [
       "167"
      ]
     },
     "execution_count": 3,
     "metadata": {},
     "output_type": "execute_result"
    }
   ],
   "source": [
    "def load_data(csv_path: str, text_col: List[str], metadata_cols: List[str]) -> List[Document]:\n",
    "  \"\"\"\n",
    "  Load documents and include class in metadata\n",
    "  \"\"\"\n",
    "  df = pd.read_csv(csv_path)\n",
    "  df.fillna(\"nan\", inplace=True)\n",
    "  documents = []\n",
    "  cols = ['original_doc_id', 'class', 'issuing_authority', 'title', 'issue_date', 'reference_number']\n",
    "  for _, row in df.iterrows():\n",
    "      text = str(row[text_col])\n",
    "      doc = Document(\n",
    "          text=text,\n",
    "          metadata= {cols[i]: row[col] for i, col in enumerate(metadata_cols)}\n",
    "      )\n",
    "      documents.append(doc)\n",
    "  return documents\n",
    "\n",
    "DATA_PATH = \"/content/drive/MyDrive/Omdena/Regulatory RAG (SL Chapter)/code/model dev/data/2024_11_28 v0_LK_tea_dataset.csv\"\n",
    "text_col = 'markdown_content'\n",
    "metadata_cols = ['id', 'class', 'issuing_authority', 'llama_title', 'llama_issue_date', 'llama_reference_number']\n",
    "\n",
    "all_documents = load_data(DATA_PATH, text_col, metadata_cols)\n",
    "len(all_documents)"
   ]
  },
  {
   "cell_type": "code",
   "execution_count": 4,
   "metadata": {
    "colab": {
     "base_uri": "https://localhost:8080/"
    },
    "executionInfo": {
     "elapsed": 383,
     "status": "ok",
     "timestamp": 1734308988611,
     "user": {
      "displayName": "Chinmaya Joshi",
      "userId": "00565563287490683982"
     },
     "user_tz": -330
    },
    "id": "59OHDF3TVbOk",
    "outputId": "b937995c-e264-4f5c-dee7-2d3e76431c2c"
   },
   "outputs": [
    {
     "data": {
      "text/plain": [
       "107"
      ]
     },
     "execution_count": 4,
     "metadata": {},
     "output_type": "execute_result"
    }
   ],
   "source": [
    "circulars_docs = [doc for doc in all_documents if doc.metadata['class'] == 'circular']\n",
    "len(circulars_docs)"
   ]
  },
  {
   "cell_type": "code",
   "execution_count": 5,
   "metadata": {
    "colab": {
     "base_uri": "https://localhost:8080/"
    },
    "executionInfo": {
     "elapsed": 425,
     "status": "ok",
     "timestamp": 1734308990199,
     "user": {
      "displayName": "Chinmaya Joshi",
      "userId": "00565563287490683982"
     },
     "user_tz": -330
    },
    "id": "lMNGdmxbWUmb",
    "outputId": "bcc59108-4f81-404b-a3e2-da99967697fe"
   },
   "outputs": [
    {
     "data": {
      "text/plain": [
       "{'Tea Board', 'Tea Board Analytical Lab', 'Tea Research Institute'}"
      ]
     },
     "execution_count": 5,
     "metadata": {},
     "output_type": "execute_result"
    }
   ],
   "source": [
    "set([doc.metadata['issuing_authority'] for doc in circulars_docs])"
   ]
  },
  {
   "cell_type": "code",
   "execution_count": 6,
   "metadata": {
    "colab": {
     "base_uri": "https://localhost:8080/"
    },
    "executionInfo": {
     "elapsed": 2,
     "status": "ok",
     "timestamp": 1734308991297,
     "user": {
      "displayName": "Chinmaya Joshi",
      "userId": "00565563287490683982"
     },
     "user_tz": -330
    },
    "id": "5od8bFWjVa4B",
    "outputId": "18fd37ea-87cf-4cd3-fc77-49fa1178b88d"
   },
   "outputs": [
    {
     "data": {
      "text/plain": [
       "50"
      ]
     },
     "execution_count": 6,
     "metadata": {},
     "output_type": "execute_result"
    }
   ],
   "source": [
    "tri_circulars_docs = [doc for doc in all_documents if ((doc.metadata['class'] == 'circular') and (doc.metadata['issuing_authority'] == ('Tea Research Institute')))]\n",
    "len(tri_circulars_docs)"
   ]
  },
  {
   "cell_type": "markdown",
   "metadata": {
    "id": "kcBvYnhmkm1w"
   },
   "source": [
    "Edgecase: When two dates are available, taking the first date. Confirm how to handle.<br>\n",
    "For eg.\n",
    "\n",
    "```nodes[568].metadata['issue_date']```\n",
    "> January 1996 and July 2000 (two dates available)"
   ]
  },
  {
   "cell_type": "code",
   "execution_count": 7,
   "metadata": {
    "colab": {
     "base_uri": "https://localhost:8080/",
     "height": 49,
     "referenced_widgets": [
      "9293908962284d85a13cacff5a7fa0e0",
      "7232f7ce85bd42d185d30cf5bd118391",
      "c075747b97be499692feced160a1ede9",
      "0023ad070c2d4fb5a5f14e233f932a6e",
      "76fc3477683942a594d87df68185c1b2",
      "c27ae34174ee485c8e2f76c394bd98fc",
      "df31995b0a71495abeaa422b97cef1df",
      "a66e48906e8144b0986c55ecb7e2ab18",
      "a036b451fd7f4810bf2ce17d355b995c",
      "04dc1a15b1ba4af6881277418851520b",
      "2ab417184dc64d3b8c5522ddceacf27e"
     ]
    },
    "executionInfo": {
     "elapsed": 632,
     "status": "ok",
     "timestamp": 1734308993335,
     "user": {
      "displayName": "Chinmaya Joshi",
      "userId": "00565563287490683982"
     },
     "user_tz": -330
    },
    "id": "_vF6MFuvkNzi",
    "outputId": "ef15c031-0e16-4344-93a6-8fa30faa4491"
   },
   "outputs": [
    {
     "data": {
      "application/vnd.jupyter.widget-view+json": {
       "model_id": "9293908962284d85a13cacff5a7fa0e0",
       "version_major": 2,
       "version_minor": 0
      },
      "text/plain": [
       "  0%|          | 0/50 [00:00<?, ?it/s]"
      ]
     },
     "metadata": {},
     "output_type": "display_data"
    }
   ],
   "source": [
    "date_list = []\n",
    "\n",
    "def convert_to_datetime64(docs):\n",
    "  for doc in tqdm(tri_circulars_docs):\n",
    "    doc_date = doc.metadata['issue_date']\n",
    "    if not str(doc_date) == \"nan\":\n",
    "      # pick first date if multiple available\n",
    "      doc_date = \" \".join(doc_date.split()[0:2])\n",
    "    doc.metadata['issue_date_ts'] = pd.to_datetime(doc_date, format=\"%B %Y\")\n",
    "    date_list.append(doc.metadata['issue_date_ts'])\n",
    "  return docs\n",
    "\n",
    "tri_circulars_docs = convert_to_datetime64(tri_circulars_docs)"
   ]
  },
  {
   "cell_type": "code",
   "execution_count": 8,
   "metadata": {
    "colab": {
     "base_uri": "https://localhost:8080/",
     "height": 36
    },
    "executionInfo": {
     "elapsed": 3,
     "status": "ok",
     "timestamp": 1734308993335,
     "user": {
      "displayName": "Chinmaya Joshi",
      "userId": "00565563287490683982"
     },
     "user_tz": -330
    },
    "id": "TvGubziAkN_q",
    "outputId": "d4bd9e19-5185-452c-a05e-e9419eb61338"
   },
   "outputs": [
    {
     "data": {
      "application/vnd.google.colaboratory.intrinsic+json": {
       "type": "string"
      },
      "text/plain": [
       "'February 2024'"
      ]
     },
     "execution_count": 8,
     "metadata": {},
     "output_type": "execute_result"
    }
   ],
   "source": [
    "tri_circulars_docs[0].metadata['issue_date']"
   ]
  },
  {
   "cell_type": "code",
   "execution_count": 9,
   "metadata": {
    "colab": {
     "base_uri": "https://localhost:8080/"
    },
    "executionInfo": {
     "elapsed": 1,
     "status": "ok",
     "timestamp": 1734308993719,
     "user": {
      "displayName": "Chinmaya Joshi",
      "userId": "00565563287490683982"
     },
     "user_tz": -330
    },
    "id": "x92lnHnVltay",
    "outputId": "f221fc2f-50ff-4487-f0ce-d2e91aa566d8"
   },
   "outputs": [
    {
     "data": {
      "text/plain": [
       "Timestamp('2024-02-01 00:00:00')"
      ]
     },
     "execution_count": 9,
     "metadata": {},
     "output_type": "execute_result"
    }
   ],
   "source": [
    "tri_circulars_docs[0].metadata['issue_date_ts']"
   ]
  },
  {
   "cell_type": "code",
   "execution_count": 10,
   "metadata": {
    "colab": {
     "base_uri": "https://localhost:8080/",
     "height": 554
    },
    "executionInfo": {
     "elapsed": 3,
     "status": "ok",
     "timestamp": 1734308994920,
     "user": {
      "displayName": "Chinmaya Joshi",
      "userId": "00565563287490683982"
     },
     "user_tz": -330
    },
    "id": "Yw3ik_JgfeLA",
    "outputId": "ee23caf9-8ff6-4868-81f8-394358fd9bb3"
   },
   "outputs": [
    {
     "data": {
      "text/html": [
       "<div>\n",
       "<style scoped>\n",
       "    .dataframe tbody tr th:only-of-type {\n",
       "        vertical-align: middle;\n",
       "    }\n",
       "\n",
       "    .dataframe tbody tr th {\n",
       "        vertical-align: top;\n",
       "    }\n",
       "\n",
       "    .dataframe thead th {\n",
       "        text-align: right;\n",
       "    }\n",
       "</style>\n",
       "<table border=\"1\" class=\"dataframe\">\n",
       "  <thead>\n",
       "    <tr style=\"text-align: right;\">\n",
       "      <th></th>\n",
       "      <th>count</th>\n",
       "    </tr>\n",
       "  </thead>\n",
       "  <tbody>\n",
       "    <tr>\n",
       "      <th>2024-02-01</th>\n",
       "      <td>20</td>\n",
       "    </tr>\n",
       "    <tr>\n",
       "      <th>2003-09-01</th>\n",
       "      <td>4</td>\n",
       "    </tr>\n",
       "    <tr>\n",
       "      <th>2000-07-01</th>\n",
       "      <td>4</td>\n",
       "    </tr>\n",
       "    <tr>\n",
       "      <th>2003-03-01</th>\n",
       "      <td>3</td>\n",
       "    </tr>\n",
       "    <tr>\n",
       "      <th>2009-05-01</th>\n",
       "      <td>3</td>\n",
       "    </tr>\n",
       "    <tr>\n",
       "      <th>2013-06-01</th>\n",
       "      <td>2</td>\n",
       "    </tr>\n",
       "    <tr>\n",
       "      <th>1996-01-01</th>\n",
       "      <td>2</td>\n",
       "    </tr>\n",
       "    <tr>\n",
       "      <th>2002-10-01</th>\n",
       "      <td>1</td>\n",
       "    </tr>\n",
       "    <tr>\n",
       "      <th>2001-02-01</th>\n",
       "      <td>1</td>\n",
       "    </tr>\n",
       "    <tr>\n",
       "      <th>2011-01-01</th>\n",
       "      <td>1</td>\n",
       "    </tr>\n",
       "    <tr>\n",
       "      <th>2002-12-01</th>\n",
       "      <td>1</td>\n",
       "    </tr>\n",
       "    <tr>\n",
       "      <th>2004-03-01</th>\n",
       "      <td>1</td>\n",
       "    </tr>\n",
       "    <tr>\n",
       "      <th>2024-03-01</th>\n",
       "      <td>1</td>\n",
       "    </tr>\n",
       "    <tr>\n",
       "      <th>2001-09-01</th>\n",
       "      <td>1</td>\n",
       "    </tr>\n",
       "    <tr>\n",
       "      <th>2016-07-01</th>\n",
       "      <td>1</td>\n",
       "    </tr>\n",
       "  </tbody>\n",
       "</table>\n",
       "</div><br><label><b>dtype:</b> int64</label>"
      ],
      "text/plain": [
       "2024-02-01    20\n",
       "2003-09-01     4\n",
       "2000-07-01     4\n",
       "2003-03-01     3\n",
       "2009-05-01     3\n",
       "2013-06-01     2\n",
       "1996-01-01     2\n",
       "2002-10-01     1\n",
       "2001-02-01     1\n",
       "2011-01-01     1\n",
       "2002-12-01     1\n",
       "2004-03-01     1\n",
       "2024-03-01     1\n",
       "2001-09-01     1\n",
       "2016-07-01     1\n",
       "Name: count, dtype: int64"
      ]
     },
     "execution_count": 10,
     "metadata": {},
     "output_type": "execute_result"
    }
   ],
   "source": [
    "pd.Series(date_list).value_counts()"
   ]
  },
  {
   "cell_type": "markdown",
   "metadata": {
    "id": "O5g7hyyoW7Jj"
   },
   "source": [
    "# Chunking"
   ]
  },
  {
   "cell_type": "code",
   "execution_count": 11,
   "metadata": {
    "colab": {
     "base_uri": "https://localhost:8080/"
    },
    "executionInfo": {
     "elapsed": 784,
     "status": "ok",
     "timestamp": 1734308997996,
     "user": {
      "displayName": "Chinmaya Joshi",
      "userId": "00565563287490683982"
     },
     "user_tz": -330
    },
    "id": "9f0IoBihW6-e",
    "outputId": "9370fac7-e312-4f3f-a257-cb3996e2cc0e"
   },
   "outputs": [
    {
     "data": {
      "text/plain": [
       "725"
      ]
     },
     "execution_count": 11,
     "metadata": {},
     "output_type": "execute_result"
    }
   ],
   "source": [
    "node_parser = MarkdownNodeParser()\n",
    "nodes = node_parser.get_nodes_from_documents(tri_circulars_docs)\n",
    "len(nodes)"
   ]
  },
  {
   "cell_type": "code",
   "execution_count": 12,
   "metadata": {
    "colab": {
     "base_uri": "https://localhost:8080/",
     "height": 335
    },
    "executionInfo": {
     "elapsed": 4,
     "status": "ok",
     "timestamp": 1734308997997,
     "user": {
      "displayName": "Chinmaya Joshi",
      "userId": "00565563287490683982"
     },
     "user_tz": -330
    },
    "id": "DjrIS4V_YOgi",
    "outputId": "4016e277-21f3-400f-fc0b-afbb366fc2ca"
   },
   "outputs": [
    {
     "data": {
      "text/html": [
       "<div>\n",
       "<style scoped>\n",
       "    .dataframe tbody tr th:only-of-type {\n",
       "        vertical-align: middle;\n",
       "    }\n",
       "\n",
       "    .dataframe tbody tr th {\n",
       "        vertical-align: top;\n",
       "    }\n",
       "\n",
       "    .dataframe thead th {\n",
       "        text-align: right;\n",
       "    }\n",
       "</style>\n",
       "<table border=\"1\" class=\"dataframe\">\n",
       "  <thead>\n",
       "    <tr style=\"text-align: right;\">\n",
       "      <th></th>\n",
       "      <th>0</th>\n",
       "    </tr>\n",
       "  </thead>\n",
       "  <tbody>\n",
       "    <tr>\n",
       "      <th>count</th>\n",
       "      <td>725.000000</td>\n",
       "    </tr>\n",
       "    <tr>\n",
       "      <th>mean</th>\n",
       "      <td>71.195862</td>\n",
       "    </tr>\n",
       "    <tr>\n",
       "      <th>std</th>\n",
       "      <td>77.791443</td>\n",
       "    </tr>\n",
       "    <tr>\n",
       "      <th>min</th>\n",
       "      <td>2.000000</td>\n",
       "    </tr>\n",
       "    <tr>\n",
       "      <th>25%</th>\n",
       "      <td>17.000000</td>\n",
       "    </tr>\n",
       "    <tr>\n",
       "      <th>50%</th>\n",
       "      <td>48.000000</td>\n",
       "    </tr>\n",
       "    <tr>\n",
       "      <th>75%</th>\n",
       "      <td>96.000000</td>\n",
       "    </tr>\n",
       "    <tr>\n",
       "      <th>max</th>\n",
       "      <td>833.000000</td>\n",
       "    </tr>\n",
       "  </tbody>\n",
       "</table>\n",
       "</div><br><label><b>dtype:</b> float64</label>"
      ],
      "text/plain": [
       "count    725.000000\n",
       "mean      71.195862\n",
       "std       77.791443\n",
       "min        2.000000\n",
       "25%       17.000000\n",
       "50%       48.000000\n",
       "75%       96.000000\n",
       "max      833.000000\n",
       "dtype: float64"
      ]
     },
     "execution_count": 12,
     "metadata": {},
     "output_type": "execute_result"
    }
   ],
   "source": [
    "chunk_word_counts = pd.Series([len(node.text.split()) for node in nodes])\n",
    "chunk_word_counts.describe()"
   ]
  },
  {
   "cell_type": "markdown",
   "metadata": {
    "id": "cMStjLBIZLlk"
   },
   "source": [
    "# Embedding Model"
   ]
  },
  {
   "cell_type": "code",
   "execution_count": 17,
   "metadata": {
    "colab": {
     "base_uri": "https://localhost:8080/"
    },
    "executionInfo": {
     "elapsed": 21517,
     "status": "ok",
     "timestamp": 1734322463772,
     "user": {
      "displayName": "Chinmaya Joshi",
      "userId": "00565563287490683982"
     },
     "user_tz": -330
    },
    "id": "wl75P6iLZKY1",
    "outputId": "2073e5d3-078f-4fb8-a2b8-211dfe3ed83f"
   },
   "outputs": [
    {
     "name": "stderr",
     "output_type": "stream",
     "text": [
      "/usr/local/lib/python3.10/dist-packages/huggingface_hub/utils/_auth.py:94: UserWarning: \n",
      "The secret `HF_TOKEN` does not exist in your Colab secrets.\n",
      "To authenticate with the Hugging Face Hub, create a token in your settings tab (https://huggingface.co/settings/tokens), set it as secret in your Google Colab and restart your session.\n",
      "You will be able to reuse this secret in all of your notebooks.\n",
      "Please note that authentication is recommended but still optional to access public models or datasets.\n",
      "  warnings.warn(\n"
     ]
    }
   ],
   "source": [
    "def setup_embedding_model():\n",
    "    \"\"\"\n",
    "    Setup HuggingFace embedding model\n",
    "    \"\"\"\n",
    "    model_name = 'BAAI/bge-small-en-v1.5'\n",
    "    return HuggingFaceEmbedding(\n",
    "        model_name=model_name,\n",
    "        trust_remote_code=True,\n",
    "        cache_folder=\"/content/drive/MyDrive/Omdena/Regulatory RAG (SL Chapter)/code/model dev/cached_models/\"\n",
    "        )\n",
    "\n",
    "embed_model = setup_embedding_model()"
   ]
  },
  {
   "cell_type": "markdown",
   "metadata": {
    "id": "qmKd2jtFYmOY"
   },
   "source": [
    "# Groq API Setup"
   ]
  },
  {
   "cell_type": "code",
   "execution_count": 3,
   "metadata": {
    "executionInfo": {
     "elapsed": 2047,
     "status": "ok",
     "timestamp": 1734322220830,
     "user": {
      "displayName": "Chinmaya Joshi",
      "userId": "00565563287490683982"
     },
     "user_tz": -330
    },
    "id": "hYXaJQD6Yq2H"
   },
   "outputs": [],
   "source": [
    "from google.colab import userdata\n",
    "GROQ_API_KEY = userdata.get('GROQ_API_KEY')"
   ]
  },
  {
   "cell_type": "code",
   "execution_count": 74,
   "metadata": {
    "executionInfo": {
     "elapsed": 404,
     "status": "ok",
     "timestamp": 1734324349165,
     "user": {
      "displayName": "Chinmaya Joshi",
      "userId": "00565563287490683982"
     },
     "user_tz": -330
    },
    "id": "By3FsNuzZI-5"
   },
   "outputs": [],
   "source": [
    "def setup_groq_llm():\n",
    "    \"\"\"\n",
    "    Setup Groq LLM\n",
    "    \"\"\"\n",
    "    groq_api_key = GROQ_API_KEY\n",
    "    if not groq_api_key:\n",
    "        raise ValueError(\"Please set GROQ_API_KEY environment variable\")\n",
    "\n",
    "    return Groq(\n",
    "        api_key=groq_api_key,\n",
    "        # model=\"llama-3.1-8b-instant\",\n",
    "        model=\"llama3-groq-70b-8192-tool-use-preview\",\n",
    "        temperature=0.2\n",
    "    )\n",
    "\n",
    "llm = setup_groq_llm()"
   ]
  },
  {
   "cell_type": "markdown",
   "metadata": {
    "id": "8jdCECWjaVKs"
   },
   "source": [
    "# KDBAI API + Session Setup"
   ]
  },
  {
   "cell_type": "code",
   "execution_count": 5,
   "metadata": {
    "executionInfo": {
     "elapsed": 393,
     "status": "ok",
     "timestamp": 1734322223631,
     "user": {
      "displayName": "Chinmaya Joshi",
      "userId": "00565563287490683982"
     },
     "user_tz": -330
    },
    "id": "biqSACOBxvPd"
   },
   "outputs": [],
   "source": [
    "import nest_asyncio\n",
    "nest_asyncio.apply()"
   ]
  },
  {
   "cell_type": "code",
   "execution_count": 6,
   "metadata": {
    "executionInfo": {
     "elapsed": 2763,
     "status": "ok",
     "timestamp": 1734322226999,
     "user": {
      "displayName": "Chinmaya Joshi",
      "userId": "00565563287490683982"
     },
     "user_tz": -330
    },
    "id": "EtP8cmlqaT_h"
   },
   "outputs": [],
   "source": [
    "KDBAI_API_KEY = userdata.get('KDBAI_API_KEY')\n",
    "KDBAI_SESSION_ENDPOINT = userdata.get('KDBAI_SESSION_ENDPOINT')"
   ]
  },
  {
   "cell_type": "code",
   "execution_count": 7,
   "metadata": {
    "executionInfo": {
     "elapsed": 665,
     "status": "ok",
     "timestamp": 1734322227662,
     "user": {
      "displayName": "Chinmaya Joshi",
      "userId": "00565563287490683982"
     },
     "user_tz": -330
    },
    "id": "otPA0bsCa32P"
   },
   "outputs": [],
   "source": [
    "def setup_kdbai_api():\n",
    "  \"\"\"\n",
    "  Setup KDBAI Session Endpoint and API\n",
    "  \"\"\"\n",
    "\n",
    "  kdbai_endpoint = KDBAI_SESSION_ENDPOINT\n",
    "  if not kdbai_endpoint:\n",
    "        raise ValueError(\"Please set KDBAI_SESSION_ENDPOINT environment variable\")\n",
    "\n",
    "  kdbai_api_key = KDBAI_API_KEY\n",
    "  if not kdbai_api_key:\n",
    "        raise ValueError(\"Please set KDBAI_API_KEY environment variable\")\n",
    "\n",
    "  return kdbai.Session(\n",
    "    endpoint=f\"https://cloud.kdb.ai/instance/{kdbai_endpoint}\",\n",
    "    api_key=f\"{kdbai_api_key}\"\n",
    "    )\n",
    "\n",
    "session = setup_kdbai_api()"
   ]
  },
  {
   "cell_type": "markdown",
   "metadata": {
    "id": "9nAb_08SZpi2"
   },
   "source": [
    "# KDBAI Vector Store Setup"
   ]
  },
  {
   "cell_type": "markdown",
   "metadata": {
    "id": "NBTq4MmXeRHD"
   },
   "source": [
    "## Session Database"
   ]
  },
  {
   "cell_type": "code",
   "execution_count": 19,
   "metadata": {
    "colab": {
     "base_uri": "https://localhost:8080/"
    },
    "executionInfo": {
     "elapsed": 753,
     "status": "ok",
     "timestamp": 1734309081947,
     "user": {
      "displayName": "Chinmaya Joshi",
      "userId": "00565563287490683982"
     },
     "user_tz": -330
    },
    "id": "9o0oMdg8bzUm",
    "outputId": "4679722a-fb6a-4b97-d02e-70475e1db6a5"
   },
   "outputs": [
    {
     "data": {
      "text/plain": [
       "[KDBAI database \"default\", KDBAI database \"srilanka_tri_circulars\"]"
      ]
     },
     "execution_count": 19,
     "metadata": {},
     "output_type": "execute_result"
    }
   ],
   "source": [
    "session.databases()"
   ]
  },
  {
   "cell_type": "code",
   "execution_count": 20,
   "metadata": {
    "colab": {
     "base_uri": "https://localhost:8080/"
    },
    "executionInfo": {
     "elapsed": 1417,
     "status": "ok",
     "timestamp": 1734309083362,
     "user": {
      "displayName": "Chinmaya Joshi",
      "userId": "00565563287490683982"
     },
     "user_tz": -330
    },
    "id": "XCbw0BOHcTcb",
    "outputId": "4774eb89-25da-4b5e-9a05-4e49c44eb9ff"
   },
   "outputs": [
    {
     "data": {
      "text/plain": [
       "[KDBAI database \"default\", KDBAI database \"srilanka_tri_circulars\"]"
      ]
     },
     "execution_count": 20,
     "metadata": {},
     "output_type": "execute_result"
    }
   ],
   "source": [
    "# ensure no database called \"srilanka_tea\" exists\n",
    "try:\n",
    "    session.database(\"srilanka_tri_circulars\").drop()\n",
    "except kdbai.KDBAIException:\n",
    "    pass\n",
    "\n",
    "# Create the database\n",
    "db = session.create_database(\"srilanka_tri_circulars\")\n",
    "session.databases()"
   ]
  },
  {
   "cell_type": "markdown",
   "metadata": {
    "id": "QZtApnqOeV-H"
   },
   "source": [
    "## Table Schema + Creation"
   ]
  },
  {
   "cell_type": "code",
   "execution_count": 21,
   "metadata": {
    "colab": {
     "base_uri": "https://localhost:8080/"
    },
    "executionInfo": {
     "elapsed": 420,
     "status": "ok",
     "timestamp": 1734309085182,
     "user": {
      "displayName": "Chinmaya Joshi",
      "userId": "00565563287490683982"
     },
     "user_tz": -330
    },
    "id": "MxUKNUhbd39j",
    "outputId": "bd0ad0dd-9af3-4366-940b-55a375ee6bef"
   },
   "outputs": [
    {
     "data": {
      "text/plain": [
       "[]"
      ]
     },
     "execution_count": 21,
     "metadata": {},
     "output_type": "execute_result"
    }
   ],
   "source": [
    "# List all of the tables in the db\n",
    "db.tables"
   ]
  },
  {
   "cell_type": "code",
   "execution_count": 22,
   "metadata": {
    "executionInfo": {
     "elapsed": 377,
     "status": "ok",
     "timestamp": 1734309087755,
     "user": {
      "displayName": "Chinmaya Joshi",
      "userId": "00565563287490683982"
     },
     "user_tz": -330
    },
    "id": "iDk4CDxiePYG"
   },
   "outputs": [],
   "source": [
    "# Table - name & schema\n",
    "table_name = \"rag_baseline\"\n",
    "\n",
    "table_schema = [\n",
    "        dict(name=\"document_id\", type=\"bytes\"),\n",
    "        dict(name=\"text\", type=\"bytes\"),\n",
    "        dict(name=\"embeddings\", type=\"float32s\"),\n",
    "        dict(name=\"issue_date_ts\", type=\"datetime64[ns]\"),\n",
    "        dict(name=\"issuing_authority\", type=\"str\"),\n",
    "        dict(name=\"class\", type=\"str\"),\n",
    "        dict(name=\"reference_number\", type=\"str\"),\n",
    "        dict(name=\"title\", type=\"str\"),\n",
    "        dict(name=\"original_doc_id\", type=\"int16\"),\n",
    "    ]\n",
    "\n",
    "indexFlat = {\n",
    "        \"name\": \"flat_index\",\n",
    "        \"type\": \"flat\",\n",
    "        \"column\": \"embeddings\",\n",
    "        \"params\": {'dims': 384, 'metric': 'CS'} # For similarity metric, choose from Euclidean Distance (L2), Dot Product (IP), or Cosine Similarity (CS).\n",
    "    }"
   ]
  },
  {
   "cell_type": "code",
   "execution_count": 23,
   "metadata": {
    "colab": {
     "base_uri": "https://localhost:8080/"
    },
    "executionInfo": {
     "elapsed": 1010,
     "status": "ok",
     "timestamp": 1734309091729,
     "user": {
      "displayName": "Chinmaya Joshi",
      "userId": "00565563287490683982"
     },
     "user_tz": -330
    },
    "id": "A9Bot7CjbzKs",
    "outputId": "bee0002e-92ef-4fe5-86eb-a2ece42d5897"
   },
   "outputs": [
    {
     "data": {
      "text/plain": [
       "[KDBAI table \"rag_baseline\"]"
      ]
     },
     "execution_count": 23,
     "metadata": {},
     "output_type": "execute_result"
    }
   ],
   "source": [
    "# First ensure the table does not already exist\n",
    "try:\n",
    "    db.table(\"rag_baseline\").drop()\n",
    "except kdbai.KDBAIException:\n",
    "    pass\n",
    "\n",
    "# Create table\n",
    "table = db.create_table(table_name, table_schema, indexes=[indexFlat])\n",
    "db.tables"
   ]
  },
  {
   "cell_type": "code",
   "execution_count": 24,
   "metadata": {
    "colab": {
     "base_uri": "https://localhost:8080/"
    },
    "executionInfo": {
     "elapsed": 5,
     "status": "ok",
     "timestamp": 1734309092167,
     "user": {
      "displayName": "Chinmaya Joshi",
      "userId": "00565563287490683982"
     },
     "user_tz": -330
    },
    "id": "fFh9GKw_lGTQ",
    "outputId": "5021c3d0-555f-4600-8f7e-47a9b31cecc1"
   },
   "outputs": [
    {
     "data": {
      "text/plain": [
       "[{'name': 'flat_index',\n",
       "  'type': 'flat',\n",
       "  'column': 'embeddings',\n",
       "  'params': {'metric': 'CS', 'dims': 384}}]"
      ]
     },
     "execution_count": 24,
     "metadata": {},
     "output_type": "execute_result"
    }
   ],
   "source": [
    "table.indexes"
   ]
  },
  {
   "cell_type": "markdown",
   "metadata": {
    "id": "LXRnsF_0mKPt"
   },
   "source": [
    "## Insert Data into Tables"
   ]
  },
  {
   "cell_type": "code",
   "execution_count": 25,
   "metadata": {
    "executionInfo": {
     "elapsed": 733,
     "status": "ok",
     "timestamp": 1734309096918,
     "user": {
      "displayName": "Chinmaya Joshi",
      "userId": "00565563287490683982"
     },
     "user_tz": -330
    },
    "id": "tPvqbVTTmQZJ"
   },
   "outputs": [],
   "source": [
    "from llama_index.vector_stores.kdbai import KDBAIVectorStore\n",
    "from llama_index.core import StorageContext, Settings\n",
    "from llama_index.core.indices import VectorStoreIndex"
   ]
  },
  {
   "cell_type": "code",
   "execution_count": 26,
   "metadata": {
    "executionInfo": {
     "elapsed": 1463,
     "status": "ok",
     "timestamp": 1734309098380,
     "user": {
      "displayName": "Chinmaya Joshi",
      "userId": "00565563287490683982"
     },
     "user_tz": -330
    },
    "id": "ll5UhUuUnSO4"
   },
   "outputs": [],
   "source": [
    "Settings.llm = llm\n",
    "Settings.embed_model = embed_model"
   ]
  },
  {
   "cell_type": "code",
   "execution_count": 27,
   "metadata": {
    "colab": {
     "base_uri": "https://localhost:8080/"
    },
    "executionInfo": {
     "elapsed": 310103,
     "status": "ok",
     "timestamp": 1734309408481,
     "user": {
      "displayName": "Chinmaya Joshi",
      "userId": "00565563287490683982"
     },
     "user_tz": -330
    },
    "id": "gGQRrQ4ImmH6",
    "outputId": "dbf1266c-ede5-4a03-9d53-4a43b1958a5a"
   },
   "outputs": [
    {
     "name": "stdout",
     "output_type": "stream",
     "text": [
      "CPU times: user 4min 52s, sys: 9.52 s, total: 5min 2s\n",
      "Wall time: 5min 9s\n"
     ]
    }
   ],
   "source": [
    "%%time\n",
    "\n",
    "# Vector Store\n",
    "vector_store = KDBAIVectorStore(\n",
    "    table=table,\n",
    "    index_name=\"circular_baseline_index\"\n",
    "    )\n",
    "\n",
    "storage_context = StorageContext.from_defaults(vector_store=vector_store)\n",
    "index = VectorStoreIndex.from_documents(\n",
    "    tri_circulars_docs,\n",
    "    storage_context=storage_context,\n",
    "    transformations=[MarkdownNodeParser()]\n",
    ")"
   ]
  },
  {
   "cell_type": "code",
   "execution_count": 28,
   "metadata": {
    "colab": {
     "base_uri": "https://localhost:8080/",
     "height": 597
    },
    "executionInfo": {
     "elapsed": 447,
     "status": "ok",
     "timestamp": 1734309408918,
     "user": {
      "displayName": "Chinmaya Joshi",
      "userId": "00565563287490683982"
     },
     "user_tz": -330
    },
    "id": "fRoU_KYW4LgA",
    "outputId": "657b3cd7-9db1-4edb-db9d-207eefedfe6e"
   },
   "outputs": [
    {
     "data": {
      "application/vnd.google.colaboratory.intrinsic+json": {
       "summary": "{\n  \"name\": \"table\",\n  \"rows\": 725,\n  \"fields\": [\n    {\n      \"column\": \"document_id\",\n      \"properties\": {\n        \"dtype\": \"string\",\n        \"num_unique_values\": 725,\n        \"samples\": [\n          \"b'741651b4-ef39-416a-8143-ff068dce0bd4'\",\n          \"b'42d4f0e0-ae3d-4989-a090-7ad298254828'\",\n          \"b'f84653fa-32a7-4de7-956f-fb4959581ae4'\"\n        ],\n        \"semantic_type\": \"\",\n        \"description\": \"\"\n      }\n    },\n    {\n      \"column\": \"text\",\n      \"properties\": {\n        \"dtype\": \"string\",\n        \"num_unique_values\": 712,\n        \"samples\": [\n          \"b'# 1.1\\\\r\\\\n\\\\r\\\\nPlanting of shade trees has all along been associated with tea cultivation: Shade trees simulate forest conditions, which are believed to be the natural habitat of tea.'\",\n          \"b'# Figure 2\\\\r\\\\n\\\\r\\\\nA suitable single node cutting'\",\n          \"b'# 3. Other considerations\\\\r\\\\n\\\\r\\\\nShade trees should not be lopped during dry weather to prevent fire hazards. However, all grass clearings must be lopped prior to a drought.\\\\r\\\\n\\\\r\\\\nThe Tea Research Institute of Sri Lanka\\\\r\\\\n\\\\r\\\\nTalawakelle\\\\r\\\\n\\\\r\\\\n\\\\r\\\\nAll rights reserved. No part of this publication may be reproduced or transmitted in any form or by any means, electronic or mechanical, including photocopying, recording or information storage and retrieval, without permission in writing from the Director, Tea Research Institute of Sri Lanka.'\"\n        ],\n        \"semantic_type\": \"\",\n        \"description\": \"\"\n      }\n    },\n    {\n      \"column\": \"embeddings\",\n      \"properties\": {\n        \"dtype\": \"object\",\n        \"semantic_type\": \"\",\n        \"description\": \"\"\n      }\n    },\n    {\n      \"column\": \"issue_date_ts\",\n      \"properties\": {\n        \"dtype\": \"date\",\n        \"min\": \"1996-01-01 00:00:00\",\n        \"max\": \"2024-03-01 00:00:00\",\n        \"num_unique_values\": 15,\n        \"samples\": [\n          \"2024-03-01 00:00:00\",\n          \"1996-01-01 00:00:00\",\n          \"2024-02-01 00:00:00\"\n        ],\n        \"semantic_type\": \"\",\n        \"description\": \"\"\n      }\n    },\n    {\n      \"column\": \"issuing_authority\",\n      \"properties\": {\n        \"dtype\": \"category\",\n        \"num_unique_values\": 1,\n        \"samples\": [\n          \"Tea Research Institute\"\n        ],\n        \"semantic_type\": \"\",\n        \"description\": \"\"\n      }\n    },\n    {\n      \"column\": \"class\",\n      \"properties\": {\n        \"dtype\": \"category\",\n        \"num_unique_values\": 1,\n        \"samples\": [\n          \"circular\"\n        ],\n        \"semantic_type\": \"\",\n        \"description\": \"\"\n      }\n    },\n    {\n      \"column\": \"reference_number\",\n      \"properties\": {\n        \"dtype\": \"category\",\n        \"num_unique_values\": 48,\n        \"samples\": [\n          \"nan\"\n        ],\n        \"semantic_type\": \"\",\n        \"description\": \"\"\n      }\n    },\n    {\n      \"column\": \"title\",\n      \"properties\": {\n        \"dtype\": \"category\",\n        \"num_unique_values\": 49,\n        \"samples\": [\n          \"DROUGHT MITIGATION IN TEA PLANTATIONS\"\n        ],\n        \"semantic_type\": \"\",\n        \"description\": \"\"\n      }\n    },\n    {\n      \"column\": \"original_doc_id\",\n      \"properties\": {\n        \"dtype\": \"int16\",\n        \"num_unique_values\": 50,\n        \"samples\": [\n          46\n        ],\n        \"semantic_type\": \"\",\n        \"description\": \"\"\n      }\n    }\n  ]\n}",
       "type": "dataframe"
      },
      "text/html": [
       "\n",
       "  <div id=\"df-2888fd32-5ab2-4a26-8309-0681762a9652\" class=\"colab-df-container\">\n",
       "    <div>\n",
       "<style scoped>\n",
       "    .dataframe tbody tr th:only-of-type {\n",
       "        vertical-align: middle;\n",
       "    }\n",
       "\n",
       "    .dataframe tbody tr th {\n",
       "        vertical-align: top;\n",
       "    }\n",
       "\n",
       "    .dataframe thead th {\n",
       "        text-align: right;\n",
       "    }\n",
       "</style>\n",
       "<table border=\"1\" class=\"dataframe\">\n",
       "  <thead>\n",
       "    <tr style=\"text-align: right;\">\n",
       "      <th></th>\n",
       "      <th>document_id</th>\n",
       "      <th>text</th>\n",
       "      <th>embeddings</th>\n",
       "      <th>issue_date_ts</th>\n",
       "      <th>issuing_authority</th>\n",
       "      <th>class</th>\n",
       "      <th>reference_number</th>\n",
       "      <th>title</th>\n",
       "      <th>original_doc_id</th>\n",
       "    </tr>\n",
       "  </thead>\n",
       "  <tbody>\n",
       "    <tr>\n",
       "      <th>0</th>\n",
       "      <td>b'e08a2205-f92a-49a9-90ca-c777a186e030'</td>\n",
       "      <td>b'# ADVISORY CIRCULAR'</td>\n",
       "      <td>[-0.010523989, -0.018521061, 0.035410605, 0.03...</td>\n",
       "      <td>2024-02-01</td>\n",
       "      <td>Tea Research Institute</td>\n",
       "      <td>circular</td>\n",
       "      <td>No. DM JHL 925VynvT, Serial No. 04/24</td>\n",
       "      <td>Protection of Tea from Blister Blight</td>\n",
       "      <td>33</td>\n",
       "    </tr>\n",
       "    <tr>\n",
       "      <th>1</th>\n",
       "      <td>b'94183729-d287-4598-a52d-ec2a529fd992'</td>\n",
       "      <td>b'# No.DM JHL 925VynvT\\r\\n\\r\\nIssued in: Febru...</td>\n",
       "      <td>[-0.018252129, -0.015681455, 0.029566716, 0.02...</td>\n",
       "      <td>2024-02-01</td>\n",
       "      <td>Tea Research Institute</td>\n",
       "      <td>circular</td>\n",
       "      <td>No. DM JHL 925VynvT, Serial No. 04/24</td>\n",
       "      <td>Protection of Tea from Blister Blight</td>\n",
       "      <td>33</td>\n",
       "    </tr>\n",
       "    <tr>\n",
       "      <th>2</th>\n",
       "      <td>b'f6a61dfa-07a9-47de-93a4-a6df8e9c67bb'</td>\n",
       "      <td>b'# PROTECTION OF TEA FROM BLISTER BLIGHT\\r\\n\\...</td>\n",
       "      <td>[-0.010770878, -0.010378476, 0.031346966, 0.02...</td>\n",
       "      <td>2024-02-01</td>\n",
       "      <td>Tea Research Institute</td>\n",
       "      <td>circular</td>\n",
       "      <td>No. DM JHL 925VynvT, Serial No. 04/24</td>\n",
       "      <td>Protection of Tea from Blister Blight</td>\n",
       "      <td>33</td>\n",
       "    </tr>\n",
       "    <tr>\n",
       "      <th>3</th>\n",
       "      <td>b'2a74bc30-6425-45e8-ac9f-b4e2b282dc11'</td>\n",
       "      <td>b'# 1. Introduction\\r\\n\\r\\nBlister blight dise...</td>\n",
       "      <td>[0.015926646, -0.022562148, 0.049905393, 0.049...</td>\n",
       "      <td>2024-02-01</td>\n",
       "      <td>Tea Research Institute</td>\n",
       "      <td>circular</td>\n",
       "      <td>No. DM JHL 925VynvT, Serial No. 04/24</td>\n",
       "      <td>Protection of Tea from Blister Blight</td>\n",
       "      <td>33</td>\n",
       "    </tr>\n",
       "    <tr>\n",
       "      <th>4</th>\n",
       "      <td>b'307bb2b8-61b5-4b52-bcc5-48765ee236b9'</td>\n",
       "      <td>b'# 2. Disease Management\\r\\n\\r\\nIntegrated di...</td>\n",
       "      <td>[-0.010592673, -0.015138543, 0.052494105, 0.03...</td>\n",
       "      <td>2024-02-01</td>\n",
       "      <td>Tea Research Institute</td>\n",
       "      <td>circular</td>\n",
       "      <td>No. DM JHL 925VynvT, Serial No. 04/24</td>\n",
       "      <td>Protection of Tea from Blister Blight</td>\n",
       "      <td>33</td>\n",
       "    </tr>\n",
       "    <tr>\n",
       "      <th>...</th>\n",
       "      <td>...</td>\n",
       "      <td>...</td>\n",
       "      <td>...</td>\n",
       "      <td>...</td>\n",
       "      <td>...</td>\n",
       "      <td>...</td>\n",
       "      <td>...</td>\n",
       "      <td>...</td>\n",
       "      <td>...</td>\n",
       "    </tr>\n",
       "    <tr>\n",
       "      <th>720</th>\n",
       "      <td>b'743ae0ae-c13f-46be-8faa-9cb5eec784b7'</td>\n",
       "      <td>b'# 3.4 Cultural Ecological Weed Control Metho...</td>\n",
       "      <td>[0.0361477, 0.027225444, 0.020268343, 0.054710...</td>\n",
       "      <td>2024-02-01</td>\n",
       "      <td>Tea Research Institute</td>\n",
       "      <td>circular</td>\n",
       "      <td>Serial No. 24/24</td>\n",
       "      <td>INTEGRATED WEED MANAGEMENT IN TEA</td>\n",
       "      <td>82</td>\n",
       "    </tr>\n",
       "    <tr>\n",
       "      <th>721</th>\n",
       "      <td>b'f3fccdd6-0050-4bca-bc52-0db49cc9aab9'</td>\n",
       "      <td>b'# 3.5 Manual Weeding\\r\\n\\r\\nManual weeding c...</td>\n",
       "      <td>[-0.009344664, -0.064935364, 0.016475089, 0.03...</td>\n",
       "      <td>2024-02-01</td>\n",
       "      <td>Tea Research Institute</td>\n",
       "      <td>circular</td>\n",
       "      <td>Serial No. 24/24</td>\n",
       "      <td>INTEGRATED WEED MANAGEMENT IN TEA</td>\n",
       "      <td>82</td>\n",
       "    </tr>\n",
       "    <tr>\n",
       "      <th>722</th>\n",
       "      <td>b'054445b4-eb0f-41ec-b71b-5393e40306e8'</td>\n",
       "      <td>b'# 3.6 Mechanical Weeding\\r\\n\\r\\nSlash weedin...</td>\n",
       "      <td>[-0.0034090895, -0.042881668, 0.035792854, 0.0...</td>\n",
       "      <td>2024-02-01</td>\n",
       "      <td>Tea Research Institute</td>\n",
       "      <td>circular</td>\n",
       "      <td>Serial No. 24/24</td>\n",
       "      <td>INTEGRATED WEED MANAGEMENT IN TEA</td>\n",
       "      <td>82</td>\n",
       "    </tr>\n",
       "    <tr>\n",
       "      <th>723</th>\n",
       "      <td>b'94f0914e-cc04-47a3-a72c-475a199be33c'</td>\n",
       "      <td>b'# 3.7 Chemical Weed Control\\r\\n\\r\\nChemical ...</td>\n",
       "      <td>[0.022024825, -0.06513011, 0.016646517, 0.0451...</td>\n",
       "      <td>2024-02-01</td>\n",
       "      <td>Tea Research Institute</td>\n",
       "      <td>circular</td>\n",
       "      <td>Serial No. 24/24</td>\n",
       "      <td>INTEGRATED WEED MANAGEMENT IN TEA</td>\n",
       "      <td>82</td>\n",
       "    </tr>\n",
       "    <tr>\n",
       "      <th>724</th>\n",
       "      <td>b'480d8706-6056-4a74-a881-9f7c8984d606'</td>\n",
       "      <td>b'# 3.8 Biological Weed Control\\r\\n\\r\\nBiologi...</td>\n",
       "      <td>[0.05855215, -0.03665626, 0.0031663687, 0.0293...</td>\n",
       "      <td>2024-02-01</td>\n",
       "      <td>Tea Research Institute</td>\n",
       "      <td>circular</td>\n",
       "      <td>Serial No. 24/24</td>\n",
       "      <td>INTEGRATED WEED MANAGEMENT IN TEA</td>\n",
       "      <td>82</td>\n",
       "    </tr>\n",
       "  </tbody>\n",
       "</table>\n",
       "<p>725 rows × 9 columns</p>\n",
       "</div>\n",
       "    <div class=\"colab-df-buttons\">\n",
       "\n",
       "  <div class=\"colab-df-container\">\n",
       "    <button class=\"colab-df-convert\" onclick=\"convertToInteractive('df-2888fd32-5ab2-4a26-8309-0681762a9652')\"\n",
       "            title=\"Convert this dataframe to an interactive table.\"\n",
       "            style=\"display:none;\">\n",
       "\n",
       "  <svg xmlns=\"http://www.w3.org/2000/svg\" height=\"24px\" viewBox=\"0 -960 960 960\">\n",
       "    <path d=\"M120-120v-720h720v720H120Zm60-500h600v-160H180v160Zm220 220h160v-160H400v160Zm0 220h160v-160H400v160ZM180-400h160v-160H180v160Zm440 0h160v-160H620v160ZM180-180h160v-160H180v160Zm440 0h160v-160H620v160Z\"/>\n",
       "  </svg>\n",
       "    </button>\n",
       "\n",
       "  <style>\n",
       "    .colab-df-container {\n",
       "      display:flex;\n",
       "      gap: 12px;\n",
       "    }\n",
       "\n",
       "    .colab-df-convert {\n",
       "      background-color: #E8F0FE;\n",
       "      border: none;\n",
       "      border-radius: 50%;\n",
       "      cursor: pointer;\n",
       "      display: none;\n",
       "      fill: #1967D2;\n",
       "      height: 32px;\n",
       "      padding: 0 0 0 0;\n",
       "      width: 32px;\n",
       "    }\n",
       "\n",
       "    .colab-df-convert:hover {\n",
       "      background-color: #E2EBFA;\n",
       "      box-shadow: 0px 1px 2px rgba(60, 64, 67, 0.3), 0px 1px 3px 1px rgba(60, 64, 67, 0.15);\n",
       "      fill: #174EA6;\n",
       "    }\n",
       "\n",
       "    .colab-df-buttons div {\n",
       "      margin-bottom: 4px;\n",
       "    }\n",
       "\n",
       "    [theme=dark] .colab-df-convert {\n",
       "      background-color: #3B4455;\n",
       "      fill: #D2E3FC;\n",
       "    }\n",
       "\n",
       "    [theme=dark] .colab-df-convert:hover {\n",
       "      background-color: #434B5C;\n",
       "      box-shadow: 0px 1px 3px 1px rgba(0, 0, 0, 0.15);\n",
       "      filter: drop-shadow(0px 1px 2px rgba(0, 0, 0, 0.3));\n",
       "      fill: #FFFFFF;\n",
       "    }\n",
       "  </style>\n",
       "\n",
       "    <script>\n",
       "      const buttonEl =\n",
       "        document.querySelector('#df-2888fd32-5ab2-4a26-8309-0681762a9652 button.colab-df-convert');\n",
       "      buttonEl.style.display =\n",
       "        google.colab.kernel.accessAllowed ? 'block' : 'none';\n",
       "\n",
       "      async function convertToInteractive(key) {\n",
       "        const element = document.querySelector('#df-2888fd32-5ab2-4a26-8309-0681762a9652');\n",
       "        const dataTable =\n",
       "          await google.colab.kernel.invokeFunction('convertToInteractive',\n",
       "                                                    [key], {});\n",
       "        if (!dataTable) return;\n",
       "\n",
       "        const docLinkHtml = 'Like what you see? Visit the ' +\n",
       "          '<a target=\"_blank\" href=https://colab.research.google.com/notebooks/data_table.ipynb>data table notebook</a>'\n",
       "          + ' to learn more about interactive tables.';\n",
       "        element.innerHTML = '';\n",
       "        dataTable['output_type'] = 'display_data';\n",
       "        await google.colab.output.renderOutput(dataTable, element);\n",
       "        const docLink = document.createElement('div');\n",
       "        docLink.innerHTML = docLinkHtml;\n",
       "        element.appendChild(docLink);\n",
       "      }\n",
       "    </script>\n",
       "  </div>\n",
       "\n",
       "\n",
       "<div id=\"df-dc06f1b0-ae6b-448e-99fc-ac6ff9bc297f\">\n",
       "  <button class=\"colab-df-quickchart\" onclick=\"quickchart('df-dc06f1b0-ae6b-448e-99fc-ac6ff9bc297f')\"\n",
       "            title=\"Suggest charts\"\n",
       "            style=\"display:none;\">\n",
       "\n",
       "<svg xmlns=\"http://www.w3.org/2000/svg\" height=\"24px\"viewBox=\"0 0 24 24\"\n",
       "     width=\"24px\">\n",
       "    <g>\n",
       "        <path d=\"M19 3H5c-1.1 0-2 .9-2 2v14c0 1.1.9 2 2 2h14c1.1 0 2-.9 2-2V5c0-1.1-.9-2-2-2zM9 17H7v-7h2v7zm4 0h-2V7h2v10zm4 0h-2v-4h2v4z\"/>\n",
       "    </g>\n",
       "</svg>\n",
       "  </button>\n",
       "\n",
       "<style>\n",
       "  .colab-df-quickchart {\n",
       "      --bg-color: #E8F0FE;\n",
       "      --fill-color: #1967D2;\n",
       "      --hover-bg-color: #E2EBFA;\n",
       "      --hover-fill-color: #174EA6;\n",
       "      --disabled-fill-color: #AAA;\n",
       "      --disabled-bg-color: #DDD;\n",
       "  }\n",
       "\n",
       "  [theme=dark] .colab-df-quickchart {\n",
       "      --bg-color: #3B4455;\n",
       "      --fill-color: #D2E3FC;\n",
       "      --hover-bg-color: #434B5C;\n",
       "      --hover-fill-color: #FFFFFF;\n",
       "      --disabled-bg-color: #3B4455;\n",
       "      --disabled-fill-color: #666;\n",
       "  }\n",
       "\n",
       "  .colab-df-quickchart {\n",
       "    background-color: var(--bg-color);\n",
       "    border: none;\n",
       "    border-radius: 50%;\n",
       "    cursor: pointer;\n",
       "    display: none;\n",
       "    fill: var(--fill-color);\n",
       "    height: 32px;\n",
       "    padding: 0;\n",
       "    width: 32px;\n",
       "  }\n",
       "\n",
       "  .colab-df-quickchart:hover {\n",
       "    background-color: var(--hover-bg-color);\n",
       "    box-shadow: 0 1px 2px rgba(60, 64, 67, 0.3), 0 1px 3px 1px rgba(60, 64, 67, 0.15);\n",
       "    fill: var(--button-hover-fill-color);\n",
       "  }\n",
       "\n",
       "  .colab-df-quickchart-complete:disabled,\n",
       "  .colab-df-quickchart-complete:disabled:hover {\n",
       "    background-color: var(--disabled-bg-color);\n",
       "    fill: var(--disabled-fill-color);\n",
       "    box-shadow: none;\n",
       "  }\n",
       "\n",
       "  .colab-df-spinner {\n",
       "    border: 2px solid var(--fill-color);\n",
       "    border-color: transparent;\n",
       "    border-bottom-color: var(--fill-color);\n",
       "    animation:\n",
       "      spin 1s steps(1) infinite;\n",
       "  }\n",
       "\n",
       "  @keyframes spin {\n",
       "    0% {\n",
       "      border-color: transparent;\n",
       "      border-bottom-color: var(--fill-color);\n",
       "      border-left-color: var(--fill-color);\n",
       "    }\n",
       "    20% {\n",
       "      border-color: transparent;\n",
       "      border-left-color: var(--fill-color);\n",
       "      border-top-color: var(--fill-color);\n",
       "    }\n",
       "    30% {\n",
       "      border-color: transparent;\n",
       "      border-left-color: var(--fill-color);\n",
       "      border-top-color: var(--fill-color);\n",
       "      border-right-color: var(--fill-color);\n",
       "    }\n",
       "    40% {\n",
       "      border-color: transparent;\n",
       "      border-right-color: var(--fill-color);\n",
       "      border-top-color: var(--fill-color);\n",
       "    }\n",
       "    60% {\n",
       "      border-color: transparent;\n",
       "      border-right-color: var(--fill-color);\n",
       "    }\n",
       "    80% {\n",
       "      border-color: transparent;\n",
       "      border-right-color: var(--fill-color);\n",
       "      border-bottom-color: var(--fill-color);\n",
       "    }\n",
       "    90% {\n",
       "      border-color: transparent;\n",
       "      border-bottom-color: var(--fill-color);\n",
       "    }\n",
       "  }\n",
       "</style>\n",
       "\n",
       "  <script>\n",
       "    async function quickchart(key) {\n",
       "      const quickchartButtonEl =\n",
       "        document.querySelector('#' + key + ' button');\n",
       "      quickchartButtonEl.disabled = true;  // To prevent multiple clicks.\n",
       "      quickchartButtonEl.classList.add('colab-df-spinner');\n",
       "      try {\n",
       "        const charts = await google.colab.kernel.invokeFunction(\n",
       "            'suggestCharts', [key], {});\n",
       "      } catch (error) {\n",
       "        console.error('Error during call to suggestCharts:', error);\n",
       "      }\n",
       "      quickchartButtonEl.classList.remove('colab-df-spinner');\n",
       "      quickchartButtonEl.classList.add('colab-df-quickchart-complete');\n",
       "    }\n",
       "    (() => {\n",
       "      let quickchartButtonEl =\n",
       "        document.querySelector('#df-dc06f1b0-ae6b-448e-99fc-ac6ff9bc297f button');\n",
       "      quickchartButtonEl.style.display =\n",
       "        google.colab.kernel.accessAllowed ? 'block' : 'none';\n",
       "    })();\n",
       "  </script>\n",
       "</div>\n",
       "\n",
       "    </div>\n",
       "  </div>\n"
      ],
      "text/plain": [
       "                                 document_id  \\\n",
       "0    b'e08a2205-f92a-49a9-90ca-c777a186e030'   \n",
       "1    b'94183729-d287-4598-a52d-ec2a529fd992'   \n",
       "2    b'f6a61dfa-07a9-47de-93a4-a6df8e9c67bb'   \n",
       "3    b'2a74bc30-6425-45e8-ac9f-b4e2b282dc11'   \n",
       "4    b'307bb2b8-61b5-4b52-bcc5-48765ee236b9'   \n",
       "..                                       ...   \n",
       "720  b'743ae0ae-c13f-46be-8faa-9cb5eec784b7'   \n",
       "721  b'f3fccdd6-0050-4bca-bc52-0db49cc9aab9'   \n",
       "722  b'054445b4-eb0f-41ec-b71b-5393e40306e8'   \n",
       "723  b'94f0914e-cc04-47a3-a72c-475a199be33c'   \n",
       "724  b'480d8706-6056-4a74-a881-9f7c8984d606'   \n",
       "\n",
       "                                                  text  \\\n",
       "0                               b'# ADVISORY CIRCULAR'   \n",
       "1    b'# No.DM JHL 925VynvT\\r\\n\\r\\nIssued in: Febru...   \n",
       "2    b'# PROTECTION OF TEA FROM BLISTER BLIGHT\\r\\n\\...   \n",
       "3    b'# 1. Introduction\\r\\n\\r\\nBlister blight dise...   \n",
       "4    b'# 2. Disease Management\\r\\n\\r\\nIntegrated di...   \n",
       "..                                                 ...   \n",
       "720  b'# 3.4 Cultural Ecological Weed Control Metho...   \n",
       "721  b'# 3.5 Manual Weeding\\r\\n\\r\\nManual weeding c...   \n",
       "722  b'# 3.6 Mechanical Weeding\\r\\n\\r\\nSlash weedin...   \n",
       "723  b'# 3.7 Chemical Weed Control\\r\\n\\r\\nChemical ...   \n",
       "724  b'# 3.8 Biological Weed Control\\r\\n\\r\\nBiologi...   \n",
       "\n",
       "                                            embeddings issue_date_ts  \\\n",
       "0    [-0.010523989, -0.018521061, 0.035410605, 0.03...    2024-02-01   \n",
       "1    [-0.018252129, -0.015681455, 0.029566716, 0.02...    2024-02-01   \n",
       "2    [-0.010770878, -0.010378476, 0.031346966, 0.02...    2024-02-01   \n",
       "3    [0.015926646, -0.022562148, 0.049905393, 0.049...    2024-02-01   \n",
       "4    [-0.010592673, -0.015138543, 0.052494105, 0.03...    2024-02-01   \n",
       "..                                                 ...           ...   \n",
       "720  [0.0361477, 0.027225444, 0.020268343, 0.054710...    2024-02-01   \n",
       "721  [-0.009344664, -0.064935364, 0.016475089, 0.03...    2024-02-01   \n",
       "722  [-0.0034090895, -0.042881668, 0.035792854, 0.0...    2024-02-01   \n",
       "723  [0.022024825, -0.06513011, 0.016646517, 0.0451...    2024-02-01   \n",
       "724  [0.05855215, -0.03665626, 0.0031663687, 0.0293...    2024-02-01   \n",
       "\n",
       "          issuing_authority     class                       reference_number  \\\n",
       "0    Tea Research Institute  circular  No. DM JHL 925VynvT, Serial No. 04/24   \n",
       "1    Tea Research Institute  circular  No. DM JHL 925VynvT, Serial No. 04/24   \n",
       "2    Tea Research Institute  circular  No. DM JHL 925VynvT, Serial No. 04/24   \n",
       "3    Tea Research Institute  circular  No. DM JHL 925VynvT, Serial No. 04/24   \n",
       "4    Tea Research Institute  circular  No. DM JHL 925VynvT, Serial No. 04/24   \n",
       "..                      ...       ...                                    ...   \n",
       "720  Tea Research Institute  circular                       Serial No. 24/24   \n",
       "721  Tea Research Institute  circular                       Serial No. 24/24   \n",
       "722  Tea Research Institute  circular                       Serial No. 24/24   \n",
       "723  Tea Research Institute  circular                       Serial No. 24/24   \n",
       "724  Tea Research Institute  circular                       Serial No. 24/24   \n",
       "\n",
       "                                     title  original_doc_id  \n",
       "0    Protection of Tea from Blister Blight               33  \n",
       "1    Protection of Tea from Blister Blight               33  \n",
       "2    Protection of Tea from Blister Blight               33  \n",
       "3    Protection of Tea from Blister Blight               33  \n",
       "4    Protection of Tea from Blister Blight               33  \n",
       "..                                     ...              ...  \n",
       "720      INTEGRATED WEED MANAGEMENT IN TEA               82  \n",
       "721      INTEGRATED WEED MANAGEMENT IN TEA               82  \n",
       "722      INTEGRATED WEED MANAGEMENT IN TEA               82  \n",
       "723      INTEGRATED WEED MANAGEMENT IN TEA               82  \n",
       "724      INTEGRATED WEED MANAGEMENT IN TEA               82  \n",
       "\n",
       "[725 rows x 9 columns]"
      ]
     },
     "execution_count": 28,
     "metadata": {},
     "output_type": "execute_result"
    }
   ],
   "source": [
    "table.query()"
   ]
  },
  {
   "cell_type": "markdown",
   "metadata": {
    "id": "qK3sRaOAhapF"
   },
   "source": [
    "## Setting up Query Engine"
   ]
  },
  {
   "cell_type": "code",
   "execution_count": 29,
   "metadata": {
    "colab": {
     "base_uri": "https://localhost:8080/"
    },
    "executionInfo": {
     "elapsed": 417,
     "status": "ok",
     "timestamp": 1734309455716,
     "user": {
      "displayName": "Chinmaya Joshi",
      "userId": "00565563287490683982"
     },
     "user_tz": -330
    },
    "id": "pOKayT5VhZ5e",
    "outputId": "ff6c3109-2c8e-4712-ac3a-ac86e5abb69b"
   },
   "outputs": [
    {
     "name": "stdout",
     "output_type": "stream",
     "text": [
      "CPU times: user 224 ms, sys: 3.94 ms, total: 228 ms\n",
      "Wall time: 261 ms\n"
     ]
    }
   ],
   "source": [
    "%%time\n",
    "\n",
    "# Using llama-3.1-8b-instant, the 128k tokens context size can take 100 pages.\n",
    "K = 5\n",
    "\n",
    "# query_engine = index.as_query_engine(llm=llm)\n",
    "\n",
    "query_engine = index.as_query_engine(\n",
    "    similarity_top_k=K,\n",
    "    llm=llm,\n",
    "    vector_store_kwargs={\n",
    "        \"index\": \"flat_index\"#,\n",
    "        # \"filter\": [[\"<\", \"issue_date_ts\", pd.to_datetime(\"\")]],\n",
    "        # \"sort_columns\": \"issue_date_ts\",\n",
    "    },\n",
    ")"
   ]
  },
  {
   "cell_type": "markdown",
   "metadata": {
    "id": "eUBdgeIXpRq5"
   },
   "source": [
    "# (ignore for first run) Re-Setup from existing KDBAI Database"
   ]
  },
  {
   "cell_type": "markdown",
   "metadata": {
    "id": "HoY7woAXp1IB"
   },
   "source": [
    "run cells from before:\n",
    "- install libraries\n",
    "- setup embedding model\n",
    "- setup groq api\n",
    "- setup kdbai api"
   ]
  },
  {
   "cell_type": "markdown",
   "metadata": {
    "id": "DkTusHqqyu2I"
   },
   "source": [
    "## setup"
   ]
  },
  {
   "cell_type": "code",
   "execution_count": 13,
   "metadata": {
    "executionInfo": {
     "elapsed": 391,
     "status": "ok",
     "timestamp": 1734322391802,
     "user": {
      "displayName": "Chinmaya Joshi",
      "userId": "00565563287490683982"
     },
     "user_tz": -330
    },
    "id": "pb5EQhzTpj4H"
   },
   "outputs": [],
   "source": [
    "from llama_index.core import (\n",
    "    VectorStoreIndex,\n",
    "    StorageContext,\n",
    "    Settings\n",
    ")\n",
    "from llama_index.vector_stores.kdbai import KDBAIVectorStore\n",
    "import kdbai_client as kdbai"
   ]
  },
  {
   "cell_type": "code",
   "execution_count": 8,
   "metadata": {
    "executionInfo": {
     "elapsed": 393,
     "status": "ok",
     "timestamp": 1734322259513,
     "user": {
      "displayName": "Chinmaya Joshi",
      "userId": "00565563287490683982"
     },
     "user_tz": -330
    },
    "id": "3YmjqLpJpjzR"
   },
   "outputs": [],
   "source": [
    "db = session.database(\"srilanka_tri_circulars\")"
   ]
  },
  {
   "cell_type": "code",
   "execution_count": 9,
   "metadata": {
    "executionInfo": {
     "elapsed": 385,
     "status": "ok",
     "timestamp": 1734322293810,
     "user": {
      "displayName": "Chinmaya Joshi",
      "userId": "00565563287490683982"
     },
     "user_tz": -330
    },
    "id": "3FQ_RnI2pjsw"
   },
   "outputs": [],
   "source": [
    "# Get the existing table\n",
    "table = db.table(\"rag_baseline\")"
   ]
  },
  {
   "cell_type": "code",
   "execution_count": 10,
   "metadata": {
    "colab": {
     "base_uri": "https://localhost:8080/",
     "height": 597
    },
    "executionInfo": {
     "elapsed": 1358,
     "status": "ok",
     "timestamp": 1734322300639,
     "user": {
      "displayName": "Chinmaya Joshi",
      "userId": "00565563287490683982"
     },
     "user_tz": -330
    },
    "id": "3UatpwW7qggW",
    "outputId": "384fa1e1-5616-4e07-f068-a1965c25dbaf"
   },
   "outputs": [
    {
     "data": {
      "application/vnd.google.colaboratory.intrinsic+json": {
       "summary": "{\n  \"name\": \"table\",\n  \"rows\": 725,\n  \"fields\": [\n    {\n      \"column\": \"document_id\",\n      \"properties\": {\n        \"dtype\": \"string\",\n        \"num_unique_values\": 725,\n        \"samples\": [\n          \"b'741651b4-ef39-416a-8143-ff068dce0bd4'\",\n          \"b'42d4f0e0-ae3d-4989-a090-7ad298254828'\",\n          \"b'f84653fa-32a7-4de7-956f-fb4959581ae4'\"\n        ],\n        \"semantic_type\": \"\",\n        \"description\": \"\"\n      }\n    },\n    {\n      \"column\": \"text\",\n      \"properties\": {\n        \"dtype\": \"string\",\n        \"num_unique_values\": 712,\n        \"samples\": [\n          \"b'# 1.1\\\\r\\\\n\\\\r\\\\nPlanting of shade trees has all along been associated with tea cultivation: Shade trees simulate forest conditions, which are believed to be the natural habitat of tea.'\",\n          \"b'# Figure 2\\\\r\\\\n\\\\r\\\\nA suitable single node cutting'\",\n          \"b'# 3. Other considerations\\\\r\\\\n\\\\r\\\\nShade trees should not be lopped during dry weather to prevent fire hazards. However, all grass clearings must be lopped prior to a drought.\\\\r\\\\n\\\\r\\\\nThe Tea Research Institute of Sri Lanka\\\\r\\\\n\\\\r\\\\nTalawakelle\\\\r\\\\n\\\\r\\\\n\\\\r\\\\nAll rights reserved. No part of this publication may be reproduced or transmitted in any form or by any means, electronic or mechanical, including photocopying, recording or information storage and retrieval, without permission in writing from the Director, Tea Research Institute of Sri Lanka.'\"\n        ],\n        \"semantic_type\": \"\",\n        \"description\": \"\"\n      }\n    },\n    {\n      \"column\": \"embeddings\",\n      \"properties\": {\n        \"dtype\": \"object\",\n        \"semantic_type\": \"\",\n        \"description\": \"\"\n      }\n    },\n    {\n      \"column\": \"issue_date_ts\",\n      \"properties\": {\n        \"dtype\": \"date\",\n        \"min\": \"1996-01-01 00:00:00\",\n        \"max\": \"2024-03-01 00:00:00\",\n        \"num_unique_values\": 15,\n        \"samples\": [\n          \"2024-03-01 00:00:00\",\n          \"1996-01-01 00:00:00\",\n          \"2024-02-01 00:00:00\"\n        ],\n        \"semantic_type\": \"\",\n        \"description\": \"\"\n      }\n    },\n    {\n      \"column\": \"issuing_authority\",\n      \"properties\": {\n        \"dtype\": \"category\",\n        \"num_unique_values\": 1,\n        \"samples\": [\n          \"Tea Research Institute\"\n        ],\n        \"semantic_type\": \"\",\n        \"description\": \"\"\n      }\n    },\n    {\n      \"column\": \"class\",\n      \"properties\": {\n        \"dtype\": \"category\",\n        \"num_unique_values\": 1,\n        \"samples\": [\n          \"circular\"\n        ],\n        \"semantic_type\": \"\",\n        \"description\": \"\"\n      }\n    },\n    {\n      \"column\": \"reference_number\",\n      \"properties\": {\n        \"dtype\": \"category\",\n        \"num_unique_values\": 48,\n        \"samples\": [\n          \"nan\"\n        ],\n        \"semantic_type\": \"\",\n        \"description\": \"\"\n      }\n    },\n    {\n      \"column\": \"title\",\n      \"properties\": {\n        \"dtype\": \"category\",\n        \"num_unique_values\": 49,\n        \"samples\": [\n          \"DROUGHT MITIGATION IN TEA PLANTATIONS\"\n        ],\n        \"semantic_type\": \"\",\n        \"description\": \"\"\n      }\n    },\n    {\n      \"column\": \"original_doc_id\",\n      \"properties\": {\n        \"dtype\": \"int16\",\n        \"num_unique_values\": 50,\n        \"samples\": [\n          46\n        ],\n        \"semantic_type\": \"\",\n        \"description\": \"\"\n      }\n    }\n  ]\n}",
       "type": "dataframe"
      },
      "text/html": [
       "\n",
       "  <div id=\"df-141d8ab0-5b2c-435c-baa4-72fbe220103b\" class=\"colab-df-container\">\n",
       "    <div>\n",
       "<style scoped>\n",
       "    .dataframe tbody tr th:only-of-type {\n",
       "        vertical-align: middle;\n",
       "    }\n",
       "\n",
       "    .dataframe tbody tr th {\n",
       "        vertical-align: top;\n",
       "    }\n",
       "\n",
       "    .dataframe thead th {\n",
       "        text-align: right;\n",
       "    }\n",
       "</style>\n",
       "<table border=\"1\" class=\"dataframe\">\n",
       "  <thead>\n",
       "    <tr style=\"text-align: right;\">\n",
       "      <th></th>\n",
       "      <th>document_id</th>\n",
       "      <th>text</th>\n",
       "      <th>embeddings</th>\n",
       "      <th>issue_date_ts</th>\n",
       "      <th>issuing_authority</th>\n",
       "      <th>class</th>\n",
       "      <th>reference_number</th>\n",
       "      <th>title</th>\n",
       "      <th>original_doc_id</th>\n",
       "    </tr>\n",
       "  </thead>\n",
       "  <tbody>\n",
       "    <tr>\n",
       "      <th>0</th>\n",
       "      <td>b'e08a2205-f92a-49a9-90ca-c777a186e030'</td>\n",
       "      <td>b'# ADVISORY CIRCULAR'</td>\n",
       "      <td>[-0.010523989, -0.018521061, 0.035410605, 0.03...</td>\n",
       "      <td>2024-02-01</td>\n",
       "      <td>Tea Research Institute</td>\n",
       "      <td>circular</td>\n",
       "      <td>No. DM JHL 925VynvT, Serial No. 04/24</td>\n",
       "      <td>Protection of Tea from Blister Blight</td>\n",
       "      <td>33</td>\n",
       "    </tr>\n",
       "    <tr>\n",
       "      <th>1</th>\n",
       "      <td>b'94183729-d287-4598-a52d-ec2a529fd992'</td>\n",
       "      <td>b'# No.DM JHL 925VynvT\\r\\n\\r\\nIssued in: Febru...</td>\n",
       "      <td>[-0.018252129, -0.015681455, 0.029566716, 0.02...</td>\n",
       "      <td>2024-02-01</td>\n",
       "      <td>Tea Research Institute</td>\n",
       "      <td>circular</td>\n",
       "      <td>No. DM JHL 925VynvT, Serial No. 04/24</td>\n",
       "      <td>Protection of Tea from Blister Blight</td>\n",
       "      <td>33</td>\n",
       "    </tr>\n",
       "    <tr>\n",
       "      <th>2</th>\n",
       "      <td>b'f6a61dfa-07a9-47de-93a4-a6df8e9c67bb'</td>\n",
       "      <td>b'# PROTECTION OF TEA FROM BLISTER BLIGHT\\r\\n\\...</td>\n",
       "      <td>[-0.010770878, -0.010378476, 0.031346966, 0.02...</td>\n",
       "      <td>2024-02-01</td>\n",
       "      <td>Tea Research Institute</td>\n",
       "      <td>circular</td>\n",
       "      <td>No. DM JHL 925VynvT, Serial No. 04/24</td>\n",
       "      <td>Protection of Tea from Blister Blight</td>\n",
       "      <td>33</td>\n",
       "    </tr>\n",
       "    <tr>\n",
       "      <th>3</th>\n",
       "      <td>b'2a74bc30-6425-45e8-ac9f-b4e2b282dc11'</td>\n",
       "      <td>b'# 1. Introduction\\r\\n\\r\\nBlister blight dise...</td>\n",
       "      <td>[0.015926646, -0.022562148, 0.049905393, 0.049...</td>\n",
       "      <td>2024-02-01</td>\n",
       "      <td>Tea Research Institute</td>\n",
       "      <td>circular</td>\n",
       "      <td>No. DM JHL 925VynvT, Serial No. 04/24</td>\n",
       "      <td>Protection of Tea from Blister Blight</td>\n",
       "      <td>33</td>\n",
       "    </tr>\n",
       "    <tr>\n",
       "      <th>4</th>\n",
       "      <td>b'307bb2b8-61b5-4b52-bcc5-48765ee236b9'</td>\n",
       "      <td>b'# 2. Disease Management\\r\\n\\r\\nIntegrated di...</td>\n",
       "      <td>[-0.010592673, -0.015138543, 0.052494105, 0.03...</td>\n",
       "      <td>2024-02-01</td>\n",
       "      <td>Tea Research Institute</td>\n",
       "      <td>circular</td>\n",
       "      <td>No. DM JHL 925VynvT, Serial No. 04/24</td>\n",
       "      <td>Protection of Tea from Blister Blight</td>\n",
       "      <td>33</td>\n",
       "    </tr>\n",
       "    <tr>\n",
       "      <th>...</th>\n",
       "      <td>...</td>\n",
       "      <td>...</td>\n",
       "      <td>...</td>\n",
       "      <td>...</td>\n",
       "      <td>...</td>\n",
       "      <td>...</td>\n",
       "      <td>...</td>\n",
       "      <td>...</td>\n",
       "      <td>...</td>\n",
       "    </tr>\n",
       "    <tr>\n",
       "      <th>720</th>\n",
       "      <td>b'743ae0ae-c13f-46be-8faa-9cb5eec784b7'</td>\n",
       "      <td>b'# 3.4 Cultural Ecological Weed Control Metho...</td>\n",
       "      <td>[0.0361477, 0.027225444, 0.020268343, 0.054710...</td>\n",
       "      <td>2024-02-01</td>\n",
       "      <td>Tea Research Institute</td>\n",
       "      <td>circular</td>\n",
       "      <td>Serial No. 24/24</td>\n",
       "      <td>INTEGRATED WEED MANAGEMENT IN TEA</td>\n",
       "      <td>82</td>\n",
       "    </tr>\n",
       "    <tr>\n",
       "      <th>721</th>\n",
       "      <td>b'f3fccdd6-0050-4bca-bc52-0db49cc9aab9'</td>\n",
       "      <td>b'# 3.5 Manual Weeding\\r\\n\\r\\nManual weeding c...</td>\n",
       "      <td>[-0.009344664, -0.064935364, 0.016475089, 0.03...</td>\n",
       "      <td>2024-02-01</td>\n",
       "      <td>Tea Research Institute</td>\n",
       "      <td>circular</td>\n",
       "      <td>Serial No. 24/24</td>\n",
       "      <td>INTEGRATED WEED MANAGEMENT IN TEA</td>\n",
       "      <td>82</td>\n",
       "    </tr>\n",
       "    <tr>\n",
       "      <th>722</th>\n",
       "      <td>b'054445b4-eb0f-41ec-b71b-5393e40306e8'</td>\n",
       "      <td>b'# 3.6 Mechanical Weeding\\r\\n\\r\\nSlash weedin...</td>\n",
       "      <td>[-0.0034090895, -0.042881668, 0.035792854, 0.0...</td>\n",
       "      <td>2024-02-01</td>\n",
       "      <td>Tea Research Institute</td>\n",
       "      <td>circular</td>\n",
       "      <td>Serial No. 24/24</td>\n",
       "      <td>INTEGRATED WEED MANAGEMENT IN TEA</td>\n",
       "      <td>82</td>\n",
       "    </tr>\n",
       "    <tr>\n",
       "      <th>723</th>\n",
       "      <td>b'94f0914e-cc04-47a3-a72c-475a199be33c'</td>\n",
       "      <td>b'# 3.7 Chemical Weed Control\\r\\n\\r\\nChemical ...</td>\n",
       "      <td>[0.022024825, -0.06513011, 0.016646517, 0.0451...</td>\n",
       "      <td>2024-02-01</td>\n",
       "      <td>Tea Research Institute</td>\n",
       "      <td>circular</td>\n",
       "      <td>Serial No. 24/24</td>\n",
       "      <td>INTEGRATED WEED MANAGEMENT IN TEA</td>\n",
       "      <td>82</td>\n",
       "    </tr>\n",
       "    <tr>\n",
       "      <th>724</th>\n",
       "      <td>b'480d8706-6056-4a74-a881-9f7c8984d606'</td>\n",
       "      <td>b'# 3.8 Biological Weed Control\\r\\n\\r\\nBiologi...</td>\n",
       "      <td>[0.05855215, -0.03665626, 0.0031663687, 0.0293...</td>\n",
       "      <td>2024-02-01</td>\n",
       "      <td>Tea Research Institute</td>\n",
       "      <td>circular</td>\n",
       "      <td>Serial No. 24/24</td>\n",
       "      <td>INTEGRATED WEED MANAGEMENT IN TEA</td>\n",
       "      <td>82</td>\n",
       "    </tr>\n",
       "  </tbody>\n",
       "</table>\n",
       "<p>725 rows × 9 columns</p>\n",
       "</div>\n",
       "    <div class=\"colab-df-buttons\">\n",
       "\n",
       "  <div class=\"colab-df-container\">\n",
       "    <button class=\"colab-df-convert\" onclick=\"convertToInteractive('df-141d8ab0-5b2c-435c-baa4-72fbe220103b')\"\n",
       "            title=\"Convert this dataframe to an interactive table.\"\n",
       "            style=\"display:none;\">\n",
       "\n",
       "  <svg xmlns=\"http://www.w3.org/2000/svg\" height=\"24px\" viewBox=\"0 -960 960 960\">\n",
       "    <path d=\"M120-120v-720h720v720H120Zm60-500h600v-160H180v160Zm220 220h160v-160H400v160Zm0 220h160v-160H400v160ZM180-400h160v-160H180v160Zm440 0h160v-160H620v160ZM180-180h160v-160H180v160Zm440 0h160v-160H620v160Z\"/>\n",
       "  </svg>\n",
       "    </button>\n",
       "\n",
       "  <style>\n",
       "    .colab-df-container {\n",
       "      display:flex;\n",
       "      gap: 12px;\n",
       "    }\n",
       "\n",
       "    .colab-df-convert {\n",
       "      background-color: #E8F0FE;\n",
       "      border: none;\n",
       "      border-radius: 50%;\n",
       "      cursor: pointer;\n",
       "      display: none;\n",
       "      fill: #1967D2;\n",
       "      height: 32px;\n",
       "      padding: 0 0 0 0;\n",
       "      width: 32px;\n",
       "    }\n",
       "\n",
       "    .colab-df-convert:hover {\n",
       "      background-color: #E2EBFA;\n",
       "      box-shadow: 0px 1px 2px rgba(60, 64, 67, 0.3), 0px 1px 3px 1px rgba(60, 64, 67, 0.15);\n",
       "      fill: #174EA6;\n",
       "    }\n",
       "\n",
       "    .colab-df-buttons div {\n",
       "      margin-bottom: 4px;\n",
       "    }\n",
       "\n",
       "    [theme=dark] .colab-df-convert {\n",
       "      background-color: #3B4455;\n",
       "      fill: #D2E3FC;\n",
       "    }\n",
       "\n",
       "    [theme=dark] .colab-df-convert:hover {\n",
       "      background-color: #434B5C;\n",
       "      box-shadow: 0px 1px 3px 1px rgba(0, 0, 0, 0.15);\n",
       "      filter: drop-shadow(0px 1px 2px rgba(0, 0, 0, 0.3));\n",
       "      fill: #FFFFFF;\n",
       "    }\n",
       "  </style>\n",
       "\n",
       "    <script>\n",
       "      const buttonEl =\n",
       "        document.querySelector('#df-141d8ab0-5b2c-435c-baa4-72fbe220103b button.colab-df-convert');\n",
       "      buttonEl.style.display =\n",
       "        google.colab.kernel.accessAllowed ? 'block' : 'none';\n",
       "\n",
       "      async function convertToInteractive(key) {\n",
       "        const element = document.querySelector('#df-141d8ab0-5b2c-435c-baa4-72fbe220103b');\n",
       "        const dataTable =\n",
       "          await google.colab.kernel.invokeFunction('convertToInteractive',\n",
       "                                                    [key], {});\n",
       "        if (!dataTable) return;\n",
       "\n",
       "        const docLinkHtml = 'Like what you see? Visit the ' +\n",
       "          '<a target=\"_blank\" href=https://colab.research.google.com/notebooks/data_table.ipynb>data table notebook</a>'\n",
       "          + ' to learn more about interactive tables.';\n",
       "        element.innerHTML = '';\n",
       "        dataTable['output_type'] = 'display_data';\n",
       "        await google.colab.output.renderOutput(dataTable, element);\n",
       "        const docLink = document.createElement('div');\n",
       "        docLink.innerHTML = docLinkHtml;\n",
       "        element.appendChild(docLink);\n",
       "      }\n",
       "    </script>\n",
       "  </div>\n",
       "\n",
       "\n",
       "<div id=\"df-a8f6c88a-3e62-470f-85d4-7a080952b5fe\">\n",
       "  <button class=\"colab-df-quickchart\" onclick=\"quickchart('df-a8f6c88a-3e62-470f-85d4-7a080952b5fe')\"\n",
       "            title=\"Suggest charts\"\n",
       "            style=\"display:none;\">\n",
       "\n",
       "<svg xmlns=\"http://www.w3.org/2000/svg\" height=\"24px\"viewBox=\"0 0 24 24\"\n",
       "     width=\"24px\">\n",
       "    <g>\n",
       "        <path d=\"M19 3H5c-1.1 0-2 .9-2 2v14c0 1.1.9 2 2 2h14c1.1 0 2-.9 2-2V5c0-1.1-.9-2-2-2zM9 17H7v-7h2v7zm4 0h-2V7h2v10zm4 0h-2v-4h2v4z\"/>\n",
       "    </g>\n",
       "</svg>\n",
       "  </button>\n",
       "\n",
       "<style>\n",
       "  .colab-df-quickchart {\n",
       "      --bg-color: #E8F0FE;\n",
       "      --fill-color: #1967D2;\n",
       "      --hover-bg-color: #E2EBFA;\n",
       "      --hover-fill-color: #174EA6;\n",
       "      --disabled-fill-color: #AAA;\n",
       "      --disabled-bg-color: #DDD;\n",
       "  }\n",
       "\n",
       "  [theme=dark] .colab-df-quickchart {\n",
       "      --bg-color: #3B4455;\n",
       "      --fill-color: #D2E3FC;\n",
       "      --hover-bg-color: #434B5C;\n",
       "      --hover-fill-color: #FFFFFF;\n",
       "      --disabled-bg-color: #3B4455;\n",
       "      --disabled-fill-color: #666;\n",
       "  }\n",
       "\n",
       "  .colab-df-quickchart {\n",
       "    background-color: var(--bg-color);\n",
       "    border: none;\n",
       "    border-radius: 50%;\n",
       "    cursor: pointer;\n",
       "    display: none;\n",
       "    fill: var(--fill-color);\n",
       "    height: 32px;\n",
       "    padding: 0;\n",
       "    width: 32px;\n",
       "  }\n",
       "\n",
       "  .colab-df-quickchart:hover {\n",
       "    background-color: var(--hover-bg-color);\n",
       "    box-shadow: 0 1px 2px rgba(60, 64, 67, 0.3), 0 1px 3px 1px rgba(60, 64, 67, 0.15);\n",
       "    fill: var(--button-hover-fill-color);\n",
       "  }\n",
       "\n",
       "  .colab-df-quickchart-complete:disabled,\n",
       "  .colab-df-quickchart-complete:disabled:hover {\n",
       "    background-color: var(--disabled-bg-color);\n",
       "    fill: var(--disabled-fill-color);\n",
       "    box-shadow: none;\n",
       "  }\n",
       "\n",
       "  .colab-df-spinner {\n",
       "    border: 2px solid var(--fill-color);\n",
       "    border-color: transparent;\n",
       "    border-bottom-color: var(--fill-color);\n",
       "    animation:\n",
       "      spin 1s steps(1) infinite;\n",
       "  }\n",
       "\n",
       "  @keyframes spin {\n",
       "    0% {\n",
       "      border-color: transparent;\n",
       "      border-bottom-color: var(--fill-color);\n",
       "      border-left-color: var(--fill-color);\n",
       "    }\n",
       "    20% {\n",
       "      border-color: transparent;\n",
       "      border-left-color: var(--fill-color);\n",
       "      border-top-color: var(--fill-color);\n",
       "    }\n",
       "    30% {\n",
       "      border-color: transparent;\n",
       "      border-left-color: var(--fill-color);\n",
       "      border-top-color: var(--fill-color);\n",
       "      border-right-color: var(--fill-color);\n",
       "    }\n",
       "    40% {\n",
       "      border-color: transparent;\n",
       "      border-right-color: var(--fill-color);\n",
       "      border-top-color: var(--fill-color);\n",
       "    }\n",
       "    60% {\n",
       "      border-color: transparent;\n",
       "      border-right-color: var(--fill-color);\n",
       "    }\n",
       "    80% {\n",
       "      border-color: transparent;\n",
       "      border-right-color: var(--fill-color);\n",
       "      border-bottom-color: var(--fill-color);\n",
       "    }\n",
       "    90% {\n",
       "      border-color: transparent;\n",
       "      border-bottom-color: var(--fill-color);\n",
       "    }\n",
       "  }\n",
       "</style>\n",
       "\n",
       "  <script>\n",
       "    async function quickchart(key) {\n",
       "      const quickchartButtonEl =\n",
       "        document.querySelector('#' + key + ' button');\n",
       "      quickchartButtonEl.disabled = true;  // To prevent multiple clicks.\n",
       "      quickchartButtonEl.classList.add('colab-df-spinner');\n",
       "      try {\n",
       "        const charts = await google.colab.kernel.invokeFunction(\n",
       "            'suggestCharts', [key], {});\n",
       "      } catch (error) {\n",
       "        console.error('Error during call to suggestCharts:', error);\n",
       "      }\n",
       "      quickchartButtonEl.classList.remove('colab-df-spinner');\n",
       "      quickchartButtonEl.classList.add('colab-df-quickchart-complete');\n",
       "    }\n",
       "    (() => {\n",
       "      let quickchartButtonEl =\n",
       "        document.querySelector('#df-a8f6c88a-3e62-470f-85d4-7a080952b5fe button');\n",
       "      quickchartButtonEl.style.display =\n",
       "        google.colab.kernel.accessAllowed ? 'block' : 'none';\n",
       "    })();\n",
       "  </script>\n",
       "</div>\n",
       "\n",
       "    </div>\n",
       "  </div>\n"
      ],
      "text/plain": [
       "                                 document_id  \\\n",
       "0    b'e08a2205-f92a-49a9-90ca-c777a186e030'   \n",
       "1    b'94183729-d287-4598-a52d-ec2a529fd992'   \n",
       "2    b'f6a61dfa-07a9-47de-93a4-a6df8e9c67bb'   \n",
       "3    b'2a74bc30-6425-45e8-ac9f-b4e2b282dc11'   \n",
       "4    b'307bb2b8-61b5-4b52-bcc5-48765ee236b9'   \n",
       "..                                       ...   \n",
       "720  b'743ae0ae-c13f-46be-8faa-9cb5eec784b7'   \n",
       "721  b'f3fccdd6-0050-4bca-bc52-0db49cc9aab9'   \n",
       "722  b'054445b4-eb0f-41ec-b71b-5393e40306e8'   \n",
       "723  b'94f0914e-cc04-47a3-a72c-475a199be33c'   \n",
       "724  b'480d8706-6056-4a74-a881-9f7c8984d606'   \n",
       "\n",
       "                                                  text  \\\n",
       "0                               b'# ADVISORY CIRCULAR'   \n",
       "1    b'# No.DM JHL 925VynvT\\r\\n\\r\\nIssued in: Febru...   \n",
       "2    b'# PROTECTION OF TEA FROM BLISTER BLIGHT\\r\\n\\...   \n",
       "3    b'# 1. Introduction\\r\\n\\r\\nBlister blight dise...   \n",
       "4    b'# 2. Disease Management\\r\\n\\r\\nIntegrated di...   \n",
       "..                                                 ...   \n",
       "720  b'# 3.4 Cultural Ecological Weed Control Metho...   \n",
       "721  b'# 3.5 Manual Weeding\\r\\n\\r\\nManual weeding c...   \n",
       "722  b'# 3.6 Mechanical Weeding\\r\\n\\r\\nSlash weedin...   \n",
       "723  b'# 3.7 Chemical Weed Control\\r\\n\\r\\nChemical ...   \n",
       "724  b'# 3.8 Biological Weed Control\\r\\n\\r\\nBiologi...   \n",
       "\n",
       "                                            embeddings issue_date_ts  \\\n",
       "0    [-0.010523989, -0.018521061, 0.035410605, 0.03...    2024-02-01   \n",
       "1    [-0.018252129, -0.015681455, 0.029566716, 0.02...    2024-02-01   \n",
       "2    [-0.010770878, -0.010378476, 0.031346966, 0.02...    2024-02-01   \n",
       "3    [0.015926646, -0.022562148, 0.049905393, 0.049...    2024-02-01   \n",
       "4    [-0.010592673, -0.015138543, 0.052494105, 0.03...    2024-02-01   \n",
       "..                                                 ...           ...   \n",
       "720  [0.0361477, 0.027225444, 0.020268343, 0.054710...    2024-02-01   \n",
       "721  [-0.009344664, -0.064935364, 0.016475089, 0.03...    2024-02-01   \n",
       "722  [-0.0034090895, -0.042881668, 0.035792854, 0.0...    2024-02-01   \n",
       "723  [0.022024825, -0.06513011, 0.016646517, 0.0451...    2024-02-01   \n",
       "724  [0.05855215, -0.03665626, 0.0031663687, 0.0293...    2024-02-01   \n",
       "\n",
       "          issuing_authority     class                       reference_number  \\\n",
       "0    Tea Research Institute  circular  No. DM JHL 925VynvT, Serial No. 04/24   \n",
       "1    Tea Research Institute  circular  No. DM JHL 925VynvT, Serial No. 04/24   \n",
       "2    Tea Research Institute  circular  No. DM JHL 925VynvT, Serial No. 04/24   \n",
       "3    Tea Research Institute  circular  No. DM JHL 925VynvT, Serial No. 04/24   \n",
       "4    Tea Research Institute  circular  No. DM JHL 925VynvT, Serial No. 04/24   \n",
       "..                      ...       ...                                    ...   \n",
       "720  Tea Research Institute  circular                       Serial No. 24/24   \n",
       "721  Tea Research Institute  circular                       Serial No. 24/24   \n",
       "722  Tea Research Institute  circular                       Serial No. 24/24   \n",
       "723  Tea Research Institute  circular                       Serial No. 24/24   \n",
       "724  Tea Research Institute  circular                       Serial No. 24/24   \n",
       "\n",
       "                                     title  original_doc_id  \n",
       "0    Protection of Tea from Blister Blight               33  \n",
       "1    Protection of Tea from Blister Blight               33  \n",
       "2    Protection of Tea from Blister Blight               33  \n",
       "3    Protection of Tea from Blister Blight               33  \n",
       "4    Protection of Tea from Blister Blight               33  \n",
       "..                                     ...              ...  \n",
       "720      INTEGRATED WEED MANAGEMENT IN TEA               82  \n",
       "721      INTEGRATED WEED MANAGEMENT IN TEA               82  \n",
       "722      INTEGRATED WEED MANAGEMENT IN TEA               82  \n",
       "723      INTEGRATED WEED MANAGEMENT IN TEA               82  \n",
       "724      INTEGRATED WEED MANAGEMENT IN TEA               82  \n",
       "\n",
       "[725 rows x 9 columns]"
      ]
     },
     "execution_count": 10,
     "metadata": {},
     "output_type": "execute_result"
    }
   ],
   "source": [
    "table.query()"
   ]
  },
  {
   "cell_type": "code",
   "execution_count": 14,
   "metadata": {
    "executionInfo": {
     "elapsed": 430,
     "status": "ok",
     "timestamp": 1734322395106,
     "user": {
      "displayName": "Chinmaya Joshi",
      "userId": "00565563287490683982"
     },
     "user_tz": -330
    },
    "id": "h6pJEzgYpjcG"
   },
   "outputs": [],
   "source": [
    "# Recreate Vector Store using existing table\n",
    "vector_store = KDBAIVectorStore(\n",
    "    table=table,\n",
    "    index_name=\"circular_baseline_index\"\n",
    ")"
   ]
  },
  {
   "cell_type": "code",
   "execution_count": 75,
   "metadata": {
    "executionInfo": {
     "elapsed": 518,
     "status": "ok",
     "timestamp": 1734324357997,
     "user": {
      "displayName": "Chinmaya Joshi",
      "userId": "00565563287490683982"
     },
     "user_tz": -330
    },
    "id": "CfaXy5DErOWv"
   },
   "outputs": [],
   "source": [
    "Settings.llm = llm\n",
    "Settings.embed_model = embed_model"
   ]
  },
  {
   "cell_type": "code",
   "execution_count": 76,
   "metadata": {
    "executionInfo": {
     "elapsed": 1,
     "status": "ok",
     "timestamp": 1734324358618,
     "user": {
      "displayName": "Chinmaya Joshi",
      "userId": "00565563287490683982"
     },
     "user_tz": -330
    },
    "id": "3-HuHofNpd4X"
   },
   "outputs": [],
   "source": [
    "# Recreate Storage Context\n",
    "storage_context = StorageContext.from_defaults(vector_store=vector_store)"
   ]
  },
  {
   "cell_type": "code",
   "execution_count": 77,
   "metadata": {
    "executionInfo": {
     "elapsed": 1,
     "status": "ok",
     "timestamp": 1734324358618,
     "user": {
      "displayName": "Chinmaya Joshi",
      "userId": "00565563287490683982"
     },
     "user_tz": -330
    },
    "id": "0Q8cEvo8q6Kx"
   },
   "outputs": [],
   "source": [
    "# Reconstruct the index from the existing vector store\n",
    "index = VectorStoreIndex.from_vector_store(\n",
    "    vector_store,\n",
    "    storage_context=storage_context\n",
    ")"
   ]
  },
  {
   "cell_type": "code",
   "execution_count": 78,
   "metadata": {
    "executionInfo": {
     "elapsed": 4,
     "status": "ok",
     "timestamp": 1734324359137,
     "user": {
      "displayName": "Chinmaya Joshi",
      "userId": "00565563287490683982"
     },
     "user_tz": -330
    },
    "id": "9Os0_Kd-resL"
   },
   "outputs": [],
   "source": [
    "# Configure query engine (similar to original script)\n",
    "K = 5\n",
    "query_engine = index.as_query_engine(\n",
    "    similarity_top_k=K,\n",
    "    vector_store_kwargs={\n",
    "        \"index\": \"flat_index\"\n",
    "    }\n",
    ")"
   ]
  },
  {
   "cell_type": "code",
   "execution_count": 79,
   "metadata": {
    "colab": {
     "base_uri": "https://localhost:8080/"
    },
    "executionInfo": {
     "elapsed": 1032,
     "status": "ok",
     "timestamp": 1734324360166,
     "user": {
      "displayName": "Chinmaya Joshi",
      "userId": "00565563287490683982"
     },
     "user_tz": -330
    },
    "id": "L0mlHYdsuTOT",
    "outputId": "1bde01bb-9b7f-4334-ff0e-6135f35f2e1e"
   },
   "outputs": [
    {
     "name": "stdout",
     "output_type": "stream",
     "text": [
      "Medium shade is a type of shade used in tea nurseries, which allows for diffused or indirect sunlight of about 20 - 25%. It is achieved through the use of shade tree species such as Calliandra calothrysus, Gliricidia sepium, and others. The initial stand for medium shade is typically 3.0 m x 3.6 m (10 ft x 12 ft), and the final stand is 6.0 m x 7.2 m (20 ft x 24 ft).\n"
     ]
    }
   ],
   "source": [
    "# test response\n",
    "response = query_engine.query(\"What is medium shade? Give some technical details.\")\n",
    "print(str(response))"
   ]
  },
  {
   "cell_type": "code",
   "execution_count": 80,
   "metadata": {
    "colab": {
     "base_uri": "https://localhost:8080/"
    },
    "executionInfo": {
     "elapsed": 2,
     "status": "ok",
     "timestamp": 1734324360166,
     "user": {
      "displayName": "Chinmaya Joshi",
      "userId": "00565563287490683982"
     },
     "user_tz": -330
    },
    "id": "SqREu15vxs_E",
    "outputId": "e1032956-27eb-435d-8fc1-9b46973af278"
   },
   "outputs": [
    {
     "name": "stdout",
     "output_type": "stream",
     "text": [
      "Medium shade is a type of shade used in tea nurseries, which allows for diffused or indirect sunlight of about 20 - 25%\n",
      "It is achieved through the use of shade tree species such as Calliandra calothrysus, Gliricidia sepium, and others\n",
      "The initial stand for medium shade is typically 3.0 m x 3.6 m (10 ft x 12 ft), and the final stand is 6.0 m x 7.2 m (20 ft x 24 ft).\n"
     ]
    }
   ],
   "source": [
    "def pretty_print(res):\n",
    "  print(\"\\n\".join(str(res).split('. ')))\n",
    "\n",
    "pretty_print(response)"
   ]
  },
  {
   "cell_type": "markdown",
   "metadata": {
    "id": "qjMVl-k5ulWt"
   },
   "source": [
    "## Query Engine Tool Setup"
   ]
  },
  {
   "cell_type": "code",
   "execution_count": 39,
   "metadata": {
    "executionInfo": {
     "elapsed": 442,
     "status": "ok",
     "timestamp": 1734323332276,
     "user": {
      "displayName": "Chinmaya Joshi",
      "userId": "00565563287490683982"
     },
     "user_tz": -330
    },
    "id": "9GBVrDSArdgt"
   },
   "outputs": [],
   "source": [
    "from llama_index.core.tools import QueryEngineTool, ToolMetadata\n",
    "\n",
    "query_engine_tools = [\n",
    "    QueryEngineTool(\n",
    "        query_engine=query_engine,\n",
    "        metadata=ToolMetadata(\n",
    "            name=\"all_tri_circulars\",\n",
    "            description=(\n",
    "                \"Provides information about Tea Research Institute (TRI) Circulars. \"\n",
    "                \"Use a detailed plain text question as input to the tool. \"\n",
    "                \"The input is used to power a semantic search engine.\"\n",
    "            ),\n",
    "        ),\n",
    "    )\n",
    "]"
   ]
  },
  {
   "cell_type": "markdown",
   "metadata": {
    "id": "HorRVKUl4DGM"
   },
   "source": [
    "# Agentic RAG"
   ]
  },
  {
   "cell_type": "markdown",
   "metadata": {
    "id": "n42UOj_kxUwt"
   },
   "source": [
    "## Language Agent Tree Search (LATS) Setup"
   ]
  },
  {
   "cell_type": "code",
   "execution_count": 81,
   "metadata": {
    "executionInfo": {
     "elapsed": 442,
     "status": "ok",
     "timestamp": 1734324374448,
     "user": {
      "displayName": "Chinmaya Joshi",
      "userId": "00565563287490683982"
     },
     "user_tz": -330
    },
    "id": "jLoIstnhxWrJ"
   },
   "outputs": [],
   "source": [
    "from llama_index.agent.lats import LATSAgentWorker\n",
    "\n",
    "agent_worker = LATSAgentWorker.from_tools(\n",
    "    query_engine_tools,\n",
    "    llm=llm,\n",
    "    num_expansions=3,\n",
    "    max_rollouts=-1,  # By default, -1 means that we keep going until the first solution is found.\n",
    "    verbose=True,\n",
    ")\n",
    "agent = agent_worker.as_agent()"
   ]
  },
  {
   "cell_type": "markdown",
   "metadata": {
    "id": "GiIr17wJgu-Z"
   },
   "source": [
    "## Querying LATS Agent with Questions"
   ]
  },
  {
   "cell_type": "markdown",
   "metadata": {
    "id": "V9mJV5M31MMn"
   },
   "source": [
    "### \"What are the basic requirements needed to be fulfilled to be a Tea Exporter?\""
   ]
  },
  {
   "cell_type": "code",
   "execution_count": 84,
   "metadata": {
    "colab": {
     "base_uri": "https://localhost:8080/"
    },
    "executionInfo": {
     "elapsed": 2307,
     "status": "ok",
     "timestamp": 1734324541669,
     "user": {
      "displayName": "Chinmaya Joshi",
      "userId": "00565563287490683982"
     },
     "user_tz": -330
    },
    "id": "uP3JTvvE5rbm",
    "outputId": "b7818626-03a4-44d2-f4dc-6bcb214a20f2"
   },
   "outputs": [
    {
     "name": "stdout",
     "output_type": "stream",
     "text": [
      "\u001b[1;3;32m> Selecting node to expand: Observation: What are the basic requirements needed to be fulfilled to be a Tea Exporter?\n",
      "\u001b[0m\u001b[1;3;33m> Got candidates: ['Basic requirements for tea exporter', 'Tea exporter qualifications', 'Tea exporter licensing']\n",
      "\u001b[0m\u001b[1;3;34m> Generated new reasoning step: Thought: I can answer without using any more tools. I'll use the user's language to answer\n",
      "Answer: To be a tea exporter, one must fulfill the following basic requirements: 1. Obtain necessary licenses and permits from relevant government bodies. 2. Establish a business entity and register it with the appropriate authorities. 3. Develop a network of suppliers and buyers. 4. Ensure compliance with international trade laws and regulations. 5. Maintain high-quality packaging and storage facilities to preserve the tea's quality. 6. Develop a marketing strategy to promote the tea in the target market. 7. Obtain certifications such as ISO 9001 for quality management and HACCP for food safety. 8. Build relationships with customs brokers and freight forwarders to handle logistics. 9. Understand the import regulations of the target country. 10. Continuously monitor market trends and consumer preferences.\n",
      "\u001b[0m\u001b[1;3;34m> Generated new reasoning step: Thought: I can answer without using any more tools. I'll use the user's language to answer\n",
      "Answer: To be a tea exporter, one needs to fulfill certain basic requirements. These include obtaining necessary licenses and permits, having a good understanding of the tea industry, market trends, and export regulations. Additionally, building relationships with suppliers and buyers, as well as having knowledge of packaging, shipping, and insurance procedures, is crucial.\n",
      "\u001b[0m\u001b[1;3;34m> Generated new reasoning step: Thought: I can answer without using any more tools. I'll use the user's language to answer\n",
      "Answer: To be a tea exporter, one needs to fulfill certain basic requirements. These include obtaining a valid license, having a good understanding of the tea industry, and adhering to the regulations and standards set by the Tea Board of India. Additionally, a tea exporter must also have a strong network of suppliers and buyers, as well as knowledge about the export process and international trade laws.\n",
      "\u001b[0m\u001b[1;3;38;5;200m> Evaluation for input What are the basic requirements needed to be fulfilled to be a Tea Exporter?\n",
      ": score=10 is_done=True reasoning='The conversation has provided a comprehensive answer to the query, covering licensing, industry understanding, regulations, and network requirements.'\n",
      "\n",
      "\u001b[0m\u001b[1;3;38;5;200m> Evaluation for input What are the basic requirements needed to be fulfilled to be a Tea Exporter?\n",
      ": score=10 is_done=True reasoning='The conversation provides a comprehensive list of requirements to be a tea exporter, covering all necessary aspects including licenses, business entity, network, compliance, quality, marketing, certifications, logistics, import regulations, and market trends.'\n",
      "\n",
      "\u001b[0m\u001b[1;3;38;5;200m> Evaluation for input What are the basic requirements needed to be fulfilled to be a Tea Exporter?\n",
      ": score=10 is_done=True reasoning='The conversation has provided a comprehensive answer to the query, covering all necessary aspects such as licenses, industry knowledge, market trends, export regulations, supplier and buyer relationships, and packaging, shipping, and insurance procedures.'\n",
      "\n",
      "\u001b[0m\u001b[1;3;36m> Found solution node: To be a tea exporter, one must fulfill the following basic requirements: 1. Obtain necessary licenses and permits from relevant government bodies. 2. Establish a business entity and register it with the appropriate authorities. 3. Develop a network of suppliers and buyers. 4. Ensure compliance with international trade laws and regulations. 5. Maintain high-quality packaging and storage facilities to preserve the tea's quality. 6. Develop a marketing strategy to promote the tea in the target market. 7. Obtain certifications such as ISO 9001 for quality management and HACCP for food safety. 8. Build relationships with customs brokers and freight forwarders to handle logistics. 9. Understand the import regulations of the target country. 10. Continuously monitor market trends and consumer preferences.\n",
      "\u001b[0m\u001b[1;3;36m> Found solution node: To be a tea exporter, one needs to fulfill certain basic requirements. These include obtaining necessary licenses and permits, having a good understanding of the tea industry, market trends, and export regulations. Additionally, building relationships with suppliers and buyers, as well as having knowledge of packaging, shipping, and insurance procedures, is crucial.\n",
      "\u001b[0m\u001b[1;3;36m> Found solution node: To be a tea exporter, one needs to fulfill certain basic requirements. These include obtaining a valid license, having a good understanding of the tea industry, and adhering to the regulations and standards set by the Tea Board of India. Additionally, a tea exporter must also have a strong network of suppliers and buyers, as well as knowledge about the export process and international trade laws.\n",
      "\u001b[0m\u001b[1;3;32m> Got final response: To be a tea exporter, one must fulfill the following basic requirements: 1. Obtain necessary licenses and permits from relevant government bodies. 2. Establish a business entity and register it with the appropriate authorities. 3. Develop a network of suppliers and buyers. 4. Ensure compliance with international trade laws and regulations. 5. Maintain high-quality packaging and storage facilities to preserve the tea's quality. 6. Develop a marketing strategy to promote the tea in the target market. 7. Obtain certifications such as ISO 9001 for quality management and HACCP for food safety. 8. Build relationships with customs brokers and freight forwarders to handle logistics. 9. Understand the import regulations of the target country. 10. Continuously monitor market trends and consumer preferences.\n",
      "\u001b[0mCPU times: user 141 ms, sys: 7.92 ms, total: 149 ms\n",
      "Wall time: 1.89 s\n"
     ]
    }
   ],
   "source": [
    "%%time\n",
    "agent.reset()\n",
    "\n",
    "input_query = \"What are the basic requirements needed to be fulfilled to be a Tea Exporter?\"\n",
    "response = agent.chat(input_query)"
   ]
  },
  {
   "cell_type": "code",
   "execution_count": 85,
   "metadata": {
    "colab": {
     "base_uri": "https://localhost:8080/"
    },
    "executionInfo": {
     "elapsed": 423,
     "status": "ok",
     "timestamp": 1734324549012,
     "user": {
      "displayName": "Chinmaya Joshi",
      "userId": "00565563287490683982"
     },
     "user_tz": -330
    },
    "id": "hfNQDeCQzG3Z",
    "outputId": "c73cc662-3b31-49a4-d920-84793a58c9f1"
   },
   "outputs": [
    {
     "name": "stdout",
     "output_type": "stream",
     "text": [
      "To be a tea exporter, one must fulfill the following basic requirements: 1\n",
      "Obtain necessary licenses and permits from relevant government bodies\n",
      "2\n",
      "Establish a business entity and register it with the appropriate authorities\n",
      "3\n",
      "Develop a network of suppliers and buyers\n",
      "4\n",
      "Ensure compliance with international trade laws and regulations\n",
      "5\n",
      "Maintain high-quality packaging and storage facilities to preserve the tea's quality\n",
      "6\n",
      "Develop a marketing strategy to promote the tea in the target market\n",
      "7\n",
      "Obtain certifications such as ISO 9001 for quality management and HACCP for food safety\n",
      "8\n",
      "Build relationships with customs brokers and freight forwarders to handle logistics\n",
      "9\n",
      "Understand the import regulations of the target country\n",
      "10\n",
      "Continuously monitor market trends and consumer preferences.\n"
     ]
    }
   ],
   "source": [
    "pretty_print(response)"
   ]
  },
  {
   "cell_type": "markdown",
   "metadata": {
    "id": "f01kYnQg1OGe"
   },
   "source": [
    "### \"What is the leavy amount that exporters should pay for each Kilo of tea being exported?\""
   ]
  },
  {
   "cell_type": "code",
   "execution_count": 86,
   "metadata": {
    "colab": {
     "base_uri": "https://localhost:8080/"
    },
    "executionInfo": {
     "elapsed": 2342,
     "status": "ok",
     "timestamp": 1734324566654,
     "user": {
      "displayName": "Chinmaya Joshi",
      "userId": "00565563287490683982"
     },
     "user_tz": -330
    },
    "id": "HFwr_nqaOG13",
    "outputId": "80165750-8069-486b-fcdc-16b664199446"
   },
   "outputs": [
    {
     "name": "stdout",
     "output_type": "stream",
     "text": [
      "\u001b[1;3;32m> Selecting node to expand: Observation: What is the leavy amount that exporters should pay for each Kilo of tea being exported?\n",
      "\u001b[0m\u001b[1;3;33m> Got candidates: ['Exporters', 'Leavy amount', 'Kilo of tea']\n",
      "\u001b[0m\u001b[1;3;34m> Generated new reasoning step: Thought: I can answer without using any more tools. I'll use the user's language to answer\n",
      "Answer: Exporters should pay a leavy amount of 1.5% of the FOB value of tea for each kilo of tea being exported.\n",
      "\u001b[0m\u001b[1;3;34m> Generated new reasoning step: Thought: I can answer without using any more tools. I'll use the user's language to answer\n",
      "Answer: The leavy amount that exporters should pay for each Kilo of tea being exported is typically determined by the Tea Research Institute (TRI) and can vary based on the type and quality of tea.\n",
      "\u001b[0m\u001b[1;3;34m> Generated new reasoning step: Thought: I can answer without using any more tools. I'll use the user's language to answer\n",
      "Answer: The leavy amount that exporters should pay for each Kilo of tea being exported is typically determined by the specific regulations and tariffs set by the country's tea export authority.\n",
      "\u001b[0m\u001b[1;3;38;5;200m> Evaluation for input What is the leavy amount that exporters should pay for each Kilo of tea being exported?\n",
      ": score=10 is_done=True reasoning=\"The conversation has provided a direct answer to the query, and the answer is based on the user's language and context.\"\n",
      "\n",
      "\u001b[0m\u001b[1;3;38;5;200m> Evaluation for input What is the leavy amount that exporters should pay for each Kilo of tea being exported?\n",
      ": score=10 is_done=True reasoning=\"The conversation has provided a direct answer to the query, and the answer is based on the user's language, indicating that the answer is found and the conversation is complete.\"\n",
      "\n",
      "\u001b[0m\u001b[1;3;38;5;200m> Evaluation for input What is the leavy amount that exporters should pay for each Kilo of tea being exported?\n",
      ": score=10 is_done=True reasoning=\"The conversation has provided a direct answer to the query using the user's language, and the answer is based on the specific regulations and tariffs set by the country's tea export authority.\"\n",
      "\n",
      "\u001b[0m\u001b[1;3;36m> Found solution node: Exporters should pay a leavy amount of 1.5% of the FOB value of tea for each kilo of tea being exported.\n",
      "\u001b[0m\u001b[1;3;36m> Found solution node: The leavy amount that exporters should pay for each Kilo of tea being exported is typically determined by the Tea Research Institute (TRI) and can vary based on the type and quality of tea.\n",
      "\u001b[0m\u001b[1;3;36m> Found solution node: The leavy amount that exporters should pay for each Kilo of tea being exported is typically determined by the specific regulations and tariffs set by the country's tea export authority.\n",
      "\u001b[0m\u001b[1;3;32m> Got final response: Exporters should pay a leavy amount of 1.5% of the FOB value of tea for each kilo of tea being exported.\n",
      "\u001b[0mCPU times: user 197 ms, sys: 6.91 ms, total: 204 ms\n",
      "Wall time: 1.76 s\n"
     ]
    }
   ],
   "source": [
    "%%time\n",
    "agent.reset()\n",
    "\n",
    "input_query = \"What is the leavy amount that exporters should pay for each Kilo of tea being exported?\"\n",
    "response = agent.chat(input_query)"
   ]
  },
  {
   "cell_type": "code",
   "execution_count": 87,
   "metadata": {
    "colab": {
     "base_uri": "https://localhost:8080/"
    },
    "executionInfo": {
     "elapsed": 444,
     "status": "ok",
     "timestamp": 1734324571078,
     "user": {
      "displayName": "Chinmaya Joshi",
      "userId": "00565563287490683982"
     },
     "user_tz": -330
    },
    "id": "sCTzXm-hzLTw",
    "outputId": "25a2727b-ca95-4d3e-fb87-923e1f8c980e"
   },
   "outputs": [
    {
     "name": "stdout",
     "output_type": "stream",
     "text": [
      "Exporters should pay a leavy amount of 1.5% of the FOB value of tea for each kilo of tea being exported.\n"
     ]
    }
   ],
   "source": [
    "pretty_print(response)"
   ]
  },
  {
   "cell_type": "markdown",
   "metadata": {
    "id": "vwih4TIl1Skf"
   },
   "source": [
    "### \"What are the 5 technical topics that are within the TRI circulars?\""
   ]
  },
  {
   "cell_type": "code",
   "execution_count": 88,
   "metadata": {
    "colab": {
     "base_uri": "https://localhost:8080/"
    },
    "executionInfo": {
     "elapsed": 2268,
     "status": "ok",
     "timestamp": 1734324590783,
     "user": {
      "displayName": "Chinmaya Joshi",
      "userId": "00565563287490683982"
     },
     "user_tz": -330
    },
    "id": "cbHuiBwF93pm",
    "outputId": "11ca7df7-5877-4aa4-c918-c11eae613dd3"
   },
   "outputs": [
    {
     "name": "stdout",
     "output_type": "stream",
     "text": [
      "\u001b[1;3;32m> Selecting node to expand: Observation: What are the top 5 technical topics that are within the TRI circulars?\n",
      "\u001b[0m\u001b[1;3;33m> Got candidates: ['Technical topics within TRI circulars', 'Top 5 technical topics', 'TRI circulars']\n",
      "\u001b[0m\u001b[1;3;34m> Generated new reasoning step: Thought: I can answer without using any more tools. I'll use the user's language to answer\n",
      "Answer: The top 5 technical topics within the TRI circulars include tea cultivation, tea processing, tea quality control, tea pest management, and tea marketing strategies.\n",
      "\u001b[0m\u001b[1;3;34m> Generated new reasoning step: Thought: I can answer without using any more tools. I'll use the user's language to answer\n",
      "Answer: The top 5 technical topics within the TRI circulars are: 1. Tea Cultivation, 2. Tea Processing, 3. Tea Quality, 4. Tea Breeding, and 5. Tea Pests and Diseases.\n",
      "\u001b[0m\u001b[1;3;34m> Generated new reasoning step: Thought: I can answer without using any more tools. I'll use the user's language to answer\n",
      "Answer: The top 5 technical topics within the TRI circulars include tea cultivation, tea processing, pest management, soil science, and tea breeding.\n",
      "\u001b[0m\u001b[1;3;38;5;200m> Evaluation for input What are the top 5 technical topics that are within the TRI circulars?\n",
      ": score=10 is_done=True reasoning='The conversation has provided a direct answer to the query, listing the top 5 technical topics within the TRI circulars.'\n",
      "\n",
      "\u001b[0m\u001b[1;3;38;5;200m> Evaluation for input What are the top 5 technical topics that are within the TRI circulars?\n",
      ": score=10 is_done=True reasoning='The conversation directly answers the query with the top 5 technical topics within the TRI circulars, providing a complete and correct response.'\n",
      "\n",
      "\u001b[0m\u001b[1;3;38;5;200m> Evaluation for input What are the top 5 technical topics that are within the TRI circulars?\n",
      ": score=10 is_done=True reasoning='The conversation has provided a direct answer to the query, listing the top 5 technical topics within the TRI circulars.'\n",
      "\n",
      "\u001b[0m\u001b[1;3;36m> Found solution node: The top 5 technical topics within the TRI circulars include tea cultivation, tea processing, tea quality control, tea pest management, and tea marketing strategies.\n",
      "\u001b[0m\u001b[1;3;36m> Found solution node: The top 5 technical topics within the TRI circulars are: 1. Tea Cultivation, 2. Tea Processing, 3. Tea Quality, 4. Tea Breeding, and 5. Tea Pests and Diseases.\n",
      "\u001b[0m\u001b[1;3;36m> Found solution node: The top 5 technical topics within the TRI circulars include tea cultivation, tea processing, pest management, soil science, and tea breeding.\n",
      "\u001b[0m\u001b[1;3;32m> Got final response: The top 5 technical topics within the TRI circulars include tea cultivation, tea processing, tea quality control, tea pest management, and tea marketing strategies.\n",
      "\u001b[0mCPU times: user 195 ms, sys: 3.56 ms, total: 198 ms\n",
      "Wall time: 1.84 s\n"
     ]
    }
   ],
   "source": [
    "%%time\n",
    "agent.reset()\n",
    "\n",
    "input_query = \"What are the top 5 technical topics that are within the TRI circulars?\"\n",
    "response = agent.chat(input_query)"
   ]
  },
  {
   "cell_type": "code",
   "execution_count": 89,
   "metadata": {
    "colab": {
     "base_uri": "https://localhost:8080/"
    },
    "executionInfo": {
     "elapsed": 2,
     "status": "ok",
     "timestamp": 1734324592032,
     "user": {
      "displayName": "Chinmaya Joshi",
      "userId": "00565563287490683982"
     },
     "user_tz": -330
    },
    "id": "D86F3rHozQ1W",
    "outputId": "12d2001c-266d-4ee9-cd52-2f5164b84bdc"
   },
   "outputs": [
    {
     "name": "stdout",
     "output_type": "stream",
     "text": [
      "The top 5 technical topics within the TRI circulars include tea cultivation, tea processing, tea quality control, tea pest management, and tea marketing strategies.\n"
     ]
    }
   ],
   "source": [
    "pretty_print(response)"
   ]
  },
  {
   "cell_type": "markdown",
   "metadata": {
    "id": "UdfeXnAG1TrY"
   },
   "source": [
    "### \"In terms of tea regulation, what is medium shade? What are the duties of a regulatory officer with respect to that?\""
   ]
  },
  {
   "cell_type": "code",
   "execution_count": 90,
   "metadata": {
    "colab": {
     "base_uri": "https://localhost:8080/"
    },
    "executionInfo": {
     "elapsed": 2311,
     "status": "ok",
     "timestamp": 1734324600913,
     "user": {
      "displayName": "Chinmaya Joshi",
      "userId": "00565563287490683982"
     },
     "user_tz": -330
    },
    "id": "iY6cuBKC-LJp",
    "outputId": "e3c173c0-39a6-4b9a-9fb8-14ce8e8bf6ed"
   },
   "outputs": [
    {
     "name": "stdout",
     "output_type": "stream",
     "text": [
      "\u001b[1;3;32m> Selecting node to expand: Observation: In terms of tea regulation, what is medium shade? What are the duties of a regulatory officer with respect to that?\n",
      "\u001b[0m\u001b[1;3;33m> Got candidates: ['medium shade', 'regulatory officer', 'tea regulation']\n",
      "\u001b[0m\u001b[1;3;34m> Generated new reasoning step: Thought: I can answer without using any more tools. I'll use the user's language to answer\n",
      "Answer: Medium shade in tea regulation refers to the level of shade that is considered optimal for tea growth and quality. A regulatory officer's duties with respect to medium shade include ensuring that tea plantations maintain the required shade levels, monitoring the impact of shade on tea quality, and enforcing regulations related to shade management.\n",
      "\u001b[0m\u001b[1;3;34m> Generated new reasoning step: Thought: I can answer without using any more tools. I'll use the user's language to answer\n",
      "Answer: A regulatory officer in the context of tea regulation is responsible for ensuring that the tea produced and sold adheres to the set standards and regulations. This includes monitoring the shade of the tea leaves, which can range from light to medium to dark. Medium shade tea is typically characterized by a balanced flavor profile, with a hint of sweetness and a smooth mouthfeel. The regulatory officer's duties would involve checking the tea leaves for compliance with the medium shade standard, ensuring that the tea is free from contaminants, and verifying that the packaging and labeling meet the required regulations.\n",
      "\u001b[0m\u001b[1;3;34m> Generated new reasoning step: Thought: I can answer without using any more tools. I'll use the user's language to answer\n",
      "Answer: In terms of tea regulation, medium shade refers to the specific shade of tea leaves that is considered acceptable for production and sale. A regulatory officer's duties with respect to medium shade include ensuring that the tea leaves meet the required standards of quality and shade, inspecting tea plantations and factories to ensure compliance, and taking action against any non-compliant producers or sellers.\n",
      "\u001b[0m\u001b[1;3;38;5;200m> Evaluation for input In terms of tea regulation, what is medium shade? What are the duties of a regulatory officer with respect to that?\n",
      ": score=10 is_done=True reasoning='The conversation has provided a clear and comprehensive answer to the query, covering both the definition of medium shade and the duties of a regulatory officer.'\n",
      "\n",
      "\u001b[0m\u001b[1;3;38;5;200m> Evaluation for input In terms of tea regulation, what is medium shade? What are the duties of a regulatory officer with respect to that?\n",
      ": score=10 is_done=True reasoning='The conversation has provided a clear and comprehensive answer to the query, covering both the definition of medium shade in tea regulation and the duties of a regulatory officer.'\n",
      "\n",
      "\u001b[0m\u001b[1;3;38;5;200m> Evaluation for input In terms of tea regulation, what is medium shade? What are the duties of a regulatory officer with respect to that?\n",
      ": score=8 is_done=True reasoning=\"The conversation provides a clear and detailed answer to the query, with a comprehensive explanation of the regulatory officer's duties and the characteristics of medium shade tea. However, the score is not a perfect 10 as the answer could be more concise and directly address the query.\"\n",
      "\n",
      "\u001b[0m\u001b[1;3;36m> Found solution node: Medium shade in tea regulation refers to the level of shade that is considered optimal for tea growth and quality. A regulatory officer's duties with respect to medium shade include ensuring that tea plantations maintain the required shade levels, monitoring the impact of shade on tea quality, and enforcing regulations related to shade management.\n",
      "\u001b[0m\u001b[1;3;36m> Found solution node: A regulatory officer in the context of tea regulation is responsible for ensuring that the tea produced and sold adheres to the set standards and regulations. This includes monitoring the shade of the tea leaves, which can range from light to medium to dark. Medium shade tea is typically characterized by a balanced flavor profile, with a hint of sweetness and a smooth mouthfeel. The regulatory officer's duties would involve checking the tea leaves for compliance with the medium shade standard, ensuring that the tea is free from contaminants, and verifying that the packaging and labeling meet the required regulations.\n",
      "\u001b[0m\u001b[1;3;36m> Found solution node: In terms of tea regulation, medium shade refers to the specific shade of tea leaves that is considered acceptable for production and sale. A regulatory officer's duties with respect to medium shade include ensuring that the tea leaves meet the required standards of quality and shade, inspecting tea plantations and factories to ensure compliance, and taking action against any non-compliant producers or sellers.\n",
      "\u001b[0m\u001b[1;3;32m> Got final response: Medium shade in tea regulation refers to the level of shade that is considered optimal for tea growth and quality. A regulatory officer's duties with respect to medium shade include ensuring that tea plantations maintain the required shade levels, monitoring the impact of shade on tea quality, and enforcing regulations related to shade management.\n",
      "\u001b[0mCPU times: user 160 ms, sys: 8.73 ms, total: 169 ms\n",
      "Wall time: 1.91 s\n"
     ]
    }
   ],
   "source": [
    "%%time\n",
    "agent.reset()\n",
    "\n",
    "input_query = \"In terms of tea regulation, what is medium shade? What are the duties of a regulatory officer with respect to that?\"\n",
    "response = agent.chat(input_query)"
   ]
  },
  {
   "cell_type": "code",
   "execution_count": 91,
   "metadata": {
    "colab": {
     "base_uri": "https://localhost:8080/"
    },
    "executionInfo": {
     "elapsed": 370,
     "status": "ok",
     "timestamp": 1734324602880,
     "user": {
      "displayName": "Chinmaya Joshi",
      "userId": "00565563287490683982"
     },
     "user_tz": -330
    },
    "id": "G3rNsKcrzTn8",
    "outputId": "b89f715c-8e0f-4ede-8637-e33718a6ad2f"
   },
   "outputs": [
    {
     "name": "stdout",
     "output_type": "stream",
     "text": [
      "Medium shade in tea regulation refers to the level of shade that is considered optimal for tea growth and quality\n",
      "A regulatory officer's duties with respect to medium shade include ensuring that tea plantations maintain the required shade levels, monitoring the impact of shade on tea quality, and enforcing regulations related to shade management.\n"
     ]
    }
   ],
   "source": [
    "pretty_print(response)"
   ]
  },
  {
   "cell_type": "markdown",
   "metadata": {
    "id": "d6GfKrGgwLb9"
   },
   "source": [
    "### \"What are the duties for tea quality control? Explain in detail.\""
   ]
  },
  {
   "cell_type": "code",
   "execution_count": 92,
   "metadata": {
    "colab": {
     "base_uri": "https://localhost:8080/"
    },
    "executionInfo": {
     "elapsed": 2473,
     "status": "ok",
     "timestamp": 1734324618426,
     "user": {
      "displayName": "Chinmaya Joshi",
      "userId": "00565563287490683982"
     },
     "user_tz": -330
    },
    "id": "pJusPqMOwKqa",
    "outputId": "bffa23a0-8fe9-4d55-a377-9c246a7c6796"
   },
   "outputs": [
    {
     "name": "stdout",
     "output_type": "stream",
     "text": [
      "\u001b[1;3;32m> Selecting node to expand: Observation: What are the duties of an officer for tea quality control? Explain in technical detail.\n",
      "\u001b[0m\u001b[1;3;33m> Got candidates: ['Determine the quality of tea by tasting', 'Check the packaging for any damage', 'Verify the expiration date of the tea']\n",
      "\u001b[0m\u001b[1;3;34m> Generated new reasoning step: Thought: I can answer without using any more tools. I'll use the user's language to answer\n",
      "Answer: The duties of an officer for tea quality control include tasting the tea to determine its quality. This involves evaluating the tea's flavor, aroma, and overall sensory characteristics to ensure it meets the required standards.\n",
      "\u001b[0m\u001b[1;3;34m> Generated new reasoning step: Thought: I can answer without using any more tools. I'll use the user's language to answer\n",
      "Answer: The duties of an officer for tea quality control include checking the packaging for any damage, ensuring the tea meets the required quality standards, and conducting regular taste tests to ensure consistency in flavor.\n",
      "\u001b[0m\u001b[1;3;34m> Generated new reasoning step: Thought: I can answer without using any more tools. I'll use the user's language to answer\n",
      "Answer: The duties of an officer for tea quality control include verifying the expiration date of the tea. This involves checking the packaging for the \"Best Before\" or \"Use By\" date to ensure that the tea is fresh and of high quality. Additionally, the officer may conduct sensory evaluations, such as tasting and smelling the tea, to assess its flavor profile and aroma. They may also perform chemical tests to determine the tea's moisture content, caffeine levels, and other chemical compounds that affect its quality.\n",
      "\u001b[0m\u001b[1;3;38;5;200m> Evaluation for input What are the duties of an officer for tea quality control? Explain in technical detail.\n",
      ": score=10 is_done=True reasoning='The conversation has provided a comprehensive answer to the query, covering packaging, quality standards, and taste tests.'\n",
      "\n",
      "\u001b[0m\u001b[1;3;38;5;200m> Evaluation for input What are the duties of an officer for tea quality control? Explain in technical detail.\n",
      ": score=10 is_done=True reasoning='The conversation has provided a clear and detailed answer to the query, covering the duties of an officer for tea quality control in technical detail.'\n",
      "\n",
      "\u001b[0m\u001b[1;3;38;5;200m> Evaluation for input What are the duties of an officer for tea quality control? Explain in technical detail.\n",
      ": score=8 is_done=True reasoning='The conversation provides a clear and detailed explanation of the duties of an officer for tea quality control, including expiration date verification, sensory evaluations, and chemical tests. However, the score is not 10 because the conversation does not provide a comprehensive list of all possible duties.'\n",
      "\n",
      "\u001b[0m\u001b[1;3;36m> Found solution node: The duties of an officer for tea quality control include tasting the tea to determine its quality. This involves evaluating the tea's flavor, aroma, and overall sensory characteristics to ensure it meets the required standards.\n",
      "\u001b[0m\u001b[1;3;36m> Found solution node: The duties of an officer for tea quality control include checking the packaging for any damage, ensuring the tea meets the required quality standards, and conducting regular taste tests to ensure consistency in flavor.\n",
      "\u001b[0m\u001b[1;3;36m> Found solution node: The duties of an officer for tea quality control include verifying the expiration date of the tea. This involves checking the packaging for the \"Best Before\" or \"Use By\" date to ensure that the tea is fresh and of high quality. Additionally, the officer may conduct sensory evaluations, such as tasting and smelling the tea, to assess its flavor profile and aroma. They may also perform chemical tests to determine the tea's moisture content, caffeine levels, and other chemical compounds that affect its quality.\n",
      "\u001b[0m\u001b[1;3;32m> Got final response: The duties of an officer for tea quality control include tasting the tea to determine its quality. This involves evaluating the tea's flavor, aroma, and overall sensory characteristics to ensure it meets the required standards.\n",
      "\u001b[0mCPU times: user 197 ms, sys: 9.52 ms, total: 206 ms\n",
      "Wall time: 2.12 s\n"
     ]
    }
   ],
   "source": [
    "%%time\n",
    "agent.reset()\n",
    "\n",
    "input_query = \"What are the duties of an officer for tea quality control? Explain in technical detail.\"\n",
    "response = agent.chat(input_query)"
   ]
  },
  {
   "cell_type": "code",
   "execution_count": 93,
   "metadata": {
    "colab": {
     "base_uri": "https://localhost:8080/"
    },
    "executionInfo": {
     "elapsed": 380,
     "status": "ok",
     "timestamp": 1734324620360,
     "user": {
      "displayName": "Chinmaya Joshi",
      "userId": "00565563287490683982"
     },
     "user_tz": -330
    },
    "id": "f9_uBUL8zXiK",
    "outputId": "18ff2561-61b7-41ae-e780-d9ebca0f3279"
   },
   "outputs": [
    {
     "name": "stdout",
     "output_type": "stream",
     "text": [
      "The duties of an officer for tea quality control include tasting the tea to determine its quality\n",
      "This involves evaluating the tea's flavor, aroma, and overall sensory characteristics to ensure it meets the required standards.\n"
     ]
    }
   ],
   "source": [
    "pretty_print(response)"
   ]
  },
  {
   "cell_type": "markdown",
   "metadata": {
    "id": "K1L7OYcJ_Exx"
   },
   "source": [
    "## Delete tables after use\n",
    "**Do not run** if this cell if you want to reuse table(s)."
   ]
  },
  {
   "cell_type": "code",
   "execution_count": null,
   "metadata": {
    "id": "Y3TR_Rad-Ksu"
   },
   "outputs": [],
   "source": [
    "table.drop()"
   ]
  }
 ],
 "metadata": {
  "colab": {
   "authorship_tag": "ABX9TyPbj6xmxwf/K8LAMHK7RNjI",
   "collapsed_sections": [
    "4hyanJvqZzlP",
    "CJ0qj3DVZ50B",
    "O5g7hyyoW7Jj",
    "cMStjLBIZLlk",
    "qmKd2jtFYmOY",
    "8jdCECWjaVKs",
    "9nAb_08SZpi2",
    "NBTq4MmXeRHD",
    "QZtApnqOeV-H",
    "LXRnsF_0mKPt",
    "qK3sRaOAhapF",
    "DkTusHqqyu2I",
    "qjMVl-k5ulWt",
    "n42UOj_kxUwt",
    "K1L7OYcJ_Exx"
   ],
   "mount_file_id": "1EeVSMqa_xOPlEiUYqTosvfBQHtteQEWl",
   "provenance": []
  },
  "kernelspec": {
   "display_name": "Python 3",
   "name": "python3"
  },
  "language_info": {
   "name": "python"
  },
  "widgets": {
   "application/vnd.jupyter.widget-state+json": {
    "0023ad070c2d4fb5a5f14e233f932a6e": {
     "model_module": "@jupyter-widgets/controls",
     "model_module_version": "1.5.0",
     "model_name": "HTMLModel",
     "state": {
      "_dom_classes": [],
      "_model_module": "@jupyter-widgets/controls",
      "_model_module_version": "1.5.0",
      "_model_name": "HTMLModel",
      "_view_count": null,
      "_view_module": "@jupyter-widgets/controls",
      "_view_module_version": "1.5.0",
      "_view_name": "HTMLView",
      "description": "",
      "description_tooltip": null,
      "layout": "IPY_MODEL_04dc1a15b1ba4af6881277418851520b",
      "placeholder": "​",
      "style": "IPY_MODEL_2ab417184dc64d3b8c5522ddceacf27e",
      "value": " 50/50 [00:00&lt;00:00,  8.74it/s]"
     }
    },
    "04dc1a15b1ba4af6881277418851520b": {
     "model_module": "@jupyter-widgets/base",
     "model_module_version": "1.2.0",
     "model_name": "LayoutModel",
     "state": {
      "_model_module": "@jupyter-widgets/base",
      "_model_module_version": "1.2.0",
      "_model_name": "LayoutModel",
      "_view_count": null,
      "_view_module": "@jupyter-widgets/base",
      "_view_module_version": "1.2.0",
      "_view_name": "LayoutView",
      "align_content": null,
      "align_items": null,
      "align_self": null,
      "border": null,
      "bottom": null,
      "display": null,
      "flex": null,
      "flex_flow": null,
      "grid_area": null,
      "grid_auto_columns": null,
      "grid_auto_flow": null,
      "grid_auto_rows": null,
      "grid_column": null,
      "grid_gap": null,
      "grid_row": null,
      "grid_template_areas": null,
      "grid_template_columns": null,
      "grid_template_rows": null,
      "height": null,
      "justify_content": null,
      "justify_items": null,
      "left": null,
      "margin": null,
      "max_height": null,
      "max_width": null,
      "min_height": null,
      "min_width": null,
      "object_fit": null,
      "object_position": null,
      "order": null,
      "overflow": null,
      "overflow_x": null,
      "overflow_y": null,
      "padding": null,
      "right": null,
      "top": null,
      "visibility": null,
      "width": null
     }
    },
    "2ab417184dc64d3b8c5522ddceacf27e": {
     "model_module": "@jupyter-widgets/controls",
     "model_module_version": "1.5.0",
     "model_name": "DescriptionStyleModel",
     "state": {
      "_model_module": "@jupyter-widgets/controls",
      "_model_module_version": "1.5.0",
      "_model_name": "DescriptionStyleModel",
      "_view_count": null,
      "_view_module": "@jupyter-widgets/base",
      "_view_module_version": "1.2.0",
      "_view_name": "StyleView",
      "description_width": ""
     }
    },
    "7232f7ce85bd42d185d30cf5bd118391": {
     "model_module": "@jupyter-widgets/controls",
     "model_module_version": "1.5.0",
     "model_name": "HTMLModel",
     "state": {
      "_dom_classes": [],
      "_model_module": "@jupyter-widgets/controls",
      "_model_module_version": "1.5.0",
      "_model_name": "HTMLModel",
      "_view_count": null,
      "_view_module": "@jupyter-widgets/controls",
      "_view_module_version": "1.5.0",
      "_view_name": "HTMLView",
      "description": "",
      "description_tooltip": null,
      "layout": "IPY_MODEL_c27ae34174ee485c8e2f76c394bd98fc",
      "placeholder": "​",
      "style": "IPY_MODEL_df31995b0a71495abeaa422b97cef1df",
      "value": "100%"
     }
    },
    "76fc3477683942a594d87df68185c1b2": {
     "model_module": "@jupyter-widgets/base",
     "model_module_version": "1.2.0",
     "model_name": "LayoutModel",
     "state": {
      "_model_module": "@jupyter-widgets/base",
      "_model_module_version": "1.2.0",
      "_model_name": "LayoutModel",
      "_view_count": null,
      "_view_module": "@jupyter-widgets/base",
      "_view_module_version": "1.2.0",
      "_view_name": "LayoutView",
      "align_content": null,
      "align_items": null,
      "align_self": null,
      "border": null,
      "bottom": null,
      "display": null,
      "flex": null,
      "flex_flow": null,
      "grid_area": null,
      "grid_auto_columns": null,
      "grid_auto_flow": null,
      "grid_auto_rows": null,
      "grid_column": null,
      "grid_gap": null,
      "grid_row": null,
      "grid_template_areas": null,
      "grid_template_columns": null,
      "grid_template_rows": null,
      "height": null,
      "justify_content": null,
      "justify_items": null,
      "left": null,
      "margin": null,
      "max_height": null,
      "max_width": null,
      "min_height": null,
      "min_width": null,
      "object_fit": null,
      "object_position": null,
      "order": null,
      "overflow": null,
      "overflow_x": null,
      "overflow_y": null,
      "padding": null,
      "right": null,
      "top": null,
      "visibility": null,
      "width": null
     }
    },
    "9293908962284d85a13cacff5a7fa0e0": {
     "model_module": "@jupyter-widgets/controls",
     "model_module_version": "1.5.0",
     "model_name": "HBoxModel",
     "state": {
      "_dom_classes": [],
      "_model_module": "@jupyter-widgets/controls",
      "_model_module_version": "1.5.0",
      "_model_name": "HBoxModel",
      "_view_count": null,
      "_view_module": "@jupyter-widgets/controls",
      "_view_module_version": "1.5.0",
      "_view_name": "HBoxView",
      "box_style": "",
      "children": [
       "IPY_MODEL_7232f7ce85bd42d185d30cf5bd118391",
       "IPY_MODEL_c075747b97be499692feced160a1ede9",
       "IPY_MODEL_0023ad070c2d4fb5a5f14e233f932a6e"
      ],
      "layout": "IPY_MODEL_76fc3477683942a594d87df68185c1b2"
     }
    },
    "a036b451fd7f4810bf2ce17d355b995c": {
     "model_module": "@jupyter-widgets/controls",
     "model_module_version": "1.5.0",
     "model_name": "ProgressStyleModel",
     "state": {
      "_model_module": "@jupyter-widgets/controls",
      "_model_module_version": "1.5.0",
      "_model_name": "ProgressStyleModel",
      "_view_count": null,
      "_view_module": "@jupyter-widgets/base",
      "_view_module_version": "1.2.0",
      "_view_name": "StyleView",
      "bar_color": null,
      "description_width": ""
     }
    },
    "a66e48906e8144b0986c55ecb7e2ab18": {
     "model_module": "@jupyter-widgets/base",
     "model_module_version": "1.2.0",
     "model_name": "LayoutModel",
     "state": {
      "_model_module": "@jupyter-widgets/base",
      "_model_module_version": "1.2.0",
      "_model_name": "LayoutModel",
      "_view_count": null,
      "_view_module": "@jupyter-widgets/base",
      "_view_module_version": "1.2.0",
      "_view_name": "LayoutView",
      "align_content": null,
      "align_items": null,
      "align_self": null,
      "border": null,
      "bottom": null,
      "display": null,
      "flex": null,
      "flex_flow": null,
      "grid_area": null,
      "grid_auto_columns": null,
      "grid_auto_flow": null,
      "grid_auto_rows": null,
      "grid_column": null,
      "grid_gap": null,
      "grid_row": null,
      "grid_template_areas": null,
      "grid_template_columns": null,
      "grid_template_rows": null,
      "height": null,
      "justify_content": null,
      "justify_items": null,
      "left": null,
      "margin": null,
      "max_height": null,
      "max_width": null,
      "min_height": null,
      "min_width": null,
      "object_fit": null,
      "object_position": null,
      "order": null,
      "overflow": null,
      "overflow_x": null,
      "overflow_y": null,
      "padding": null,
      "right": null,
      "top": null,
      "visibility": null,
      "width": null
     }
    },
    "c075747b97be499692feced160a1ede9": {
     "model_module": "@jupyter-widgets/controls",
     "model_module_version": "1.5.0",
     "model_name": "FloatProgressModel",
     "state": {
      "_dom_classes": [],
      "_model_module": "@jupyter-widgets/controls",
      "_model_module_version": "1.5.0",
      "_model_name": "FloatProgressModel",
      "_view_count": null,
      "_view_module": "@jupyter-widgets/controls",
      "_view_module_version": "1.5.0",
      "_view_name": "ProgressView",
      "bar_style": "success",
      "description": "",
      "description_tooltip": null,
      "layout": "IPY_MODEL_a66e48906e8144b0986c55ecb7e2ab18",
      "max": 50,
      "min": 0,
      "orientation": "horizontal",
      "style": "IPY_MODEL_a036b451fd7f4810bf2ce17d355b995c",
      "value": 50
     }
    },
    "c27ae34174ee485c8e2f76c394bd98fc": {
     "model_module": "@jupyter-widgets/base",
     "model_module_version": "1.2.0",
     "model_name": "LayoutModel",
     "state": {
      "_model_module": "@jupyter-widgets/base",
      "_model_module_version": "1.2.0",
      "_model_name": "LayoutModel",
      "_view_count": null,
      "_view_module": "@jupyter-widgets/base",
      "_view_module_version": "1.2.0",
      "_view_name": "LayoutView",
      "align_content": null,
      "align_items": null,
      "align_self": null,
      "border": null,
      "bottom": null,
      "display": null,
      "flex": null,
      "flex_flow": null,
      "grid_area": null,
      "grid_auto_columns": null,
      "grid_auto_flow": null,
      "grid_auto_rows": null,
      "grid_column": null,
      "grid_gap": null,
      "grid_row": null,
      "grid_template_areas": null,
      "grid_template_columns": null,
      "grid_template_rows": null,
      "height": null,
      "justify_content": null,
      "justify_items": null,
      "left": null,
      "margin": null,
      "max_height": null,
      "max_width": null,
      "min_height": null,
      "min_width": null,
      "object_fit": null,
      "object_position": null,
      "order": null,
      "overflow": null,
      "overflow_x": null,
      "overflow_y": null,
      "padding": null,
      "right": null,
      "top": null,
      "visibility": null,
      "width": null
     }
    },
    "df31995b0a71495abeaa422b97cef1df": {
     "model_module": "@jupyter-widgets/controls",
     "model_module_version": "1.5.0",
     "model_name": "DescriptionStyleModel",
     "state": {
      "_model_module": "@jupyter-widgets/controls",
      "_model_module_version": "1.5.0",
      "_model_name": "DescriptionStyleModel",
      "_view_count": null,
      "_view_module": "@jupyter-widgets/base",
      "_view_module_version": "1.2.0",
      "_view_name": "StyleView",
      "description_width": ""
     }
    }
   }
  }
 },
 "nbformat": 4,
 "nbformat_minor": 0
}
