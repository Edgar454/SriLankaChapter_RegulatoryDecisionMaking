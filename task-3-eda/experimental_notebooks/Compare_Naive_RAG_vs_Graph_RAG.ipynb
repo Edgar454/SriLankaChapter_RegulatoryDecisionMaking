{
  "nbformat": 4,
  "nbformat_minor": 0,
  "metadata": {
    "colab": {
      "provenance": [],
      "authorship_tag": "ABX9TyPaijCW4dAEKg/3UX9KJAMp",
      "include_colab_link": true
    },
    "kernelspec": {
      "name": "python3",
      "display_name": "Python 3"
    },
    "language_info": {
      "name": "python"
    }
  },
  "cells": [
    {
      "cell_type": "markdown",
      "metadata": {
        "id": "view-in-github",
        "colab_type": "text"
      },
      "source": [
        "<a href=\"https://colab.research.google.com/github/OmdenaAI/SriLankaChapter_RegulatoryDecisionMaking/blob/main/task-3-eda/experimental_notebooks/Compare_Naive_RAG_vs_Graph_RAG.ipynb\" target=\"_parent\"><img src=\"https://colab.research.google.com/assets/colab-badge.svg\" alt=\"Open In Colab\"/></a>"
      ]
    },
    {
      "cell_type": "markdown",
      "source": [
        "# This notebook does the following:\n",
        "  1. Take 3 pdf files assciated with Sri lanka Tea industry regulations as the input dataset to keep things simple.\n",
        "  2. All the 3 pdf files are guidelines.\n",
        "  3. Builds a naive RAG using vector database chroma and openai API (model: gpt-4o-mini)\n",
        "  4. Asks the naive RAG a set of questions\n",
        "  5. Builds a graph RAG using graph database neo4j and openai API (model: gpt-4o-mini). Uses cypher query to query the knowledge graphs.\n",
        "  6. Asks the graph RAG same set of questions"
      ],
      "metadata": {
        "id": "Y7naTXP4ttAD"
      }
    },
    {
      "cell_type": "markdown",
      "source": [
        "# **Naive RAG (with vector database chroma)**"
      ],
      "metadata": {
        "id": "zYmBnzA5X7vD"
      }
    },
    {
      "cell_type": "markdown",
      "source": [],
      "metadata": {
        "id": "WfYCY9B2tqjg"
      }
    },
    {
      "cell_type": "markdown",
      "source": [
        "Try with just 3 pdf files associated with Sri lanka Tea industry regulations to start with. The pdf files are all guidelines."
      ],
      "metadata": {
        "id": "tq1UBVfMlP7l"
      }
    },
    {
      "cell_type": "code",
      "execution_count": 37,
      "metadata": {
        "id": "smrrepsVeWri",
        "colab": {
          "base_uri": "https://localhost:8080/"
        },
        "outputId": "c9efccf2-853c-47b3-dfd0-9a252f84dabb"
      },
      "outputs": [
        {
          "output_type": "execute_result",
          "data": {
            "text/plain": [
              "7"
            ]
          },
          "metadata": {},
          "execution_count": 37
        }
      ],
      "source": [
        "# Load dataset i.e pdf files\n",
        "!pip install -Uq langchain-community pypdf\n",
        "from langchain_community.document_loaders import PyPDFLoader\n",
        "\n",
        "pdf_files = [\"https://www.tri.lk/wp-content/uploads/2020/02/TRISL_Guideline_03_2019e_Dec2019.pdf\",\n",
        "             \"https://www.tri.lk/wp-content/uploads/2023/05/TRISL_Guideline_05_2018_E.pdf\",\n",
        "             \"https://www.tri.lk/wp-content/uploads/2023/05/TRISL_Guideline_01_2020_E.pdf\"]\n",
        "\n",
        "pdf_docs = []\n",
        "for pdf_file in pdf_files:\n",
        "    loader = PyPDFLoader(pdf_file)\n",
        "    pdf_docs.extend(loader.load())\n",
        "\n",
        "len(pdf_docs)"
      ]
    },
    {
      "cell_type": "markdown",
      "source": [
        "Chunk the dataset"
      ],
      "metadata": {
        "id": "KpEqkDt8lhhL"
      }
    },
    {
      "cell_type": "code",
      "source": [
        "#Chunk the dataset\n",
        "!pip install -Uq langchain_text_splitters\n",
        "from langchain_text_splitters import RecursiveCharacterTextSplitter\n",
        "\n",
        "text_splitter = RecursiveCharacterTextSplitter(\n",
        "   chunk_size=5000,\n",
        "   chunk_overlap=500,\n",
        "   length_function=len,\n",
        "   separators=[\"\\n\\n\", \"\\n\", \" \", \"\"],\n",
        ")\n",
        "\n",
        "text_content = \"\".join([doc.page_content for doc in pdf_docs])\n",
        "print(\"Length of text content: \", len(text_content))\n",
        "\n",
        "text_chunks = text_splitter.split_text(text_content)\n",
        "print(\"Num of text chunks: \", len(text_chunks))"
      ],
      "metadata": {
        "id": "fozcepE3sJJT",
        "colab": {
          "base_uri": "https://localhost:8080/"
        },
        "outputId": "50769e11-3461-4fbf-a56d-6b1d0bc68030"
      },
      "execution_count": 38,
      "outputs": [
        {
          "output_type": "stream",
          "name": "stdout",
          "text": [
            "Length of text content:  15272\n",
            "Num of text chunks:  4\n"
          ]
        }
      ]
    },
    {
      "cell_type": "markdown",
      "source": [
        "Create vector representation/embeddings for the text chunks"
      ],
      "metadata": {
        "id": "-UNWwNsE42uW"
      }
    },
    {
      "cell_type": "code",
      "source": [
        "# Creat embeddings for the chunks and look at one of chunks\n",
        "!pip install -Uq langchain_openai\n",
        "import openai\n",
        "from langchain_openai import OpenAIEmbeddings\n",
        "\n",
        "from google.colab import userdata\n",
        "openai.api_key = userdata.get('OPENAI_API_KEY')\n",
        "\n",
        "embeddings = OpenAIEmbeddings(api_key=openai.api_key)\n",
        "embedded_chunks = embeddings.embed_documents(text_chunks)\n",
        "\n",
        "# Print the first embedded chunk to see its structure\n",
        "print(f\"Length of the first embedded chunk: {len(embedded_chunks[0])}\")\n",
        "print(f\"First few values of the first embedded chunk: {embedded_chunks[0][:3]}\")"
      ],
      "metadata": {
        "colab": {
          "base_uri": "https://localhost:8080/"
        },
        "id": "1mMV2UPPu7s_",
        "outputId": "257a9fa7-31fd-4ddb-8f9a-796a72f76765"
      },
      "execution_count": 39,
      "outputs": [
        {
          "output_type": "stream",
          "name": "stdout",
          "text": [
            "Length of the first embedded chunk: 1536\n",
            "First few values of the first embedded chunk: [-0.013750607147812843, -0.013898174278438091, -0.020887507125735283]\n"
          ]
        }
      ]
    },
    {
      "cell_type": "markdown",
      "source": [
        "Store embeddings/vector representations in a vector database"
      ],
      "metadata": {
        "id": "RSwlKtt4mjRh"
      }
    },
    {
      "cell_type": "code",
      "source": [
        "#Create embeddings for chunks and store in a vector database chroma\n",
        "!pip install -Uq langchain_chroma\n",
        "from langchain_chroma import Chroma\n",
        "from langchain.docstore.document import Document # import Document class\n",
        "\n",
        "documents = [Document(page_content=text_chunk) for text_chunk in text_chunks]\n",
        "db = Chroma.from_documents(documents, OpenAIEmbeddings(api_key=openai.api_key))"
      ],
      "metadata": {
        "id": "f8Nwy9yYoV1E"
      },
      "execution_count": 41,
      "outputs": []
    },
    {
      "cell_type": "markdown",
      "source": [
        "Create a prompt for the naive RAG"
      ],
      "metadata": {
        "id": "HpGSnGRynLuS"
      }
    },
    {
      "cell_type": "code",
      "source": [
        "#Build a prompt for the RAG\n",
        "from langchain.prompts import PromptTemplate\n",
        "RAG_PROMPT_TEMPLATE = \"\"\"\n",
        "You are a helpful coding assistant that can answer questions about the provided context.\n",
        "The context is usually a PDF document(s) or a text document(s).\n",
        "Augment your answers with snippets from the context if necessary.\n",
        "\n",
        "If you don't know the answer, say you don't know.\n",
        "\n",
        "Context: {context}\n",
        "Question: {question}\n",
        "\"\"\"\n",
        "PROMPT = PromptTemplate.from_template(RAG_PROMPT_TEMPLATE)"
      ],
      "metadata": {
        "id": "6F_UmgwmzxoY"
      },
      "execution_count": 42,
      "outputs": []
    },
    {
      "cell_type": "markdown",
      "source": [
        "Chain a RAG chain, that chains together the retrieved docs/question, prompt, llm and output formatting"
      ],
      "metadata": {
        "id": "bPVtgh4BnXmW"
      }
    },
    {
      "cell_type": "code",
      "source": [
        "# Define a function to create a rag chain consisting of retrieved docs/question, prompt, llm and output formatting\n",
        "from langchain_core.output_parsers import StrOutputParser\n",
        "from langchain.chat_models import ChatOpenAI\n",
        "from langchain_core.runnables import RunnablePassthrough\n",
        "\n",
        "def format_docs(docs):\n",
        "    return \"\\n\\n\".join(doc.page_content for doc in docs)\n",
        "\n",
        "def create_rag_chain(chunks):\n",
        "    documents = [Document(page_content=chunk) for chunk in chunks]\n",
        "    embeddings = OpenAIEmbeddings(api_key = openai.api_key)\n",
        "    chroma_db = Chroma.from_documents(documents, embeddings)\n",
        "    retriever = chroma_db.as_retriever(\n",
        "        search_type=\"similarity\", search_kwargs={\"k\": 5}\n",
        "    )\n",
        "    llm = ChatOpenAI(model_name=\"gpt-4o-mini\", temperature=0, openai_api_key = openai.api_key)\n",
        "\n",
        "    rag_chain = (\n",
        "        {\"context\": retriever | format_docs, \"question\": RunnablePassthrough()}\n",
        "        | PROMPT\n",
        "        | llm\n",
        "        | StrOutputParser()\n",
        "    )\n",
        "\n",
        "    return rag_chain\n",
        "\n",
        "rag_chain = create_rag_chain(text_chunks)"
      ],
      "metadata": {
        "id": "29T5px7P2GaG"
      },
      "execution_count": 43,
      "outputs": []
    },
    {
      "cell_type": "markdown",
      "source": [
        "Use the RAG chain to ask a set of questions"
      ],
      "metadata": {
        "id": "T-XDSxmsnyDR"
      }
    },
    {
      "cell_type": "code",
      "source": [
        "query = \"What does mechanization aim to do?\"\n",
        "print(rag_chain.invoke(query))"
      ],
      "metadata": {
        "colab": {
          "base_uri": "https://localhost:8080/"
        },
        "id": "DyxWBUyYG_Nw",
        "outputId": "ddecb0d1-2fc0-4fd3-9a4f-063ac211e853"
      },
      "execution_count": 44,
      "outputs": [
        {
          "output_type": "stream",
          "name": "stdout",
          "text": [
            "Mechanization in agriculture aims to accomplish several key objectives, which include:\n",
            "\n",
            "1. **Increase worker productivity**: By using machines, the efficiency of labor can be enhanced.\n",
            "2. **Reduce cost of production**: Mechanization can help lower the overall costs associated with agricultural production.\n",
            "3. **Improve product quality**: The use of machines can lead to more consistent and higher quality outputs.\n",
            "4. **Ease manual operations**: Mechanization can reduce the physical strain on workers by automating labor-intensive tasks.\n",
            "5. **Complete tasks timely**: Machines can perform operations faster than manual labor, ensuring that tasks are completed within optimal time frames.\n",
            "6. **Change worker attitudes**: The introduction of mechanization can shift perceptions about agricultural work, potentially making it more appealing.\n",
            "\n",
            "These objectives are particularly relevant in the context of the tea sector, which is facing a labor shortage, making mechanization a necessary consideration.\n"
          ]
        }
      ]
    },
    {
      "cell_type": "code",
      "source": [
        "query = \"What are the benefits of mechanization\"\n",
        "print(rag_chain.invoke(query))"
      ],
      "metadata": {
        "colab": {
          "base_uri": "https://localhost:8080/"
        },
        "id": "mvEpxMrwLYZ8",
        "outputId": "51cf6b2e-2ad6-4ea7-dc1a-682dd300357d"
      },
      "execution_count": 45,
      "outputs": [
        {
          "output_type": "stream",
          "name": "stdout",
          "text": [
            "The benefits of mechanization in tea plantations, as outlined in the guidelines, include:\n",
            "\n",
            "1. **Increased Worker Productivity**: Mechanization allows tasks to be completed more efficiently, thereby enhancing the overall productivity of workers.\n",
            "\n",
            "2. **Reduced Cost of Production**: By utilizing machines, the reliance on manual labor can be decreased, which can lead to lower production costs.\n",
            "\n",
            "3. **Improved Product Quality**: Mechanization can help in maintaining consistent quality in the production process.\n",
            "\n",
            "4. **Eased Manual Operations**: Machines can take over labor-intensive tasks, making operations easier for workers.\n",
            "\n",
            "5. **Timely Completion of Tasks**: Mechanization enables operations to be completed more quickly, ensuring that tasks are done within the required time frames.\n",
            "\n",
            "6. **Changed Worker Attitudes**: The introduction of mechanization can lead to a shift in how workers perceive their roles, potentially increasing job satisfaction and efficiency.\n",
            "\n",
            "These objectives highlight the importance of mechanization in addressing labor shortages and improving the efficiency of tea production.\n"
          ]
        }
      ]
    },
    {
      "cell_type": "code",
      "source": [
        "query = \"Which planting system is better for sri lanka? Single row planting or double hedge row planting?\"\n",
        "print(rag_chain.invoke(query))"
      ],
      "metadata": {
        "id": "tcVkU-5aR0KI",
        "colab": {
          "base_uri": "https://localhost:8080/"
        },
        "outputId": "02d4dfd0-a526-4f8d-b096-729bed7766ec"
      },
      "execution_count": 46,
      "outputs": [
        {
          "output_type": "stream",
          "name": "stdout",
          "text": [
            "The double hedge-row planting system is considered better for Sri Lanka, especially for facilitating mechanization of field operations. The guidelines state that the conventional single-row planting system at a spacing of 0.6 m x 1.2 m (2 feet x 4 feet) limits the use and efficiency of machines. In contrast, the double hedge-row planting system, which has a spacing of 0.6 m x 0.6 m x 1.5 m (2 feet x 2 feet x 5 feet), is more amenable to mechanization of post-planting tea field operations.\n",
            "\n",
            "This system is commonly practiced in other tea-growing countries like Japan and China and allows for the mechanization of most labor-intensive field operations, such as harvesting. The guidelines emphasize that this planting system is particularly suitable for flat and undulating lands and can help address the acute worker shortage faced by the tea sector in Sri Lanka. \n",
            "\n",
            "In summary, the double hedge-row planting system is recommended for its advantages in mechanization and efficiency in tea cultivation in Sri Lanka.\n"
          ]
        }
      ]
    },
    {
      "cell_type": "code",
      "source": [
        "query = \"When was the guideline for mechanization of field operations published and also what is that guideline number?\"\n",
        "print(rag_chain.invoke(query))\n"
      ],
      "metadata": {
        "colab": {
          "base_uri": "https://localhost:8080/"
        },
        "id": "ZukPMOHsXYRF",
        "outputId": "4f74efc1-560f-4bdd-a1b6-2782f0230c98"
      },
      "execution_count": 47,
      "outputs": [
        {
          "output_type": "stream",
          "name": "stdout",
          "text": [
            "The guideline for the establishment of tea to facilitate mechanization of field operations was published in December 2019, and the guideline number is 03/2019.\n"
          ]
        }
      ]
    },
    {
      "cell_type": "code",
      "source": [
        "query = \"Where is Tea REsearch institute of Sri lanka located in?\"\n",
        "print(rag_chain.invoke(query))"
      ],
      "metadata": {
        "colab": {
          "base_uri": "https://localhost:8080/"
        },
        "id": "anFSPRkBqyJy",
        "outputId": "e7284b72-2764-41a3-b5a9-261316c28320"
      },
      "execution_count": 48,
      "outputs": [
        {
          "output_type": "stream",
          "name": "stdout",
          "text": [
            "The Tea Research Institute of Sri Lanka is located in Talawakelle, Sri Lanka.\n"
          ]
        }
      ]
    },
    {
      "cell_type": "code",
      "source": [
        "query = \"What organization is located in Talawakelle?\"\n",
        "print(rag_chain.invoke(query))"
      ],
      "metadata": {
        "colab": {
          "base_uri": "https://localhost:8080/"
        },
        "id": "CQsS16xrq62f",
        "outputId": "3e9d5ece-2173-4816-83a6-7d2a7367462d"
      },
      "execution_count": 49,
      "outputs": [
        {
          "output_type": "stream",
          "name": "stdout",
          "text": [
            "The organization located in Talawakelle is the Tea Research Institute of Sri Lanka.\n"
          ]
        }
      ]
    },
    {
      "cell_type": "code",
      "source": [
        "query = \"Provide me the list of guidelines that Tea research institute of sri lanka has issued\"\n",
        "print(rag_chain.invoke(query))"
      ],
      "metadata": {
        "colab": {
          "base_uri": "https://localhost:8080/"
        },
        "id": "oDQyuiLqsFFm",
        "outputId": "a2ff4166-c4da-49f9-f827-b5af3c5cdf37"
      },
      "execution_count": 50,
      "outputs": [
        {
          "output_type": "stream",
          "name": "stdout",
          "text": [
            "The Tea Research Institute of Sri Lanka has issued the following guidelines:\n",
            "\n",
            "1. **Guideline No: 03/2019** - Guidelines for Establishment of Tea to Facilitate Mechanization of Field Operations (Issued in December 2019).\n",
            "2. **Guideline No: 05/2018** - Guideline on Irrigation of Tea Fields (Issued in December 2018). \n",
            "\n",
            "These guidelines address the mechanization of tea plantations and irrigation techniques for tea fields, respectively.\n"
          ]
        }
      ]
    },
    {
      "cell_type": "code",
      "source": [
        "query = \"Give me a numerical count of guidelines that Tea research institute of sri lanka has issued\"\n",
        "print(rag_chain.invoke(query))"
      ],
      "metadata": {
        "colab": {
          "base_uri": "https://localhost:8080/"
        },
        "id": "5amXd4jCseCk",
        "outputId": "e3cd2f84-771f-4407-8769-287a90745655"
      },
      "execution_count": 51,
      "outputs": [
        {
          "output_type": "stream",
          "name": "stdout",
          "text": [
            "The Tea Research Institute of Sri Lanka has issued at least two guidelines based on the provided context:\n",
            "\n",
            "1. Guideline No: 03/2019 - Guidelines for Establishment of Tea to Facilitate Mechanization of Field Operations (Issued in December 2019).\n",
            "2. Guideline No: 05/2018 - Guideline on Irrigation of Tea Fields (Issued in December 2018).\n",
            "\n",
            "Therefore, the numerical count of guidelines is **2**.\n"
          ]
        }
      ]
    },
    {
      "cell_type": "markdown",
      "source": [
        "## Graph RAG (with graph database neo4j)"
      ],
      "metadata": {
        "id": "y1LIjiTJYICL"
      }
    },
    {
      "cell_type": "markdown",
      "source": [
        "Transform the text chunks into their corresponding knowledge graphs"
      ],
      "metadata": {
        "id": "zYTPpm4toz1c"
      }
    },
    {
      "cell_type": "code",
      "source": [
        "# Transform the text_chunks into knowledge graph\n",
        "!pip install -Uq langchain_experimental\n",
        "# !pip install -Uq json-repair\n",
        "from langchain_experimental.graph_transformers import LLMGraphTransformer\n",
        "from langchain_core.documents import Document\n",
        "import time\n",
        "\n",
        "llm = ChatOpenAI(model_name=\"gpt-4o-mini\", temperature=0, openai_api_key = openai.api_key)\n",
        "llm_transformer = LLMGraphTransformer(llm=llm)\n",
        "\n",
        "graph_documents = []\n",
        "\n",
        "for text_chunk in text_chunks:\n",
        "    document = [Document(page_content=text_chunk)]\n",
        "    try:\n",
        "      graph_documents.extend(llm_transformer.convert_to_graph_documents(document))\n",
        "    except Exception as e:\n",
        "      print(f\"Error processing chunk: {e}\")\n",
        "\n",
        "    time.sleep(2) # Adjust the delay as needed to avoid rate limiting\n"
      ],
      "metadata": {
        "id": "AZeqdBD2ZDQJ"
      },
      "execution_count": 52,
      "outputs": []
    },
    {
      "cell_type": "markdown",
      "source": [
        "Store the generated knowledge graphs into neo4j graph database. The knowledge graphs can be visualized using neo4j browser. Visit https://neo4j.com/ for creating neo4j instance and accessing the neo4j browser"
      ],
      "metadata": {
        "id": "c0C6IZfDp9ss"
      }
    },
    {
      "cell_type": "code",
      "source": [
        "# Store the generated graph documents into a neo4j graph database\n",
        "!pip install -Uq langchain-community\n",
        "!pip install -Uq neo4j\n",
        "\n",
        "## Credentials for accessing neo4j graph database. An instance of neo4j database\n",
        "# needs to be created on-premise or on the cloud. For this notebook, cloud instance\n",
        "# has been created.\n",
        "from google.colab import userdata\n",
        "NEO4J_URI=userdata.get('NEO4J_URI')\n",
        "NEO4J_USERNAME=\"neo4j\"\n",
        "NEO4J_PASSWORD= userdata.get('NEO4J_API_KEY')\n",
        "\n",
        "#Instantiate an instance of neo4j graph database\n",
        "from langchain_community.graphs import Neo4jGraph\n",
        "graph=Neo4jGraph(\n",
        "    url=NEO4J_URI,\n",
        "    username=NEO4J_USERNAME,\n",
        "    password=NEO4J_PASSWORD,\n",
        ")\n",
        "\n",
        "graph.add_graph_documents(\n",
        "    graph_documents,\n",
        "    baseEntityLabel= True,\n",
        "    include_source=True)"
      ],
      "metadata": {
        "id": "Y4pRNLGYi4zz"
      },
      "execution_count": 53,
      "outputs": []
    },
    {
      "cell_type": "markdown",
      "source": [
        "Look into nodes and relationships of a knowledge graph. The knowledge graphs can be visuzlied using neo4j browser"
      ],
      "metadata": {
        "id": "5M955JNWsV9R"
      }
    },
    {
      "cell_type": "code",
      "source": [
        "len(graph_documents)"
      ],
      "metadata": {
        "colab": {
          "base_uri": "https://localhost:8080/"
        },
        "id": "FcabjBCCrmEm",
        "outputId": "9c307d99-79ce-4506-9e0d-c2c9a650d21a"
      },
      "execution_count": 61,
      "outputs": [
        {
          "output_type": "execute_result",
          "data": {
            "text/plain": [
              "4"
            ]
          },
          "metadata": {},
          "execution_count": 61
        }
      ]
    },
    {
      "cell_type": "code",
      "source": [
        "graph_documents[0].nodes"
      ],
      "metadata": {
        "colab": {
          "base_uri": "https://localhost:8080/"
        },
        "id": "hoim4HPMr-Bl",
        "outputId": "3cc07bf2-0c1e-44a0-d8f7-5dff5d867081"
      },
      "execution_count": 63,
      "outputs": [
        {
          "output_type": "execute_result",
          "data": {
            "text/plain": [
              "[Node(id='Tea', type='Crop', properties={}),\n",
              " Node(id='change worker attitudes', type='Objective', properties={}),\n",
              " Node(id='Japan', type='Country', properties={}),\n",
              " Node(id='sustainable crop production', type='Goal', properties={}),\n",
              " Node(id='increase worker productivity', type='Objective', properties={}),\n",
              " Node(id='agriculture', type='Field', properties={}),\n",
              " Node(id='complete tasks timely', type='Objective', properties={}),\n",
              " Node(id='ease manual operations', type='Objective', properties={}),\n",
              " Node(id='poor plant growth', type='Effect', properties={}),\n",
              " Node(id='Guideline No: 03/2019', type='Guideline', properties={}),\n",
              " Node(id='high planting density', type='Characteristic', properties={}),\n",
              " Node(id='Tea Research Institute of Sri Lanka', type='Organization', properties={}),\n",
              " Node(id='drought casualties', type='Effect', properties={}),\n",
              " Node(id='Guideline No: 05/2018', type='Guideline', properties={}),\n",
              " Node(id='competition for moisture', type='Effect', properties={}),\n",
              " Node(id='double hedge-row planting system', type='Planting System', properties={}),\n",
              " Node(id='reduce cost of production', type='Objective', properties={}),\n",
              " Node(id='tea plantations', type='Field', properties={}),\n",
              " Node(id='drip and sprinkler irrigation', type='Technique', properties={}),\n",
              " Node(id='irrigation techniques', type='Technique', properties={}),\n",
              " Node(id='improve product quality', type='Objective', properties={}),\n",
              " Node(id='micro irrigation techniques', type='Technique', properties={}),\n",
              " Node(id='mechanization of post-planting tea field operations', type='Process', properties={}),\n",
              " Node(id='hedge-row planting system', type='Planting System', properties={}),\n",
              " Node(id='Mechanization', type='Process', properties={}),\n",
              " Node(id='management of soil moisture levels', type='Process', properties={}),\n",
              " Node(id='China', type='Country', properties={}),\n",
              " Node(id='labour-intensive plantation', type='Characteristic', properties={})]"
            ]
          },
          "metadata": {},
          "execution_count": 63
        }
      ]
    },
    {
      "cell_type": "code",
      "source": [
        "graph_documents[0].relationships"
      ],
      "metadata": {
        "colab": {
          "base_uri": "https://localhost:8080/"
        },
        "id": "DZBR0OZkslyT",
        "outputId": "5ab842d0-8705-4186-9bd3-8090fe28626f"
      },
      "execution_count": 65,
      "outputs": [
        {
          "output_type": "execute_result",
          "data": {
            "text/plain": [
              "[Relationship(source=Node(id='Tea Research Institute of Sri Lanka', type='Organization', properties={}), target=Node(id='Guideline No: 03/2019', type='Guideline', properties={}), type='ISSUED_GUIDELINE', properties={}),\n",
              " Relationship(source=Node(id='Tea Research Institute of Sri Lanka', type='Organization', properties={}), target=Node(id='Guideline No: 05/2018', type='Guideline', properties={}), type='ISSUED_GUIDELINE', properties={}),\n",
              " Relationship(source=Node(id='Tea', type='Crop', properties={}), target=Node(id='labour-intensive plantation', type='Characteristic', properties={}), type='REQUIRES', properties={}),\n",
              " Relationship(source=Node(id='Mechanization', type='Process', properties={}), target=Node(id='agriculture', type='Field', properties={}), type='USED_IN', properties={}),\n",
              " Relationship(source=Node(id='Mechanization', type='Process', properties={}), target=Node(id='increase worker productivity', type='Objective', properties={}), type='AIMS_TO', properties={}),\n",
              " Relationship(source=Node(id='Mechanization', type='Process', properties={}), target=Node(id='reduce cost of production', type='Objective', properties={}), type='AIMS_TO', properties={}),\n",
              " Relationship(source=Node(id='Mechanization', type='Process', properties={}), target=Node(id='improve product quality', type='Objective', properties={}), type='AIMS_TO', properties={}),\n",
              " Relationship(source=Node(id='Mechanization', type='Process', properties={}), target=Node(id='ease manual operations', type='Objective', properties={}), type='AIMS_TO', properties={}),\n",
              " Relationship(source=Node(id='Mechanization', type='Process', properties={}), target=Node(id='complete tasks timely', type='Objective', properties={}), type='AIMS_TO', properties={}),\n",
              " Relationship(source=Node(id='Mechanization', type='Process', properties={}), target=Node(id='change worker attitudes', type='Objective', properties={}), type='AIMS_TO', properties={}),\n",
              " Relationship(source=Node(id='double hedge-row planting system', type='Planting System', properties={}), target=Node(id='Japan', type='Country', properties={}), type='PRACTICED_IN', properties={}),\n",
              " Relationship(source=Node(id='double hedge-row planting system', type='Planting System', properties={}), target=Node(id='China', type='Country', properties={}), type='PRACTICED_IN', properties={}),\n",
              " Relationship(source=Node(id='hedge-row planting system', type='Planting System', properties={}), target=Node(id='mechanization of post-planting tea field operations', type='Process', properties={}), type='FACILITATES', properties={}),\n",
              " Relationship(source=Node(id='high planting density', type='Characteristic', properties={}), target=Node(id='competition for moisture', type='Effect', properties={}), type='RESULTS_IN', properties={}),\n",
              " Relationship(source=Node(id='high planting density', type='Characteristic', properties={}), target=Node(id='poor plant growth', type='Effect', properties={}), type='RESULTS_IN', properties={}),\n",
              " Relationship(source=Node(id='high planting density', type='Characteristic', properties={}), target=Node(id='drought casualties', type='Effect', properties={}), type='RESULTS_IN', properties={}),\n",
              " Relationship(source=Node(id='irrigation techniques', type='Technique', properties={}), target=Node(id='tea plantations', type='Field', properties={}), type='USED_IN', properties={}),\n",
              " Relationship(source=Node(id='micro irrigation techniques', type='Technique', properties={}), target=Node(id='drip and sprinkler irrigation', type='Technique', properties={}), type='INCLUDES', properties={}),\n",
              " Relationship(source=Node(id='management of soil moisture levels', type='Process', properties={}), target=Node(id='sustainable crop production', type='Goal', properties={}), type='PLAYS_ROLE_IN', properties={})]"
            ]
          },
          "metadata": {},
          "execution_count": 65
        }
      ]
    },
    {
      "cell_type": "markdown",
      "source": [
        "Generate cypher query to query the knowledge graph."
      ],
      "metadata": {
        "id": "y-fhvmjAs-UO"
      }
    },
    {
      "cell_type": "code",
      "source": [
        "# Generate cypher query to query the knowledge graph\n",
        "from langchain.chains import GraphCypherQAChain\n",
        "chain=GraphCypherQAChain.from_llm(llm=llm,graph=graph,verbose=True, allow_dangerous_requests=True)"
      ],
      "metadata": {
        "id": "QwoyEoj6k0VY"
      },
      "execution_count": 67,
      "outputs": []
    },
    {
      "cell_type": "markdown",
      "source": [
        "Ask the same set of questions as for the naive RAG and see how the answers differ"
      ],
      "metadata": {
        "id": "2VZEkZOqtGUL"
      }
    },
    {
      "cell_type": "code",
      "source": [
        "# Ask a question\n",
        "response = chain.invoke({\"query\" : \"What are the aims of Mechanization?\"})\n",
        "response"
      ],
      "metadata": {
        "colab": {
          "base_uri": "https://localhost:8080/"
        },
        "id": "cMkFVdhqmcZU",
        "outputId": "9004d0d7-d526-4581-95c2-421a8dac42d9"
      },
      "execution_count": 68,
      "outputs": [
        {
          "output_type": "stream",
          "name": "stdout",
          "text": [
            "\n",
            "\n",
            "\u001b[1m> Entering new GraphCypherQAChain chain...\u001b[0m\n",
            "Generated Cypher:\n",
            "\u001b[32;1m\u001b[1;3mcypher\n",
            "MATCH (p:Process)-[:AIMS_TO]->(o:Objective)\n",
            "WHERE p.id = 'Mechanization'\n",
            "RETURN o\n",
            "\u001b[0m\n",
            "Full Context:\n",
            "\u001b[32;1m\u001b[1;3m[{'o': {'id': 'complete tasks timely'}}, {'o': {'id': 'improve product quality'}}, {'o': {'id': 'reduce cost of production'}}, {'o': {'id': 'change worker attitudes'}}, {'o': {'id': 'increase worker productivity'}}, {'o': {'id': 'ease manual operations'}}]\u001b[0m\n",
            "\n",
            "\u001b[1m> Finished chain.\u001b[0m\n"
          ]
        },
        {
          "output_type": "execute_result",
          "data": {
            "text/plain": [
              "{'query': 'What are the aims of Mechanization?',\n",
              " 'result': 'The aims of Mechanization are to complete tasks timely, improve product quality, reduce cost of production, change worker attitudes, increase worker productivity, and ease manual operations.'}"
            ]
          },
          "metadata": {},
          "execution_count": 68
        }
      ]
    },
    {
      "cell_type": "code",
      "source": [
        "# Ask a question\n",
        "response = chain.invoke({\"query\" : \"What does Mechanization aim to do?\"})\n",
        "response"
      ],
      "metadata": {
        "colab": {
          "base_uri": "https://localhost:8080/"
        },
        "id": "61KMa83Anl1I",
        "outputId": "f941a1c3-8d53-4d9e-de76-433a6ddb080d"
      },
      "execution_count": 69,
      "outputs": [
        {
          "output_type": "stream",
          "name": "stdout",
          "text": [
            "\n",
            "\n",
            "\u001b[1m> Entering new GraphCypherQAChain chain...\u001b[0m\n",
            "Generated Cypher:\n",
            "\u001b[32;1m\u001b[1;3mcypher\n",
            "MATCH (m:Concept {id: 'Mechanization'})-[:AIMS_TO]->(o:Objective)\n",
            "RETURN o\n",
            "\u001b[0m\n",
            "Full Context:\n",
            "\u001b[32;1m\u001b[1;3m[]\u001b[0m\n",
            "\n",
            "\u001b[1m> Finished chain.\u001b[0m\n"
          ]
        },
        {
          "output_type": "execute_result",
          "data": {
            "text/plain": [
              "{'query': 'What does Mechanization aim to do?',\n",
              " 'result': \"I don't know the answer.\"}"
            ]
          },
          "metadata": {},
          "execution_count": 69
        }
      ]
    },
    {
      "cell_type": "code",
      "source": [
        "# Ask a question\n",
        "response = chain.invoke({\"query\" : \"What are the benefits of Mechanization?\"})\n",
        "response"
      ],
      "metadata": {
        "colab": {
          "base_uri": "https://localhost:8080/"
        },
        "id": "SyR4g0uYnbm2",
        "outputId": "d6b74dd6-84de-41c7-98df-38151d164d0b"
      },
      "execution_count": 70,
      "outputs": [
        {
          "output_type": "stream",
          "name": "stdout",
          "text": [
            "\n",
            "\n",
            "\u001b[1m> Entering new GraphCypherQAChain chain...\u001b[0m\n",
            "Generated Cypher:\n",
            "\u001b[32;1m\u001b[1;3mcypher\n",
            "MATCH (d:Document)-[:MENTIONS]->(c:Concept {id: 'Mechanization'}) \n",
            "RETURN d.text AS Benefits\n",
            "\u001b[0m\n",
            "Full Context:\n",
            "\u001b[32;1m\u001b[1;3m[]\u001b[0m\n",
            "\n",
            "\u001b[1m> Finished chain.\u001b[0m\n"
          ]
        },
        {
          "output_type": "execute_result",
          "data": {
            "text/plain": [
              "{'query': 'What are the benefits of Mechanization?',\n",
              " 'result': \"I don't know the answer.\"}"
            ]
          },
          "metadata": {},
          "execution_count": 70
        }
      ]
    },
    {
      "cell_type": "code",
      "source": [
        "# Ask a question\n",
        "response = chain.invoke({\"query\" : \"What are the objectives of Mechanization?\"})\n",
        "response"
      ],
      "metadata": {
        "colab": {
          "base_uri": "https://localhost:8080/"
        },
        "id": "PQ-u7yzEfPPO",
        "outputId": "01828566-ac6a-49cb-ae0d-aa4bc05add4a"
      },
      "execution_count": 71,
      "outputs": [
        {
          "output_type": "stream",
          "name": "stdout",
          "text": [
            "\n",
            "\n",
            "\u001b[1m> Entering new GraphCypherQAChain chain...\u001b[0m\n",
            "Generated Cypher:\n",
            "\u001b[32;1m\u001b[1;3mcypher\n",
            "MATCH (o:Objective)<-[:AIMS_TO]-(p:Process)-[:PLAYS_ROLE_IN]->(:Concept {id: 'Mechanization'})\n",
            "RETURN o\n",
            "\u001b[0m\n",
            "Full Context:\n",
            "\u001b[32;1m\u001b[1;3m[]\u001b[0m\n",
            "\n",
            "\u001b[1m> Finished chain.\u001b[0m\n"
          ]
        },
        {
          "output_type": "execute_result",
          "data": {
            "text/plain": [
              "{'query': 'What are the objectives of Mechanization?',\n",
              " 'result': \"I don't know the answer.\"}"
            ]
          },
          "metadata": {},
          "execution_count": 71
        }
      ]
    },
    {
      "cell_type": "code",
      "source": [
        "# Ask a question\n",
        "response = chain.invoke({\"query\" : \"Which system is better for sri lanka? Single row planting or double hedge row planting?\"})\n",
        "response"
      ],
      "metadata": {
        "colab": {
          "base_uri": "https://localhost:8080/",
          "height": 543
        },
        "id": "Avh5zSCRHNyN",
        "outputId": "c319dbd7-0325-4c1c-d111-a07277aad04e"
      },
      "execution_count": 72,
      "outputs": [
        {
          "output_type": "stream",
          "name": "stdout",
          "text": [
            "\n",
            "\n",
            "\u001b[1m> Entering new GraphCypherQAChain chain...\u001b[0m\n",
            "Generated Cypher:\n",
            "\u001b[32;1m\u001b[1;3mcypher\n",
            "MATCH (ps1:Planting System {id: 'single row planting'})-[:PRACTICED_IN]->(c:Country {id: 'Sri Lanka'}),\n",
            "      (ps2:Planting System {id: 'double hedge row planting'})-[:PRACTICED_IN]->(c)\n",
            "RETURN ps1, ps2\n",
            "\u001b[0m\n"
          ]
        },
        {
          "output_type": "error",
          "ename": "CypherSyntaxError",
          "evalue": "{code: Neo.ClientError.Statement.SyntaxError} {message: Invalid input 'System': expected a parameter, '&', ')', ':', 'WHERE', '{' or '|' (line 2, column 21 (offset: 27))\n\"MATCH (ps1:Planting System {id: 'single row planting'})-[:PRACTICED_IN]->(c:Country {id: 'Sri Lanka'}),\"\n                     ^}",
          "traceback": [
            "\u001b[0;31m---------------------------------------------------------------------------\u001b[0m",
            "\u001b[0;31mCypherSyntaxError\u001b[0m                         Traceback (most recent call last)",
            "\u001b[0;32m<ipython-input-72-89be21da12c6>\u001b[0m in \u001b[0;36m<cell line: 2>\u001b[0;34m()\u001b[0m\n\u001b[1;32m      1\u001b[0m \u001b[0;31m# Ask a question\u001b[0m\u001b[0;34m\u001b[0m\u001b[0;34m\u001b[0m\u001b[0m\n\u001b[0;32m----> 2\u001b[0;31m \u001b[0mresponse\u001b[0m \u001b[0;34m=\u001b[0m \u001b[0mchain\u001b[0m\u001b[0;34m.\u001b[0m\u001b[0minvoke\u001b[0m\u001b[0;34m(\u001b[0m\u001b[0;34m{\u001b[0m\u001b[0;34m\"query\"\u001b[0m \u001b[0;34m:\u001b[0m \u001b[0;34m\"Which system is better for sri lanka? Single row planting or double hedge row planting?\"\u001b[0m\u001b[0;34m}\u001b[0m\u001b[0;34m)\u001b[0m\u001b[0;34m\u001b[0m\u001b[0;34m\u001b[0m\u001b[0m\n\u001b[0m\u001b[1;32m      3\u001b[0m \u001b[0mresponse\u001b[0m\u001b[0;34m\u001b[0m\u001b[0;34m\u001b[0m\u001b[0m\n",
            "\u001b[0;32m/usr/local/lib/python3.10/dist-packages/langchain/chains/base.py\u001b[0m in \u001b[0;36minvoke\u001b[0;34m(self, input, config, **kwargs)\u001b[0m\n\u001b[1;32m    168\u001b[0m         \u001b[0;32mexcept\u001b[0m \u001b[0mBaseException\u001b[0m \u001b[0;32mas\u001b[0m \u001b[0me\u001b[0m\u001b[0;34m:\u001b[0m\u001b[0;34m\u001b[0m\u001b[0;34m\u001b[0m\u001b[0m\n\u001b[1;32m    169\u001b[0m             \u001b[0mrun_manager\u001b[0m\u001b[0;34m.\u001b[0m\u001b[0mon_chain_error\u001b[0m\u001b[0;34m(\u001b[0m\u001b[0me\u001b[0m\u001b[0;34m)\u001b[0m\u001b[0;34m\u001b[0m\u001b[0;34m\u001b[0m\u001b[0m\n\u001b[0;32m--> 170\u001b[0;31m             \u001b[0;32mraise\u001b[0m \u001b[0me\u001b[0m\u001b[0;34m\u001b[0m\u001b[0;34m\u001b[0m\u001b[0m\n\u001b[0m\u001b[1;32m    171\u001b[0m         \u001b[0mrun_manager\u001b[0m\u001b[0;34m.\u001b[0m\u001b[0mon_chain_end\u001b[0m\u001b[0;34m(\u001b[0m\u001b[0moutputs\u001b[0m\u001b[0;34m)\u001b[0m\u001b[0;34m\u001b[0m\u001b[0;34m\u001b[0m\u001b[0m\n\u001b[1;32m    172\u001b[0m \u001b[0;34m\u001b[0m\u001b[0m\n",
            "\u001b[0;32m/usr/local/lib/python3.10/dist-packages/langchain/chains/base.py\u001b[0m in \u001b[0;36minvoke\u001b[0;34m(self, input, config, **kwargs)\u001b[0m\n\u001b[1;32m    158\u001b[0m             \u001b[0mself\u001b[0m\u001b[0;34m.\u001b[0m\u001b[0m_validate_inputs\u001b[0m\u001b[0;34m(\u001b[0m\u001b[0minputs\u001b[0m\u001b[0;34m)\u001b[0m\u001b[0;34m\u001b[0m\u001b[0;34m\u001b[0m\u001b[0m\n\u001b[1;32m    159\u001b[0m             outputs = (\n\u001b[0;32m--> 160\u001b[0;31m                 \u001b[0mself\u001b[0m\u001b[0;34m.\u001b[0m\u001b[0m_call\u001b[0m\u001b[0;34m(\u001b[0m\u001b[0minputs\u001b[0m\u001b[0;34m,\u001b[0m \u001b[0mrun_manager\u001b[0m\u001b[0;34m=\u001b[0m\u001b[0mrun_manager\u001b[0m\u001b[0;34m)\u001b[0m\u001b[0;34m\u001b[0m\u001b[0;34m\u001b[0m\u001b[0m\n\u001b[0m\u001b[1;32m    161\u001b[0m                 \u001b[0;32mif\u001b[0m \u001b[0mnew_arg_supported\u001b[0m\u001b[0;34m\u001b[0m\u001b[0;34m\u001b[0m\u001b[0m\n\u001b[1;32m    162\u001b[0m                 \u001b[0;32melse\u001b[0m \u001b[0mself\u001b[0m\u001b[0;34m.\u001b[0m\u001b[0m_call\u001b[0m\u001b[0;34m(\u001b[0m\u001b[0minputs\u001b[0m\u001b[0;34m)\u001b[0m\u001b[0;34m\u001b[0m\u001b[0;34m\u001b[0m\u001b[0m\n",
            "\u001b[0;32m/usr/local/lib/python3.10/dist-packages/langchain_community/chains/graph_qa/cypher.py\u001b[0m in \u001b[0;36m_call\u001b[0;34m(self, inputs, run_manager)\u001b[0m\n\u001b[1;32m    390\u001b[0m         \u001b[0;31m# Generated Cypher be null if query corrector identifies invalid schema\u001b[0m\u001b[0;34m\u001b[0m\u001b[0;34m\u001b[0m\u001b[0m\n\u001b[1;32m    391\u001b[0m         \u001b[0;32mif\u001b[0m \u001b[0mgenerated_cypher\u001b[0m\u001b[0;34m:\u001b[0m\u001b[0;34m\u001b[0m\u001b[0;34m\u001b[0m\u001b[0m\n\u001b[0;32m--> 392\u001b[0;31m             \u001b[0mcontext\u001b[0m \u001b[0;34m=\u001b[0m \u001b[0mself\u001b[0m\u001b[0;34m.\u001b[0m\u001b[0mgraph\u001b[0m\u001b[0;34m.\u001b[0m\u001b[0mquery\u001b[0m\u001b[0;34m(\u001b[0m\u001b[0mgenerated_cypher\u001b[0m\u001b[0;34m)\u001b[0m\u001b[0;34m[\u001b[0m\u001b[0;34m:\u001b[0m \u001b[0mself\u001b[0m\u001b[0;34m.\u001b[0m\u001b[0mtop_k\u001b[0m\u001b[0;34m]\u001b[0m\u001b[0;34m\u001b[0m\u001b[0;34m\u001b[0m\u001b[0m\n\u001b[0m\u001b[1;32m    393\u001b[0m         \u001b[0;32melse\u001b[0m\u001b[0;34m:\u001b[0m\u001b[0;34m\u001b[0m\u001b[0;34m\u001b[0m\u001b[0m\n\u001b[1;32m    394\u001b[0m             \u001b[0mcontext\u001b[0m \u001b[0;34m=\u001b[0m \u001b[0;34m[\u001b[0m\u001b[0;34m]\u001b[0m\u001b[0;34m\u001b[0m\u001b[0;34m\u001b[0m\u001b[0m\n",
            "\u001b[0;32m/usr/local/lib/python3.10/dist-packages/langchain_community/graphs/neo4j_graph.py\u001b[0m in \u001b[0;36mquery\u001b[0;34m(self, query, params)\u001b[0m\n\u001b[1;32m    465\u001b[0m \u001b[0;34m\u001b[0m\u001b[0m\n\u001b[1;32m    466\u001b[0m         \u001b[0;32mtry\u001b[0m\u001b[0;34m:\u001b[0m\u001b[0;34m\u001b[0m\u001b[0;34m\u001b[0m\u001b[0m\n\u001b[0;32m--> 467\u001b[0;31m             data, _, _ = self._driver.execute_query(\n\u001b[0m\u001b[1;32m    468\u001b[0m                 \u001b[0mQuery\u001b[0m\u001b[0;34m(\u001b[0m\u001b[0mtext\u001b[0m\u001b[0;34m=\u001b[0m\u001b[0mquery\u001b[0m\u001b[0;34m,\u001b[0m \u001b[0mtimeout\u001b[0m\u001b[0;34m=\u001b[0m\u001b[0mself\u001b[0m\u001b[0;34m.\u001b[0m\u001b[0mtimeout\u001b[0m\u001b[0;34m)\u001b[0m\u001b[0;34m,\u001b[0m\u001b[0;34m\u001b[0m\u001b[0;34m\u001b[0m\u001b[0m\n\u001b[1;32m    469\u001b[0m                 \u001b[0mdatabase_\u001b[0m\u001b[0;34m=\u001b[0m\u001b[0mself\u001b[0m\u001b[0;34m.\u001b[0m\u001b[0m_database\u001b[0m\u001b[0;34m,\u001b[0m\u001b[0;34m\u001b[0m\u001b[0;34m\u001b[0m\u001b[0m\n",
            "\u001b[0;32m/usr/local/lib/python3.10/dist-packages/neo4j/_sync/driver.py\u001b[0m in \u001b[0;36mexecute_query\u001b[0;34m(self, query_, parameters_, routing_, database_, impersonated_user_, bookmark_manager_, auth_, result_transformer_, **kwargs)\u001b[0m\n\u001b[1;32m    967\u001b[0m                 )\n\u001b[1;32m    968\u001b[0m             \u001b[0;32mwith\u001b[0m \u001b[0msession\u001b[0m\u001b[0;34m.\u001b[0m\u001b[0m_pipelined_begin\u001b[0m\u001b[0;34m:\u001b[0m\u001b[0;34m\u001b[0m\u001b[0;34m\u001b[0m\u001b[0m\n\u001b[0;32m--> 969\u001b[0;31m                 return session._run_transaction(\n\u001b[0m\u001b[1;32m    970\u001b[0m                     \u001b[0maccess_mode\u001b[0m\u001b[0;34m,\u001b[0m\u001b[0;34m\u001b[0m\u001b[0;34m\u001b[0m\u001b[0m\n\u001b[1;32m    971\u001b[0m                     \u001b[0mTelemetryAPI\u001b[0m\u001b[0;34m.\u001b[0m\u001b[0mDRIVER\u001b[0m\u001b[0;34m,\u001b[0m\u001b[0;34m\u001b[0m\u001b[0;34m\u001b[0m\u001b[0m\n",
            "\u001b[0;32m/usr/local/lib/python3.10/dist-packages/neo4j/_sync/work/session.py\u001b[0m in \u001b[0;36m_run_transaction\u001b[0;34m(self, access_mode, api, transaction_function, args, kwargs)\u001b[0m\n\u001b[1;32m    579\u001b[0m                 \u001b[0mtx\u001b[0m \u001b[0;34m=\u001b[0m \u001b[0mself\u001b[0m\u001b[0;34m.\u001b[0m\u001b[0m_transaction\u001b[0m\u001b[0;34m\u001b[0m\u001b[0;34m\u001b[0m\u001b[0m\n\u001b[1;32m    580\u001b[0m                 \u001b[0;32mtry\u001b[0m\u001b[0;34m:\u001b[0m\u001b[0;34m\u001b[0m\u001b[0;34m\u001b[0m\u001b[0m\n\u001b[0;32m--> 581\u001b[0;31m                     \u001b[0mresult\u001b[0m \u001b[0;34m=\u001b[0m \u001b[0mtransaction_function\u001b[0m\u001b[0;34m(\u001b[0m\u001b[0mtx\u001b[0m\u001b[0;34m,\u001b[0m \u001b[0;34m*\u001b[0m\u001b[0margs\u001b[0m\u001b[0;34m,\u001b[0m \u001b[0;34m**\u001b[0m\u001b[0mkwargs\u001b[0m\u001b[0;34m)\u001b[0m\u001b[0;34m\u001b[0m\u001b[0;34m\u001b[0m\u001b[0m\n\u001b[0m\u001b[1;32m    582\u001b[0m                 \u001b[0;32mexcept\u001b[0m \u001b[0masyncio\u001b[0m\u001b[0;34m.\u001b[0m\u001b[0mCancelledError\u001b[0m\u001b[0;34m:\u001b[0m\u001b[0;34m\u001b[0m\u001b[0;34m\u001b[0m\u001b[0m\n\u001b[1;32m    583\u001b[0m                     \u001b[0;31m# if cancellation callback has not been called yet:\u001b[0m\u001b[0;34m\u001b[0m\u001b[0;34m\u001b[0m\u001b[0m\n",
            "\u001b[0;32m/usr/local/lib/python3.10/dist-packages/neo4j/_work/query.py\u001b[0m in \u001b[0;36mwrapped\u001b[0;34m(*args, **kwargs)\u001b[0m\n\u001b[1;32m    142\u001b[0m     \u001b[0;32mdef\u001b[0m \u001b[0mwrapper\u001b[0m\u001b[0;34m(\u001b[0m\u001b[0mf\u001b[0m\u001b[0;34m)\u001b[0m\u001b[0;34m:\u001b[0m\u001b[0;34m\u001b[0m\u001b[0;34m\u001b[0m\u001b[0m\n\u001b[1;32m    143\u001b[0m         \u001b[0;32mdef\u001b[0m \u001b[0mwrapped\u001b[0m\u001b[0;34m(\u001b[0m\u001b[0;34m*\u001b[0m\u001b[0margs\u001b[0m\u001b[0;34m,\u001b[0m \u001b[0;34m**\u001b[0m\u001b[0mkwargs\u001b[0m\u001b[0;34m)\u001b[0m\u001b[0;34m:\u001b[0m\u001b[0;34m\u001b[0m\u001b[0;34m\u001b[0m\u001b[0m\n\u001b[0;32m--> 144\u001b[0;31m             \u001b[0;32mreturn\u001b[0m \u001b[0mf\u001b[0m\u001b[0;34m(\u001b[0m\u001b[0;34m*\u001b[0m\u001b[0margs\u001b[0m\u001b[0;34m,\u001b[0m \u001b[0;34m**\u001b[0m\u001b[0mkwargs\u001b[0m\u001b[0;34m)\u001b[0m\u001b[0;34m\u001b[0m\u001b[0;34m\u001b[0m\u001b[0m\n\u001b[0m\u001b[1;32m    145\u001b[0m \u001b[0;34m\u001b[0m\u001b[0m\n\u001b[1;32m    146\u001b[0m         \u001b[0mwrapped\u001b[0m\u001b[0;34m.\u001b[0m\u001b[0mmetadata\u001b[0m \u001b[0;34m=\u001b[0m \u001b[0mmetadata\u001b[0m\u001b[0;34m\u001b[0m\u001b[0;34m\u001b[0m\u001b[0m\n",
            "\u001b[0;32m/usr/local/lib/python3.10/dist-packages/neo4j/_sync/driver.py\u001b[0m in \u001b[0;36m_work\u001b[0;34m(tx, query, parameters, transformer)\u001b[0m\n\u001b[1;32m   1303\u001b[0m     \u001b[0mtransformer\u001b[0m\u001b[0;34m:\u001b[0m \u001b[0mt\u001b[0m\u001b[0;34m.\u001b[0m\u001b[0mCallable\u001b[0m\u001b[0;34m[\u001b[0m\u001b[0;34m[\u001b[0m\u001b[0mResult\u001b[0m\u001b[0;34m]\u001b[0m\u001b[0;34m,\u001b[0m \u001b[0mt\u001b[0m\u001b[0;34m.\u001b[0m\u001b[0mUnion\u001b[0m\u001b[0;34m[\u001b[0m\u001b[0m_T\u001b[0m\u001b[0;34m]\u001b[0m\u001b[0;34m]\u001b[0m\u001b[0;34m,\u001b[0m\u001b[0;34m\u001b[0m\u001b[0;34m\u001b[0m\u001b[0m\n\u001b[1;32m   1304\u001b[0m ) -> _T:\n\u001b[0;32m-> 1305\u001b[0;31m     \u001b[0mres\u001b[0m \u001b[0;34m=\u001b[0m \u001b[0mtx\u001b[0m\u001b[0;34m.\u001b[0m\u001b[0mrun\u001b[0m\u001b[0;34m(\u001b[0m\u001b[0mquery\u001b[0m\u001b[0;34m,\u001b[0m \u001b[0mparameters\u001b[0m\u001b[0;34m)\u001b[0m\u001b[0;34m\u001b[0m\u001b[0;34m\u001b[0m\u001b[0m\n\u001b[0m\u001b[1;32m   1306\u001b[0m     \u001b[0;32mreturn\u001b[0m \u001b[0mtransformer\u001b[0m\u001b[0;34m(\u001b[0m\u001b[0mres\u001b[0m\u001b[0;34m)\u001b[0m\u001b[0;34m\u001b[0m\u001b[0;34m\u001b[0m\u001b[0m\n\u001b[1;32m   1307\u001b[0m \u001b[0;34m\u001b[0m\u001b[0m\n",
            "\u001b[0;32m/usr/local/lib/python3.10/dist-packages/neo4j/_sync/work/transaction.py\u001b[0m in \u001b[0;36mrun\u001b[0;34m(self, query, parameters, **kwparameters)\u001b[0m\n\u001b[1;32m    193\u001b[0m \u001b[0;34m\u001b[0m\u001b[0m\n\u001b[1;32m    194\u001b[0m         \u001b[0mparameters\u001b[0m \u001b[0;34m=\u001b[0m \u001b[0mdict\u001b[0m\u001b[0;34m(\u001b[0m\u001b[0mparameters\u001b[0m \u001b[0;32mor\u001b[0m \u001b[0;34m{\u001b[0m\u001b[0;34m}\u001b[0m\u001b[0;34m,\u001b[0m \u001b[0;34m**\u001b[0m\u001b[0mkwparameters\u001b[0m\u001b[0;34m)\u001b[0m\u001b[0;34m\u001b[0m\u001b[0;34m\u001b[0m\u001b[0m\n\u001b[0;32m--> 195\u001b[0;31m         \u001b[0mresult\u001b[0m\u001b[0;34m.\u001b[0m\u001b[0m_tx_ready_run\u001b[0m\u001b[0;34m(\u001b[0m\u001b[0mquery\u001b[0m\u001b[0;34m,\u001b[0m \u001b[0mparameters\u001b[0m\u001b[0;34m)\u001b[0m\u001b[0;34m\u001b[0m\u001b[0;34m\u001b[0m\u001b[0m\n\u001b[0m\u001b[1;32m    196\u001b[0m \u001b[0;34m\u001b[0m\u001b[0m\n\u001b[1;32m    197\u001b[0m         \u001b[0;32mreturn\u001b[0m \u001b[0mresult\u001b[0m\u001b[0;34m\u001b[0m\u001b[0;34m\u001b[0m\u001b[0m\n",
            "\u001b[0;32m/usr/local/lib/python3.10/dist-packages/neo4j/_sync/work/result.py\u001b[0m in \u001b[0;36m_tx_ready_run\u001b[0;34m(self, query, parameters)\u001b[0m\n\u001b[1;32m    173\u001b[0m         \u001b[0;31m# BEGIN {extra}\u001b[0m\u001b[0;34m\u001b[0m\u001b[0;34m\u001b[0m\u001b[0m\n\u001b[1;32m    174\u001b[0m         \u001b[0;31m# RUN \"query\" {parameters} {extra}\u001b[0m\u001b[0;34m\u001b[0m\u001b[0;34m\u001b[0m\u001b[0m\n\u001b[0;32m--> 175\u001b[0;31m         \u001b[0mself\u001b[0m\u001b[0;34m.\u001b[0m\u001b[0m_run\u001b[0m\u001b[0;34m(\u001b[0m\u001b[0mquery\u001b[0m\u001b[0;34m,\u001b[0m \u001b[0mparameters\u001b[0m\u001b[0;34m,\u001b[0m \u001b[0;32mNone\u001b[0m\u001b[0;34m,\u001b[0m \u001b[0;32mNone\u001b[0m\u001b[0;34m,\u001b[0m \u001b[0;32mNone\u001b[0m\u001b[0;34m,\u001b[0m \u001b[0;32mNone\u001b[0m\u001b[0;34m,\u001b[0m \u001b[0;32mNone\u001b[0m\u001b[0;34m,\u001b[0m \u001b[0;32mNone\u001b[0m\u001b[0;34m)\u001b[0m\u001b[0;34m\u001b[0m\u001b[0;34m\u001b[0m\u001b[0m\n\u001b[0m\u001b[1;32m    176\u001b[0m \u001b[0;34m\u001b[0m\u001b[0m\n\u001b[1;32m    177\u001b[0m     def _run(\n",
            "\u001b[0;32m/usr/local/lib/python3.10/dist-packages/neo4j/_sync/work/result.py\u001b[0m in \u001b[0;36m_run\u001b[0;34m(self, query, parameters, db, imp_user, access_mode, bookmarks, notifications_min_severity, notifications_disabled_classifications)\u001b[0m\n\u001b[1;32m    229\u001b[0m         \u001b[0mself\u001b[0m\u001b[0;34m.\u001b[0m\u001b[0m_pull\u001b[0m\u001b[0;34m(\u001b[0m\u001b[0;34m)\u001b[0m\u001b[0;34m\u001b[0m\u001b[0;34m\u001b[0m\u001b[0m\n\u001b[1;32m    230\u001b[0m         \u001b[0mself\u001b[0m\u001b[0;34m.\u001b[0m\u001b[0m_connection\u001b[0m\u001b[0;34m.\u001b[0m\u001b[0msend_all\u001b[0m\u001b[0;34m(\u001b[0m\u001b[0;34m)\u001b[0m\u001b[0;34m\u001b[0m\u001b[0;34m\u001b[0m\u001b[0m\n\u001b[0;32m--> 231\u001b[0;31m         \u001b[0mself\u001b[0m\u001b[0;34m.\u001b[0m\u001b[0m_attach\u001b[0m\u001b[0;34m(\u001b[0m\u001b[0;34m)\u001b[0m\u001b[0;34m\u001b[0m\u001b[0;34m\u001b[0m\u001b[0m\n\u001b[0m\u001b[1;32m    232\u001b[0m \u001b[0;34m\u001b[0m\u001b[0m\n\u001b[1;32m    233\u001b[0m     \u001b[0;32mdef\u001b[0m \u001b[0m_pull\u001b[0m\u001b[0;34m(\u001b[0m\u001b[0mself\u001b[0m\u001b[0;34m)\u001b[0m\u001b[0;34m:\u001b[0m\u001b[0;34m\u001b[0m\u001b[0;34m\u001b[0m\u001b[0m\n",
            "\u001b[0;32m/usr/local/lib/python3.10/dist-packages/neo4j/_sync/work/result.py\u001b[0m in \u001b[0;36m_attach\u001b[0;34m(self)\u001b[0m\n\u001b[1;32m    423\u001b[0m         \u001b[0;32mif\u001b[0m \u001b[0mself\u001b[0m\u001b[0;34m.\u001b[0m\u001b[0m_exhausted\u001b[0m \u001b[0;32mis\u001b[0m \u001b[0;32mFalse\u001b[0m\u001b[0;34m:\u001b[0m\u001b[0;34m\u001b[0m\u001b[0;34m\u001b[0m\u001b[0m\n\u001b[1;32m    424\u001b[0m             \u001b[0;32mwhile\u001b[0m \u001b[0mself\u001b[0m\u001b[0;34m.\u001b[0m\u001b[0m_attached\u001b[0m \u001b[0;32mis\u001b[0m \u001b[0;32mFalse\u001b[0m\u001b[0;34m:\u001b[0m\u001b[0;34m\u001b[0m\u001b[0;34m\u001b[0m\u001b[0m\n\u001b[0;32m--> 425\u001b[0;31m                 \u001b[0mself\u001b[0m\u001b[0;34m.\u001b[0m\u001b[0m_connection\u001b[0m\u001b[0;34m.\u001b[0m\u001b[0mfetch_message\u001b[0m\u001b[0;34m(\u001b[0m\u001b[0;34m)\u001b[0m\u001b[0;34m\u001b[0m\u001b[0;34m\u001b[0m\u001b[0m\n\u001b[0m\u001b[1;32m    426\u001b[0m \u001b[0;34m\u001b[0m\u001b[0m\n\u001b[1;32m    427\u001b[0m     \u001b[0;32mdef\u001b[0m \u001b[0m_buffer\u001b[0m\u001b[0;34m(\u001b[0m\u001b[0mself\u001b[0m\u001b[0;34m,\u001b[0m \u001b[0mn\u001b[0m\u001b[0;34m=\u001b[0m\u001b[0;32mNone\u001b[0m\u001b[0;34m)\u001b[0m\u001b[0;34m:\u001b[0m\u001b[0;34m\u001b[0m\u001b[0;34m\u001b[0m\u001b[0m\n",
            "\u001b[0;32m/usr/local/lib/python3.10/dist-packages/neo4j/_sync/io/_common.py\u001b[0m in \u001b[0;36minner\u001b[0;34m(*args, **kwargs)\u001b[0m\n\u001b[1;32m    182\u001b[0m             \u001b[0;32mdef\u001b[0m \u001b[0minner\u001b[0m\u001b[0;34m(\u001b[0m\u001b[0;34m*\u001b[0m\u001b[0margs\u001b[0m\u001b[0;34m,\u001b[0m \u001b[0;34m**\u001b[0m\u001b[0mkwargs\u001b[0m\u001b[0;34m)\u001b[0m\u001b[0;34m:\u001b[0m\u001b[0;34m\u001b[0m\u001b[0;34m\u001b[0m\u001b[0m\n\u001b[1;32m    183\u001b[0m                 \u001b[0;32mtry\u001b[0m\u001b[0;34m:\u001b[0m\u001b[0;34m\u001b[0m\u001b[0;34m\u001b[0m\u001b[0m\n\u001b[0;32m--> 184\u001b[0;31m                     \u001b[0mfunc\u001b[0m\u001b[0;34m(\u001b[0m\u001b[0;34m*\u001b[0m\u001b[0margs\u001b[0m\u001b[0;34m,\u001b[0m \u001b[0;34m**\u001b[0m\u001b[0mkwargs\u001b[0m\u001b[0;34m)\u001b[0m\u001b[0;34m\u001b[0m\u001b[0;34m\u001b[0m\u001b[0m\n\u001b[0m\u001b[1;32m    185\u001b[0m                 \u001b[0;32mexcept\u001b[0m \u001b[0;34m(\u001b[0m\u001b[0mNeo4jError\u001b[0m\u001b[0;34m,\u001b[0m \u001b[0mServiceUnavailable\u001b[0m\u001b[0;34m,\u001b[0m \u001b[0mSessionExpired\u001b[0m\u001b[0;34m)\u001b[0m \u001b[0;32mas\u001b[0m \u001b[0mexc\u001b[0m\u001b[0;34m:\u001b[0m\u001b[0;34m\u001b[0m\u001b[0;34m\u001b[0m\u001b[0m\n\u001b[1;32m    186\u001b[0m                     \u001b[0;32massert\u001b[0m \u001b[0;32mnot\u001b[0m \u001b[0masyncio\u001b[0m\u001b[0;34m.\u001b[0m\u001b[0miscoroutinefunction\u001b[0m\u001b[0;34m(\u001b[0m\u001b[0mself\u001b[0m\u001b[0;34m.\u001b[0m\u001b[0m__on_error\u001b[0m\u001b[0;34m)\u001b[0m\u001b[0;34m\u001b[0m\u001b[0;34m\u001b[0m\u001b[0m\n",
            "\u001b[0;32m/usr/local/lib/python3.10/dist-packages/neo4j/_sync/io/_bolt.py\u001b[0m in \u001b[0;36mfetch_message\u001b[0;34m(self)\u001b[0m\n\u001b[1;32m    992\u001b[0m             \u001b[0mhydration_hooks\u001b[0m\u001b[0;34m=\u001b[0m\u001b[0mself\u001b[0m\u001b[0;34m.\u001b[0m\u001b[0mresponses\u001b[0m\u001b[0;34m[\u001b[0m\u001b[0;36m0\u001b[0m\u001b[0;34m]\u001b[0m\u001b[0;34m.\u001b[0m\u001b[0mhydration_hooks\u001b[0m\u001b[0;34m\u001b[0m\u001b[0;34m\u001b[0m\u001b[0m\n\u001b[1;32m    993\u001b[0m         )\n\u001b[0;32m--> 994\u001b[0;31m         \u001b[0mres\u001b[0m \u001b[0;34m=\u001b[0m \u001b[0mself\u001b[0m\u001b[0;34m.\u001b[0m\u001b[0m_process_message\u001b[0m\u001b[0;34m(\u001b[0m\u001b[0mtag\u001b[0m\u001b[0;34m,\u001b[0m \u001b[0mfields\u001b[0m\u001b[0;34m)\u001b[0m\u001b[0;34m\u001b[0m\u001b[0;34m\u001b[0m\u001b[0m\n\u001b[0m\u001b[1;32m    995\u001b[0m         \u001b[0mself\u001b[0m\u001b[0;34m.\u001b[0m\u001b[0midle_since\u001b[0m \u001b[0;34m=\u001b[0m \u001b[0mmonotonic\u001b[0m\u001b[0;34m(\u001b[0m\u001b[0;34m)\u001b[0m\u001b[0;34m\u001b[0m\u001b[0;34m\u001b[0m\u001b[0m\n\u001b[1;32m    996\u001b[0m         \u001b[0;32mreturn\u001b[0m \u001b[0mres\u001b[0m\u001b[0;34m\u001b[0m\u001b[0;34m\u001b[0m\u001b[0m\n",
            "\u001b[0;32m/usr/local/lib/python3.10/dist-packages/neo4j/_sync/io/_bolt5.py\u001b[0m in \u001b[0;36m_process_message\u001b[0;34m(self, tag, fields)\u001b[0m\n\u001b[1;32m   1202\u001b[0m             \u001b[0mself\u001b[0m\u001b[0;34m.\u001b[0m\u001b[0m_enrich_error_diagnostic_record\u001b[0m\u001b[0;34m(\u001b[0m\u001b[0msummary_metadata\u001b[0m\u001b[0;34m)\u001b[0m\u001b[0;34m\u001b[0m\u001b[0;34m\u001b[0m\u001b[0m\n\u001b[1;32m   1203\u001b[0m             \u001b[0;32mtry\u001b[0m\u001b[0;34m:\u001b[0m\u001b[0;34m\u001b[0m\u001b[0;34m\u001b[0m\u001b[0m\n\u001b[0;32m-> 1204\u001b[0;31m                 \u001b[0mresponse\u001b[0m\u001b[0;34m.\u001b[0m\u001b[0mon_failure\u001b[0m\u001b[0;34m(\u001b[0m\u001b[0msummary_metadata\u001b[0m \u001b[0;32mor\u001b[0m \u001b[0;34m{\u001b[0m\u001b[0;34m}\u001b[0m\u001b[0;34m)\u001b[0m\u001b[0;34m\u001b[0m\u001b[0;34m\u001b[0m\u001b[0m\n\u001b[0m\u001b[1;32m   1205\u001b[0m             \u001b[0;32mexcept\u001b[0m \u001b[0;34m(\u001b[0m\u001b[0mServiceUnavailable\u001b[0m\u001b[0;34m,\u001b[0m \u001b[0mDatabaseUnavailable\u001b[0m\u001b[0;34m)\u001b[0m\u001b[0;34m:\u001b[0m\u001b[0;34m\u001b[0m\u001b[0;34m\u001b[0m\u001b[0m\n\u001b[1;32m   1206\u001b[0m                 \u001b[0;32mif\u001b[0m \u001b[0mself\u001b[0m\u001b[0;34m.\u001b[0m\u001b[0mpool\u001b[0m\u001b[0;34m:\u001b[0m\u001b[0;34m\u001b[0m\u001b[0;34m\u001b[0m\u001b[0m\n",
            "\u001b[0;32m/usr/local/lib/python3.10/dist-packages/neo4j/_sync/io/_common.py\u001b[0m in \u001b[0;36mon_failure\u001b[0;34m(self, metadata)\u001b[0m\n\u001b[1;32m    252\u001b[0m         \u001b[0mhandler\u001b[0m \u001b[0;34m=\u001b[0m \u001b[0mself\u001b[0m\u001b[0;34m.\u001b[0m\u001b[0mhandlers\u001b[0m\u001b[0;34m.\u001b[0m\u001b[0mget\u001b[0m\u001b[0;34m(\u001b[0m\u001b[0;34m\"on_summary\"\u001b[0m\u001b[0;34m)\u001b[0m\u001b[0;34m\u001b[0m\u001b[0;34m\u001b[0m\u001b[0m\n\u001b[1;32m    253\u001b[0m         \u001b[0mUtil\u001b[0m\u001b[0;34m.\u001b[0m\u001b[0mcallback\u001b[0m\u001b[0;34m(\u001b[0m\u001b[0mhandler\u001b[0m\u001b[0;34m)\u001b[0m\u001b[0;34m\u001b[0m\u001b[0;34m\u001b[0m\u001b[0m\n\u001b[0;32m--> 254\u001b[0;31m         \u001b[0;32mraise\u001b[0m \u001b[0mself\u001b[0m\u001b[0;34m.\u001b[0m\u001b[0m_hydrate_error\u001b[0m\u001b[0;34m(\u001b[0m\u001b[0mmetadata\u001b[0m\u001b[0;34m)\u001b[0m\u001b[0;34m\u001b[0m\u001b[0;34m\u001b[0m\u001b[0m\n\u001b[0m\u001b[1;32m    255\u001b[0m \u001b[0;34m\u001b[0m\u001b[0m\n\u001b[1;32m    256\u001b[0m     \u001b[0;32mdef\u001b[0m \u001b[0mon_ignored\u001b[0m\u001b[0;34m(\u001b[0m\u001b[0mself\u001b[0m\u001b[0;34m,\u001b[0m \u001b[0mmetadata\u001b[0m\u001b[0;34m=\u001b[0m\u001b[0;32mNone\u001b[0m\u001b[0;34m)\u001b[0m\u001b[0;34m:\u001b[0m\u001b[0;34m\u001b[0m\u001b[0;34m\u001b[0m\u001b[0m\n",
            "\u001b[0;31mCypherSyntaxError\u001b[0m: {code: Neo.ClientError.Statement.SyntaxError} {message: Invalid input 'System': expected a parameter, '&', ')', ':', 'WHERE', '{' or '|' (line 2, column 21 (offset: 27))\n\"MATCH (ps1:Planting System {id: 'single row planting'})-[:PRACTICED_IN]->(c:Country {id: 'Sri Lanka'}),\"\n                     ^}"
          ]
        }
      ]
    },
    {
      "cell_type": "code",
      "source": [
        "# Ask a question\n",
        "response = chain.invoke({\"query\" : \"When was the guideline for mechanization of field operations published and also what is that guideline number?\"})\n",
        "response"
      ],
      "metadata": {
        "id": "DDakzATQIHVn",
        "colab": {
          "base_uri": "https://localhost:8080/"
        },
        "outputId": "29c8376b-8431-4f09-a649-85d10821cbfc"
      },
      "execution_count": 73,
      "outputs": [
        {
          "output_type": "stream",
          "name": "stdout",
          "text": [
            "\n",
            "\n",
            "\u001b[1m> Entering new GraphCypherQAChain chain...\u001b[0m\n",
            "Generated Cypher:\n",
            "\u001b[32;1m\u001b[1;3mcypher\n",
            "MATCH (d:Document)-[:MENTIONS]->(g:Guideline)\n",
            "WHERE g.text CONTAINS 'mechanization of field operations'\n",
            "RETURN d.text AS guideline_text, g.id AS guideline_number\n",
            "\u001b[0m\n",
            "Full Context:\n",
            "\u001b[32;1m\u001b[1;3m[]\u001b[0m\n",
            "\n",
            "\u001b[1m> Finished chain.\u001b[0m\n"
          ]
        },
        {
          "output_type": "execute_result",
          "data": {
            "text/plain": [
              "{'query': 'When was the guideline for mechanization of field operations published and also what is that guideline number?',\n",
              " 'result': \"I don't know the answer.\"}"
            ]
          },
          "metadata": {},
          "execution_count": 73
        }
      ]
    },
    {
      "cell_type": "code",
      "source": [
        "# Ask a question\n",
        "response = chain.invoke({\"query\" : \"Where is Tea Research Institute of Sri Lanka located in?\"})\n",
        "response"
      ],
      "metadata": {
        "id": "Yd0BwTIyBnIq",
        "colab": {
          "base_uri": "https://localhost:8080/"
        },
        "outputId": "e0348c43-5591-444a-8c21-aa3add4bc5a6"
      },
      "execution_count": 74,
      "outputs": [
        {
          "output_type": "stream",
          "name": "stdout",
          "text": [
            "\n",
            "\n",
            "\u001b[1m> Entering new GraphCypherQAChain chain...\u001b[0m\n",
            "Generated Cypher:\n",
            "\u001b[32;1m\u001b[1;3mcypher\n",
            "MATCH (org:Organization {id: 'Tea Research Institute of Sri Lanka'})-[:LOCATED_IN]->(loc:Location)\n",
            "RETURN loc\n",
            "\u001b[0m\n",
            "Full Context:\n",
            "\u001b[32;1m\u001b[1;3m[{'loc': {'id': 'Talawakelle'}}]\u001b[0m\n",
            "\n",
            "\u001b[1m> Finished chain.\u001b[0m\n"
          ]
        },
        {
          "output_type": "execute_result",
          "data": {
            "text/plain": [
              "{'query': 'Where is Tea Research Institute of Sri Lanka located in?',\n",
              " 'result': 'The Tea Research Institute of Sri Lanka is located in Talawakelle.'}"
            ]
          },
          "metadata": {},
          "execution_count": 74
        }
      ]
    },
    {
      "cell_type": "code",
      "source": [
        "# Ask a question\n",
        "response = chain.invoke({\"query\" : \"What organization is located_in Talawakelle?\"})\n",
        "response"
      ],
      "metadata": {
        "id": "RGLVoLo7BoZC",
        "colab": {
          "base_uri": "https://localhost:8080/"
        },
        "outputId": "bb66852e-f35c-4c89-9da4-75ae414476b3"
      },
      "execution_count": 75,
      "outputs": [
        {
          "output_type": "stream",
          "name": "stdout",
          "text": [
            "\n",
            "\n",
            "\u001b[1m> Entering new GraphCypherQAChain chain...\u001b[0m\n",
            "Generated Cypher:\n",
            "\u001b[32;1m\u001b[1;3mcypher\n",
            "MATCH (o:Organization)-[:LOCATED_IN]->(l:Location {id: 'Talawakelle'})\n",
            "RETURN o\n",
            "\u001b[0m\n",
            "Full Context:\n",
            "\u001b[32;1m\u001b[1;3m[{'o': {'id': 'Tea Research Institute of Sri Lanka'}}]\u001b[0m\n",
            "\n",
            "\u001b[1m> Finished chain.\u001b[0m\n"
          ]
        },
        {
          "output_type": "execute_result",
          "data": {
            "text/plain": [
              "{'query': 'What organization is located_in Talawakelle?',\n",
              " 'result': 'The Tea Research Institute of Sri Lanka is located in Talawakelle.'}"
            ]
          },
          "metadata": {},
          "execution_count": 75
        }
      ]
    },
    {
      "cell_type": "code",
      "source": [
        "# Ask a question\n",
        "response = chain.invoke({\"query\" : \"Provide me the list of guidelines that Tea Research Institute of Sri Lanka has issued\"})\n",
        "response"
      ],
      "metadata": {
        "id": "1OvhfJvRqqtz",
        "colab": {
          "base_uri": "https://localhost:8080/"
        },
        "outputId": "334df1d3-ec75-41d4-ce57-3bd4efd0520b"
      },
      "execution_count": 76,
      "outputs": [
        {
          "output_type": "stream",
          "name": "stdout",
          "text": [
            "\n",
            "\n",
            "\u001b[1m> Entering new GraphCypherQAChain chain...\u001b[0m\n",
            "Generated Cypher:\n",
            "\u001b[32;1m\u001b[1;3mcypher\n",
            "MATCH (org:Organization {id: 'Tea Research Institute of Sri Lanka'})-[:ISSUED_GUIDELINE]->(g:Guideline)\n",
            "RETURN g\n",
            "\u001b[0m\n",
            "Full Context:\n",
            "\u001b[32;1m\u001b[1;3m[{'g': {'id': 'Guidelines on Measures to be Adopted in Tea Lands Following a Drought'}}, {'g': {'id': 'Guideline No: 05/2018'}}, {'g': {'id': 'Guideline No: 03/2019'}}]\u001b[0m\n",
            "\n",
            "\u001b[1m> Finished chain.\u001b[0m\n"
          ]
        },
        {
          "output_type": "execute_result",
          "data": {
            "text/plain": [
              "{'query': 'Provide me the list of guidelines that Tea Research Institute of Sri Lanka has issued',\n",
              " 'result': 'The Tea Research Institute of Sri Lanka has issued the following guidelines: \"Guidelines on Measures to be Adopted in Tea Lands Following a Drought,\" \"Guideline No: 05/2018,\" and \"Guideline No: 03/2019.\"'}"
            ]
          },
          "metadata": {},
          "execution_count": 76
        }
      ]
    },
    {
      "cell_type": "code",
      "source": [
        "# Ask a question\n",
        "response = chain.invoke({\"query\" : \"Give me a numerical count of guidelines that Tea Research Institute of Sri Lanka has issued\"})\n",
        "response"
      ],
      "metadata": {
        "id": "yQwXOWgerXkv",
        "colab": {
          "base_uri": "https://localhost:8080/"
        },
        "outputId": "fd5b2928-a59c-4027-a425-0c85533eb717"
      },
      "execution_count": 77,
      "outputs": [
        {
          "output_type": "stream",
          "name": "stdout",
          "text": [
            "\n",
            "\n",
            "\u001b[1m> Entering new GraphCypherQAChain chain...\u001b[0m\n",
            "Generated Cypher:\n",
            "\u001b[32;1m\u001b[1;3mcypher\n",
            "MATCH (org:Organization {id: 'Tea Research Institute of Sri Lanka'})-[:ISSUED_GUIDELINE]->(g:Guideline)\n",
            "RETURN COUNT(g) AS guideline_count\n",
            "\u001b[0m\n",
            "Full Context:\n",
            "\u001b[32;1m\u001b[1;3m[{'guideline_count': 3}]\u001b[0m\n",
            "\n",
            "\u001b[1m> Finished chain.\u001b[0m\n"
          ]
        },
        {
          "output_type": "execute_result",
          "data": {
            "text/plain": [
              "{'query': 'Give me a numerical count of guidelines that Tea Research Institute of Sri Lanka has issued',\n",
              " 'result': 'The Tea Research Institute of Sri Lanka has issued 3 guidelines.'}"
            ]
          },
          "metadata": {},
          "execution_count": 77
        }
      ]
    },
    {
      "cell_type": "code",
      "source": [],
      "metadata": {
        "id": "m8yuY6F-rJh4"
      },
      "execution_count": null,
      "outputs": []
    }
  ]
}