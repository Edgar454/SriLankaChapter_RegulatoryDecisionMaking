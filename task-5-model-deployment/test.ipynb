{
 "cells": [
  {
   "cell_type": "code",
   "execution_count": 16,
   "metadata": {},
   "outputs": [
    {
     "data": {
      "text/plain": [
       "True"
      ]
     },
     "execution_count": 16,
     "metadata": {},
     "output_type": "execute_result"
    }
   ],
   "source": [
    "import os\n",
    "from dotenv import load_dotenv\n",
    "from rag_setup import setup_router_query_engine, setup_vector_store, setup_kdbai_session, setup_groq_llm\n",
    "from llama_index.vector_stores.kdbai import KDBAIVectorStore\n",
    "from llama_index.core.indices import VectorStoreIndex\n",
    "from llama_index.core import Document, StorageContext, Settings\n",
    "from llama_index.embeddings.huggingface import HuggingFaceEmbedding\n",
    "\n",
    "load_dotenv()"
   ]
  },
  {
   "cell_type": "code",
   "execution_count": 17,
   "metadata": {},
   "outputs": [],
   "source": [
    "# Define KDBAI Database and Table Names\n",
    "DB_NAME = \"test_srilanka_rag_database\"\n",
    "TABLE_NAME_CIRCULAR = \"test_circular_baseline\"\n",
    "TABLE_NAME_REGULATION = \"test_regulation_baseline\"\n",
    "TABLE_NAME_GUIDELINE = \"test_guideline_baseline\"\n",
    "\n",
    "# Define HuggingFace Model and Groq LLM Names\n",
    "EMBEDDING_MODEL_NAME = \"BAAI/bge-small-en-v1.5\"\n",
    "GROQ_LLM_NAME = \"llama3-groq-70b-8192-tool-use-preview\""
   ]
  },
  {
   "cell_type": "code",
   "execution_count": 18,
   "metadata": {},
   "outputs": [
    {
     "name": "stderr",
     "output_type": "stream",
     "text": [
      "2024-12-23 10:03:49 - DEBUG : Starting new HTTPS connection (1): cloud.kdb.ai:443\n",
      "2024-12-23 10:03:49 - DEBUG : https://cloud.kdb.ai:443 \"GET /instance/bizxlezc4n/api/v2/ready HTTP/11\" 200 2\n",
      "2024-12-23 10:03:49 - DEBUG : Starting new HTTPS connection (1): cloud.kdb.ai:443\n",
      "2024-12-23 10:03:49 - DEBUG : https://cloud.kdb.ai:443 \"GET /instance/bizxlezc4n/api/v2/version HTTP/11\" 200 80\n",
      "2024-12-23 10:03:49 - INFO : KDBAI session established.\n",
      "2024-12-23 10:03:49 - DEBUG : Starting new HTTPS connection (1): cloud.kdb.ai:443\n",
      "2024-12-23 10:03:50 - DEBUG : https://cloud.kdb.ai:443 \"GET /instance/bizxlezc4n/api/v2/databases/test_srilanka_rag_database HTTP/11\" 200 2849\n"
     ]
    }
   ],
   "source": [
    "# Set up KDBAI session\n",
    "kdbai_session = setup_kdbai_session()\n",
    "\n",
    "db = kdbai_session.database('test_srilanka_rag_database')"
   ]
  },
  {
   "cell_type": "code",
   "execution_count": 21,
   "metadata": {},
   "outputs": [
    {
     "name": "stderr",
     "output_type": "stream",
     "text": [
      "2024-12-23 10:09:11 - DEBUG : Starting new HTTPS connection (1): cloud.kdb.ai:443\n",
      "2024-12-23 10:09:12 - DEBUG : https://cloud.kdb.ai:443 \"GET /instance/bizxlezc4n/api/v2/databases/test_srilanka_rag_database/tables/test_circular_baseline HTTP/11\" 200 935\n",
      "2024-12-23 10:09:12 - DEBUG : Starting new HTTPS connection (1): cloud.kdb.ai:443\n",
      "2024-12-23 10:09:12 - DEBUG : https://cloud.kdb.ai:443 \"GET /instance/bizxlezc4n/api/v2/databases/test_srilanka_rag_database/tables/test_regulation_baseline HTTP/11\" 200 943\n",
      "2024-12-23 10:09:12 - DEBUG : Starting new HTTPS connection (1): cloud.kdb.ai:443\n",
      "2024-12-23 10:09:12 - DEBUG : https://cloud.kdb.ai:443 \"GET /instance/bizxlezc4n/api/v2/databases/test_srilanka_rag_database/tables/test_guideline_baseline HTTP/11\" 200 938\n"
     ]
    }
   ],
   "source": [
    "circular_table = db.table(TABLE_NAME_CIRCULAR)\n",
    "regulation_table = db.table(TABLE_NAME_REGULATION)\n",
    "guideline_table = db.table(TABLE_NAME_GUIDELINE)"
   ]
  },
  {
   "cell_type": "code",
   "execution_count": 23,
   "metadata": {},
   "outputs": [
    {
     "name": "stderr",
     "output_type": "stream",
     "text": [
      "2024-12-23 10:09:22 - INFO : Load pretrained SentenceTransformer: BAAI/bge-small-en-v1.5\n",
      "2024-12-23 10:09:23 - DEBUG : https://huggingface.co:443 \"HEAD /BAAI/bge-small-en-v1.5/resolve/main/modules.json HTTP/11\" 200 0\n",
      "2024-12-23 10:09:23 - DEBUG : https://huggingface.co:443 \"HEAD /BAAI/bge-small-en-v1.5/resolve/main/config_sentence_transformers.json HTTP/11\" 200 0\n",
      "2024-12-23 10:09:23 - DEBUG : https://huggingface.co:443 \"HEAD /BAAI/bge-small-en-v1.5/resolve/main/README.md HTTP/11\" 200 0\n",
      "2024-12-23 10:09:23 - DEBUG : https://huggingface.co:443 \"HEAD /BAAI/bge-small-en-v1.5/resolve/main/modules.json HTTP/11\" 200 0\n",
      "2024-12-23 10:09:23 - DEBUG : https://huggingface.co:443 \"HEAD /BAAI/bge-small-en-v1.5/resolve/main/sentence_bert_config.json HTTP/11\" 200 0\n",
      "2024-12-23 10:09:23 - DEBUG : https://huggingface.co:443 \"HEAD /BAAI/bge-small-en-v1.5/resolve/main/adapter_config.json HTTP/11\" 404 0\n",
      "2024-12-23 10:09:23 - DEBUG : https://huggingface.co:443 \"HEAD /BAAI/bge-small-en-v1.5/resolve/main/config.json HTTP/11\" 200 0\n",
      "2024-12-23 10:09:24 - DEBUG : https://huggingface.co:443 \"HEAD /BAAI/bge-small-en-v1.5/resolve/main/tokenizer_config.json HTTP/11\" 200 0\n",
      "2024-12-23 10:09:24 - DEBUG : https://huggingface.co:443 \"GET /api/models/BAAI/bge-small-en-v1.5/revision/main HTTP/11\" 200 148912\n",
      "2024-12-23 10:09:24 - DEBUG : https://huggingface.co:443 \"GET /api/models/BAAI/bge-small-en-v1.5 HTTP/11\" 200 148912\n",
      "2024-12-23 10:09:24 - INFO : 2 prompts are loaded, with the keys: ['query', 'text']\n",
      "2024-12-23 10:09:24 - INFO : KDBAI client version: 1.5.0\n",
      "2024-12-23 10:09:24 - INFO : KDBAI client version: 1.5.0\n",
      "2024-12-23 10:09:24 - INFO : KDBAI client version: 1.5.0\n",
      "2024-12-23 10:09:27 - INFO : Router Query Engine setup complete.\n"
     ]
    }
   ],
   "source": [
    "#set up vector store\n",
    "\n",
    "embedding_model = HuggingFaceEmbedding(\n",
    "            model_name=EMBEDDING_MODEL_NAME,\n",
    "            cache_folder=os.getcwd()+'/models'\n",
    "            )\n",
    "\n",
    "llm = setup_groq_llm(GROQ_LLM_NAME)\n",
    "\n",
    "Settings.llm = llm\n",
    "Settings.embed_model = embedding_model\n",
    "\n",
    "circular_vector_store = KDBAIVectorStore(circular_table)\n",
    "circular_index = VectorStoreIndex.from_vector_store(vector_store=circular_vector_store)\n",
    "\n",
    "guideline_vector_store = KDBAIVectorStore(guideline_table)\n",
    "guideline_index = VectorStoreIndex.from_vector_store(vector_store=guideline_vector_store)\n",
    "\n",
    "regulation_vector_store = KDBAIVectorStore(regulation_table)\n",
    "regulation_index = VectorStoreIndex.from_vector_store(vector_store=regulation_vector_store)\n",
    "indexes = {\n",
    "            'guideline': guideline_index,\n",
    "            'regulation': regulation_index,\n",
    "            'circular': circular_index\n",
    "        }\n",
    "\n",
    "\n",
    "# Set up query engine\n",
    "query_engine = setup_router_query_engine(indexes, llm)"
   ]
  },
  {
   "cell_type": "code",
   "execution_count": 28,
   "metadata": {},
   "outputs": [
    {
     "name": "stderr",
     "output_type": "stream",
     "text": [
      "2024-12-23 10:43:11 - DEBUG : Request options: {'method': 'post', 'url': '/chat/completions', 'files': None, 'json_data': {'messages': [{'role': 'user', 'content': \"Some choices are given below. It is provided in a numbered list (1 to 3), where each item in the list corresponds to a summary.\\n---------------------\\n(1) Provide information about Sri Lanka Guidelines documents.\\n\\n(2) Provide information about Sri Lanka Regulations documents and Acts.\\n\\n(3) Provide information about Sri Lanka Circular documents.\\n---------------------\\nUsing only the choices above and not prior knowledge, return the top choice(s) (no more than 3, but only select what is needed) by generating the selection object and reasons that are most relevant to the question: 'What is medium tea shade? give some technical details'\\n\"}], 'model': 'llama3-groq-70b-8192-tool-use-preview', 'stream': False, 'temperature': 0.0, 'tool_choice': {'type': 'function', 'function': {'name': 'MultiSelection'}}, 'tools': [{'type': 'function', 'function': {'name': 'MultiSelection', 'description': 'A multi-selection of choices.', 'parameters': {'$defs': {'SingleSelection': {'description': 'A single selection of a choice.', 'properties': {'index': {'title': 'Index', 'type': 'integer'}, 'reason': {'title': 'Reason', 'type': 'string'}}, 'required': ['index', 'reason'], 'title': 'SingleSelection', 'type': 'object'}}, 'description': 'A multi-selection of choices.', 'properties': {'selections': {'items': {'$ref': '#/$defs/SingleSelection'}, 'title': 'Selections', 'type': 'array'}}, 'required': ['selections'], 'title': 'MultiSelection', 'type': 'object'}}}]}}\n",
      "2024-12-23 10:43:11 - DEBUG : Sending HTTP Request: POST https://api.groq.com/openai/v1/chat/completions\n",
      "2024-12-23 10:43:11 - DEBUG : close.started\n",
      "2024-12-23 10:43:11 - DEBUG : close.complete\n",
      "2024-12-23 10:43:11 - DEBUG : connect_tcp.started host='api.groq.com' port=443 local_address=None timeout=60.0 socket_options=None\n",
      "2024-12-23 10:43:11 - DEBUG : connect_tcp.complete return_value=<httpcore._backends.sync.SyncStream object at 0x000002638BE81DB0>\n",
      "2024-12-23 10:43:11 - DEBUG : start_tls.started ssl_context=<ssl.SSLContext object at 0x0000026390867E40> server_hostname='api.groq.com' timeout=60.0\n",
      "2024-12-23 10:43:11 - DEBUG : start_tls.complete return_value=<httpcore._backends.sync.SyncStream object at 0x000002638C4099C0>\n",
      "2024-12-23 10:43:11 - DEBUG : send_request_headers.started request=<Request [b'POST']>\n",
      "2024-12-23 10:43:11 - DEBUG : send_request_headers.complete\n",
      "2024-12-23 10:43:11 - DEBUG : send_request_body.started request=<Request [b'POST']>\n",
      "2024-12-23 10:43:11 - DEBUG : send_request_body.complete\n",
      "2024-12-23 10:43:11 - DEBUG : receive_response_headers.started request=<Request [b'POST']>\n",
      "2024-12-23 10:43:12 - DEBUG : receive_response_headers.complete return_value=(b'HTTP/1.1', 200, b'OK', [(b'Date', b'Mon, 23 Dec 2024 15:43:13 GMT'), (b'Content-Type', b'application/json'), (b'Transfer-Encoding', b'chunked'), (b'Connection', b'keep-alive'), (b'CF-Ray', b'8f69774cbeb1ac34-YYZ'), (b'CF-Cache-Status', b'DYNAMIC'), (b'Cache-Control', b'private, max-age=0, no-store, no-cache, must-revalidate'), (b'Vary', b'Origin, Accept-Encoding'), (b'Via', b'1.1 google'), (b'alt-svc', b'h3=\":443\"; ma=86400'), (b'x-groq-inference-region', b'us-west-1'), (b'x-ratelimit-limit-requests', b'14400'), (b'x-ratelimit-limit-tokens', b'15000'), (b'x-ratelimit-remaining-requests', b'14399'), (b'x-ratelimit-remaining-tokens', b'14836'), (b'x-ratelimit-reset-requests', b'6s'), (b'x-ratelimit-reset-tokens', b'656ms'), (b'x-request-id', b'req_01jft2zk36fm4bfk7tfarv1fqr'), (b'Server', b'cloudflare'), (b'Content-Encoding', b'gzip')])\n",
      "2024-12-23 10:43:12 - INFO : HTTP Request: POST https://api.groq.com/openai/v1/chat/completions \"HTTP/1.1 200 OK\"\n",
      "2024-12-23 10:43:12 - DEBUG : receive_response_body.started request=<Request [b'POST']>\n",
      "2024-12-23 10:43:12 - DEBUG : receive_response_body.complete\n",
      "2024-12-23 10:43:12 - DEBUG : response_closed.started\n",
      "2024-12-23 10:43:12 - DEBUG : response_closed.complete\n",
      "2024-12-23 10:43:12 - DEBUG : HTTP Response: POST https://api.groq.com/openai/v1/chat/completions \"200 OK\" Headers({'date': 'Mon, 23 Dec 2024 15:43:13 GMT', 'content-type': 'application/json', 'transfer-encoding': 'chunked', 'connection': 'keep-alive', 'cf-ray': '8f69774cbeb1ac34-YYZ', 'cf-cache-status': 'DYNAMIC', 'cache-control': 'private, max-age=0, no-store, no-cache, must-revalidate', 'vary': 'Origin, Accept-Encoding', 'via': '1.1 google', 'alt-svc': 'h3=\":443\"; ma=86400', 'x-groq-inference-region': 'us-west-1', 'x-ratelimit-limit-requests': '14400', 'x-ratelimit-limit-tokens': '15000', 'x-ratelimit-remaining-requests': '14399', 'x-ratelimit-remaining-tokens': '14836', 'x-ratelimit-reset-requests': '6s', 'x-ratelimit-reset-tokens': '656ms', 'x-request-id': 'req_01jft2zk36fm4bfk7tfarv1fqr', 'server': 'cloudflare', 'content-encoding': 'gzip'})\n",
      "2024-12-23 10:43:12 - DEBUG : request_id: req_01jft2zk36fm4bfk7tfarv1fqr\n",
      "2024-12-23 10:43:12 - INFO : Selecting query engine 0: Sri Lanka Guidelines documents may contain information on medium tea shade with technical details..\n",
      "Batches: 100%|██████████| 1/1 [00:00<00:00, 21.45it/s]\n",
      "2024-12-23 10:43:12 - INFO : KDBAI client version: 1.5.0\n",
      "2024-12-23 10:43:12 - DEBUG : Starting new HTTPS connection (1): cloud.kdb.ai:443\n",
      "2024-12-23 10:43:12 - DEBUG : https://cloud.kdb.ai:443 \"POST /instance/bizxlezc4n/api/v2/databases/test_srilanka_rag_database/tables/test_guideline_baseline/search HTTP/11\" 200 47524\n",
      "2024-12-23 10:43:12 - DEBUG : > Top 20 nodes:\n",
      "> [Node b'f97239e2-bbf9-4257-90ee-bddc78dcae8f'] [Similarity score:             0.683758] # 3.2\n",
      "\n",
      "Use suitable size dryer and required number of machineries only for optimizing performan...\n",
      "> [Node b'92c3b638-86fe-414d-97a2-ae768ea45b09'] [Similarity score:             0.678719] # Stock\n",
      "\n",
      "The stock or basal part of the graft is also a single node cutting, but here the stem ...\n",
      "> [Node b'957c0406-d033-4070-ba3c-143ea7d73a76'] [Similarity score:             0.678477] # Technique of cleft grafting tea\n",
      "\n",
      "Cleft grafting involves two components of plant parts which ...\n",
      "> [Node b'bae71747-ddd2-45a9-9d22-73543618c7e1'] [Similarity score:             0.676848] # 2.5\n",
      "\n",
      "Adhere to rest fields prior to pruning and advocate correct length of pruning cycle (3 y...\n",
      "> [Node b'febd7603-230f-45d7-a860-b84df48e14c9'] [Similarity score:             0.672825] # Table 1. Composition and nutrient concentrations of the T 1240 mixture\n",
      "\n",
      "|Mixture|Composition ...\n",
      "> [Node b'046a7a81-cec9-40ba-9ef6-bfabf4444624'] [Similarity score:             0.67243] # Table 3. Number of applications and per application quantity of T1240 for small holdings\n",
      "\n",
      "|Av...\n",
      "> [Node b'9fd18eb9-7a19-4302-9fd2-6517600e30f8'] [Similarity score:             0.672273] # 3.3 Establishment of shade\n",
      "\n",
      "Establish one row of Gliricidia at the spacing of 3.6 m (12 ft) i...\n",
      "> [Node b'a8905e70-d6a1-42c8-ab64-efb03431fa21'] [Similarity score:             0.671398] # 3.3\n",
      "\n",
      "Implement formal energy audits with TRI assistance and determine critical points in fact...\n",
      "> [Node b'7dc3f656-f516-4bc2-9537-5c4ad37f1d11'] [Similarity score:             0.670856] # 2.2\n",
      "\n",
      "Adopt shorter plucking rounds to improve tea yield, leaf standard and quality of made tea\n",
      "> [Node b'5bf718d4-1d58-468c-a1dc-754426566603'] [Similarity score:             0.669372] # Introduction\n",
      "\n",
      "Tea is cultivated predominantly as a rain-fed plantation crop. Lack of water bo...\n",
      "> [Node b'0565e61d-abdd-4fcb-9365-8bc4417e849a'] [Similarity score:             0.66841] # 2.4\n",
      "\n",
      "Use suitable machines for labour intensive operations such as plucking, pruning and weeding\n",
      "> [Node b'ba17c65c-ef96-48b2-83b2-222f10edf0be'] [Similarity score:             0.668405] # GUIDELINES ON THE USE OF CO-3 GRASS (HYBRID NAPIER) FOR SOIL REHABILITATION BEFORE REPLANTING O...\n",
      "> [Node b'373f3372-2229-4170-a4a0-161d3f9d6598'] [Similarity score:             0.668136] # Scion\n",
      "\n",
      "This is the upper component of the graft. Desirable characters for the scion are high ...\n",
      "> [Node b'2b80c504-bf0b-4df8-9b8a-3548bf883477'] [Similarity score:             0.667987] # Table 1: Above ground dry matter production (Metric tons per ha)\n",
      "\n",
      "|Type of grass|After 12 mon...\n",
      "> [Node b'256bd40d-c759-4d6d-abe8-e0a7072ec79f'] [Similarity score:             0.667185] # Proper use of pruning machines in the field\n",
      "\n",
      "- Workers should be properly trained for operati...\n",
      "> [Node b'f1310fcf-5ec0-4ea8-89c0-877e636c9944'] [Similarity score:             0.666629] # Planting of CO-3 Grass\n",
      "\n",
      "- After uprooting old tea, prepare and level the land for planting of...\n",
      "> [Node b'4214f94e-f56a-42bb-965d-3640e0c499a5'] [Similarity score:             0.666486] # 3.6\n",
      "\n",
      "Suitably re-siting machinery and automate/conveyorise appropriately for smooth tea manuf...\n",
      "> [Node b'd5196f2b-8f8d-4829-bcf2-81c950b49a1c'] [Similarity score:             0.666105] # Soil Quality Index\n",
      "\n",
      "Development, validation and use of Soil Quality Indices (SQIs) in the pro...\n",
      "> [Node b'cb0ef7d0-24c7-4830-934c-0be2ca0ab6f6'] [Similarity score:             0.665873] # 3.4\n",
      "\n",
      "Strictly monitor and reduce energy consumption by an appropriate energy (electrical and ...\n",
      "> [Node b'8f2a88f8-c389-419c-a0c1-c9fe85f12787'] [Similarity score:             0.665203] # Table 2: Root dry matter production (Metric tons per ha)\n",
      "\n",
      "|Type of grass|After 12 months|\n",
      "|-...\n",
      "2024-12-23 10:43:12 - DEBUG : Request options: {'method': 'post', 'url': '/chat/completions', 'files': None, 'json_data': {'messages': [{'role': 'system', 'content': \"You are an expert Q&A system that is trusted around the world.\\nAlways answer the query using the provided context information, and not prior knowledge.\\nSome rules to follow:\\n1. Never directly reference the given context in your answer.\\n2. Avoid statements like 'Based on the context, ...' or 'The context information ...' or anything along those lines.\"}, {'role': 'user', 'content': \"Context information is below.\\n---------------------\\n__nn_distance: 0.6837577223777771\\nissue_date: December 2021\\nissuing_authority: Tea Research Institute\\nclass: guideline\\nreference_number: 04/2021\\ntitle: Interim Guidelines on Strategic Cost Component Management in Tea Cultivation with Special Reference to Rational Use of Plant Nutrients and Tea Manufacture\\noriginal_doc_id: 95\\n\\n# 3.2\\r\\n\\r\\nUse suitable size dryer and required number of machineries only for optimizing performance and productivity\\n\\n__nn_distance: 0.6787192225456238\\nissue_date: December 2018\\nissuing_authority: Tea Research Institute\\nclass: guideline\\nreference_number: 03/2018\\ntitle: GUIDELINE FOR CLEFT GRAFTING IN TEA NURSERIES\\noriginal_doc_id: 85\\n\\n# Stock\\r\\n\\r\\nThe stock or basal part of the graft is also a single node cutting, but here the stem above the node of the stock should extend up to about 2.5 cm. A cleft of about\\r\\n\\r\\nPage 1 of 4\\r\\n1.5 cm deep is made by splitting the stem above the node using a budding knife. The cleft should not be too deep and should correspond to the length of the wedge in the scion (Fig. 2). The desirable characters for the stock are better rooting, drought tolerance, and pest and disease tolerance abilities viz. parasitic Nematodes.\\r\\n\\r\\n|2.5 cm stem|1.5 cm cleft|\\r\\n|---|---|\\r\\n|2.5 cm stem|2.5 cm stem|\\r\\n\\r\\nFig. 2. Preparation of stock\\r\\n\\r\\nUnion of scion and stock: Wedge is inserted into the cleft until it is firmly held without exposing the cut so that the leaves of stock and scion will be on opposite sides (Fig. 3). The graft union is then gently tied using a strip of long polythene commencing from the bottom upwards or clipped (grafting clips) to prevent water travelling in (Fig. 4).\\r\\n\\r\\nFig. 3. Inserting wedge of the scion into cleft of the stock\\r\\n\\r\\nPage 2 of 4\\n\\n__nn_distance: 0.6784768104553223\\nissue_date: December 2018\\nissuing_authority: Tea Research Institute\\nclass: guideline\\nreference_number: 03/2018\\ntitle: GUIDELINE FOR CLEFT GRAFTING IN TEA NURSERIES\\noriginal_doc_id: 85\\n\\n# Technique of cleft grafting tea\\r\\n\\r\\nCleft grafting involves two components of plant parts which are referred as scion and stock. Cuttings for grafting are obtained from the same type of shoots as employed for vegetative propagation of tea. Shoots for taking cuttings to be used as scion and stock should be obtained after proper pruning of mother bushes. Cuttings should be kept in water and grafting should be carried out in a shaded place. Other nursery practices are same as that of the conventional nurseries (Please refer TRI Advisory Circular No. PN2 on Tea Nursery Management, Issued in November 2009).\\n\\n__nn_distance: 0.6768479347229004\\nissue_date: December 2021\\nissuing_authority: Tea Research Institute\\nclass: guideline\\nreference_number: 04/2021\\ntitle: Interim Guidelines on Strategic Cost Component Management in Tea Cultivation with Special Reference to Rational Use of Plant Nutrients and Tea Manufacture\\noriginal_doc_id: 95\\n\\n# 2.5\\r\\n\\r\\nAdhere to rest fields prior to pruning and advocate correct length of pruning cycle (3 year cycle for VP tea in low country and 4-5 year cycle for VP tea in up country, mid country and Uva regions). Undue shortening of cycles will lead to more non-productive periods (recovery after pruning).\\n\\n__nn_distance: 0.672825276851654\\nissue_date: December 2021\\nissuing_authority: Tea Research Institute\\nclass: guideline\\nreference_number: 04/2021\\ntitle: Interim Guidelines on Strategic Cost Component Management in Tea Cultivation with Special Reference to Rational Use of Plant Nutrients and Tea Manufacture\\noriginal_doc_id: 95\\n\\n# Table 1. Composition and nutrient concentrations of the T 1240 mixture\\r\\n\\r\\n|Mixture|Composition (parts)|Concentration (%)|\\r\\n|---|---|---|\\r\\n|T1240|SA: 970, ERP: 103, MOP: 167|N: 16.1, P2O5: 2.3, K2O: 8.0, S: 18.7|\\r\\n• Use nitrogen (N) rationally for mature tea based on the average yields as detailed in Tables 2 and 3 for corporate sector and small holdings respectively so that every 100 kg of made tea below and above the yield level of 1400 made tea kg per ha per year receives on average 08 kg and 10 kg of N respectively.\\n\\n__nn_distance: 0.6724299192428589\\nissue_date: December 2021\\nissuing_authority: Tea Research Institute\\nclass: guideline\\nreference_number: 04/2021\\ntitle: Interim Guidelines on Strategic Cost Component Management in Tea Cultivation with Special Reference to Rational Use of Plant Nutrients and Tea Manufacture\\noriginal_doc_id: 95\\n\\n# Table 3. Number of applications and per application quantity of T1240 for small holdings\\r\\n\\r\\n|Average yield (Green leaf kg/ac/month)|N requirement (kg/ac/year)|Number of applications per year|Per application quantity (kg)|\\r\\n|---|---|---|---|\\r\\n|Less than 130|25|2|75|\\r\\n|From 130 up to 220|35|3|70|\\r\\n|From 220 up to 300|70|4|110|\\r\\n|More than 300|80|4|125|\\r\\n\\r\\n• Apply T1240 mixture 2, 3 and 4 times a year for tea fields yielding less than 800 kg, 800-1400 kg and above 1400 kg of made tea per ha per year (&lt;130, 130-220 &amp; &gt;220 kg green leaf per ac per month) respectively.\\r\\n\\r\\n• Apply fertilizer from plant to plant for tea fields yielding less than 800 kg of made tea per ha per year (&lt;130 green leaf per ac per month).\\r\\n\\r\\n• Test soil pH regularly and correct soil acidity (optimum range of pH being 4.5-5.5) by applying dolomite prior to chemical fertilizer application to improve nutrient availability and plant uptake as given in Table 4 as per the recommendations (Refer Advisory Circular SP3).\\r\\n\\r\\n• Use compost to improve nutrient use efficiency and soil pH buffering capacity. However, compost made from municipal waste is not permitted due to possible contamination with heavy metals.\\r\\n\\r\\n• Apply compost preferably at the rate of 5 metric tons per ha per year (2 metric tons per acre per year) in low country and 2.5 metric tons per ha per year (1 metric ton per acre per year) in up country, mid country and Uva regions or 20 metric tons per hectare (8 metric per acre) at the prune in low country and 10 metric tons per hectare at the prune in up country, mid country and Uva regions depending on the availability. Wherever possible, incorporate compost into soil by envelope forking.\\r\\n|Soil pH|Dolomite kg/ha|No. of Bags/ha|Dolomite kg/ac|No. of bags/ac|\\r\\n|---|---|---|---|---|\\r\\n|Below 3.9|2500|50|1000|20|\\r\\n|From 3.9 up to 4.2|2000|40|800|16|\\r\\n|From 4.2 up to 4.5|1500|30|600|12|\\r\\n|Above 4.5|1000|20|400|8|\\n\\n__nn_distance: 0.6722726821899414\\nissue_date: August 2021\\nissuing_authority: Tea Research Institute\\nclass: guideline\\nreference_number: 02/2021\\ntitle: GUIDELINES FOR TEA AND COCONUT INTERCROPPING\\noriginal_doc_id: 93\\n\\n# 3.3 Establishment of shade\\r\\n\\r\\nEstablish one row of Gliricidia at the spacing of 3.6 m (12 ft) in the middle row of tea along the coconut avenue as shown in Fig. 1.\\n\\n__nn_distance: 0.6713980436325073\\nissue_date: December 2021\\nissuing_authority: Tea Research Institute\\nclass: guideline\\nreference_number: 04/2021\\ntitle: Interim Guidelines on Strategic Cost Component Management in Tea Cultivation with Special Reference to Rational Use of Plant Nutrients and Tea Manufacture\\noriginal_doc_id: 95\\n\\n# 3.3\\r\\n\\r\\nImplement formal energy audits with TRI assistance and determine critical points in factory operations for corrective measures\\n\\n__nn_distance: 0.6708558797836304\\nissue_date: December 2021\\nissuing_authority: Tea Research Institute\\nclass: guideline\\nreference_number: 04/2021\\ntitle: Interim Guidelines on Strategic Cost Component Management in Tea Cultivation with Special Reference to Rational Use of Plant Nutrients and Tea Manufacture\\noriginal_doc_id: 95\\n\\n# 2.2\\r\\n\\r\\nAdopt shorter plucking rounds to improve tea yield, leaf standard and quality of made tea\\n\\n__nn_distance: 0.6693717241287231\\nissue_date: December 2018\\nissuing_authority: Tea Research Institute\\nclass: guideline\\nreference_number: 05/2018\\ntitle: GUIDELINE ON IRRIGATION OF TEA FIELDS\\noriginal_doc_id: 87\\n\\n# Introduction\\r\\n\\r\\nTea is cultivated predominantly as a rain-fed plantation crop. Lack of water bodies, geographical limitations and inability to use conventional irrigation techniques such as flood and furrow irrigation have hindered the application of irrigation in tea plantations. Introduction of micro irrigation techniques viz. drip and sprinkler irrigation, frequent drought occurrences and productivity improvements etc. have prompted stakeholders to seek alternative techniques to manage soil moisture levels. Also, high impact droughts, impacts of climate change and poor replanting rates have created renewed interests in adopting suitable irrigation techniques. It is evident that rudimentary to modern irrigation techniques have been practiced in tea fields although adoption of such techniques is not feasible in the entire plantation. However, there are tea fields, where irrigation could be applied with the development of in-situ water bodies. Since management of soil moisture levels plays a pivotal role in sustainable crop production, it is necessary to advise stakeholders to take correct decisions on adoption of suitable irrigation techniques. This guideline serves as a basis for decision making on irrigation as a potential drought mitigation strategy in tea plantation.\\n\\n__nn_distance: 0.6684095859527588\\nissue_date: December 2021\\nissuing_authority: Tea Research Institute\\nclass: guideline\\nreference_number: 04/2021\\ntitle: Interim Guidelines on Strategic Cost Component Management in Tea Cultivation with Special Reference to Rational Use of Plant Nutrients and Tea Manufacture\\noriginal_doc_id: 95\\n\\n# 2.4\\r\\n\\r\\nUse suitable machines for labour intensive operations such as plucking, pruning and weeding\\n\\n__nn_distance: 0.6684046983718872\\nissue_date: December 2018\\nissuing_authority: Tea Research Institute\\nclass: guideline\\nreference_number: 02/2018\\ntitle: GUIDELINES ON THE USE OF CO-3 GRASS (HYBRID NAPIER) FOR SOIL REHABILITATION BEFORE REPLANTING OF TEA IN THE LOW COUNTRY\\noriginal_doc_id: 84\\n\\n# GUIDELINES ON THE USE OF CO-3 GRASS (HYBRID NAPIER) FOR SOIL REHABILITATION BEFORE REPLANTING OF TEA IN THE LOW COUNTRY\\n\\n__nn_distance: 0.6681361198425293\\nissue_date: December 2018\\nissuing_authority: Tea Research Institute\\nclass: guideline\\nreference_number: 03/2018\\ntitle: GUIDELINE FOR CLEFT GRAFTING IN TEA NURSERIES\\noriginal_doc_id: 85\\n\\n# Scion\\r\\n\\r\\nThis is the upper component of the graft. Desirable characters for the scion are high yield, quality and pest and disease tolerance (e.g. Blister Blight). It is a single node cutting where the basal 1.5 cm of stem is shaved off on two sides to form a wedge (Fig. 1).\\r\\n\\r\\n2.0 cm stem\\r\\n1.5 cm wedge\\r\\n\\r\\nFig. 1. Preparation of scion\\n\\n__nn_distance: 0.6679872870445251\\nissue_date: December 2018\\nissuing_authority: Tea Research Institute\\nclass: guideline\\nreference_number: 02/2018\\ntitle: GUIDELINES ON THE USE OF CO-3 GRASS (HYBRID NAPIER) FOR SOIL REHABILITATION BEFORE REPLANTING OF TEA IN THE LOW COUNTRY\\noriginal_doc_id: 84\\n\\n# Table 1: Above ground dry matter production (Metric tons per ha)\\r\\n\\r\\n|Type of grass|After 12 months|After 18 months|\\r\\n|---|---|---|\\r\\n|CO-3|30.3 - 43.4|38.1 - 63.6|\\r\\n|Guatemala|20.1 - 21.7|31.7 - 32.5|\\r\\n|Mana|14.3 - 20.3|19.5 - 26.2|\\n\\n__nn_distance: 0.6671848297119141\\nissue_date: December 2019\\nissuing_authority: Tea Research Institute\\nclass: guideline\\nreference_number: 02/2019\\ntitle: Guidelines for Use of Motorized Tea Pruning Machines\\noriginal_doc_id: 89\\n\\n# Proper use of pruning machines in the field\\r\\n\\r\\n- Workers should be properly trained for operating and day-to-day maintenance of the machine and educated on safety aspects periodically as per manufacturer's instructions.\\r\\n- The required quantity of gasoline (petrol) and 2T oil mixture should be prepared daily for the two-stroke engine as per manufacturer’s recommendations. A freshly prepared and well-mixed (shacked) fuel mixture should be used for filling the fuel tank.\\r\\n- Operators should use safety gears such as jungle boots and goggles.\\r\\n- Pruning machines should not be used for formative pruning (first proper pruning) of tea bushes as such tea bushes do not have well-developed frame and root system.\\r\\n- It is essential to rest (withhold harvesting) tea fields for a minimum period of 6 weeks prior to pruning.\\r\\n- Over grown weed cover in tea fields reduces the output of pruning machines and hence, should adequately be cleaned before pruning.\\r\\n- As the blade rotates anti-clock-wise, it should be fixed to the gear head correctly so that the cutting edges of the blade face towards the rotating direction (see Figure 2 & operator’s manual/instructions for details).\\r\\n- The smoothness of the cut depends on the number of tips, sharpness and speed (rpm) of the blade. Therefore, blades with tungsten carbide tips (around 100) are ideal for tea pruning. Engine should be throttled adequately before the cut is made.\\r\\n- The cut should be preferably made by using one-third of the blade (circumference) from the front to the left (see Figure 2). Blade with broken or blunt tips should not be used for pruning.\\r\\n- Few branches nearest to the operator should be cut first at the recommended height and the balance should be removed progressively (step wise) at the same height by swinging the pruner (from the right to left) while moving forward.\\r\\n- Branches should be cut by exerting a mild pressure to the blade. The blade should never be dashed towards the frame of the tea bush as it damages the blade and the branches.\\r\\n- It is dangerous to try and remove branches/twigs or other matter entangled with the blade if any, while the engine is running.\\r\\n- One or two healthy and peripheral branches having 200-300 leaves on the left-side of the bush should be left as lungs.\\r\\n- Branches should be removed so that the top surface of the bush frame follows the slope of the land.\\r\\n- Manual cleaning of the frames by removing knots, damaged, dead, diseased and pest attacked branches is essential after the machine pruning to preserve the bush health.\\r\\n- The remnant fuel if any should be removed from the tank and those in the carburetor should also be burnt by running the engine for few minutes until it automatically stops at the end of the\\n---------------------\\nGiven the context information and not prior knowledge, answer the query.\\nQuery: What is medium tea shade? give some technical details\\nAnswer: \"}], 'model': 'llama3-groq-70b-8192-tool-use-preview', 'stream': False, 'temperature': 0.0}}\n",
      "2024-12-23 10:43:12 - DEBUG : Sending HTTP Request: POST https://api.groq.com/openai/v1/chat/completions\n",
      "2024-12-23 10:43:12 - DEBUG : send_request_headers.started request=<Request [b'POST']>\n",
      "2024-12-23 10:43:12 - DEBUG : send_request_headers.complete\n",
      "2024-12-23 10:43:12 - DEBUG : send_request_body.started request=<Request [b'POST']>\n",
      "2024-12-23 10:43:12 - DEBUG : send_request_body.complete\n",
      "2024-12-23 10:43:12 - DEBUG : receive_response_headers.started request=<Request [b'POST']>\n",
      "2024-12-23 10:43:13 - DEBUG : receive_response_headers.complete return_value=(b'HTTP/1.1', 200, b'OK', [(b'Date', b'Mon, 23 Dec 2024 15:43:14 GMT'), (b'Content-Type', b'application/json'), (b'Transfer-Encoding', b'chunked'), (b'Connection', b'keep-alive'), (b'CF-Ray', b'8f697752ec45ac34-YYZ'), (b'CF-Cache-Status', b'DYNAMIC'), (b'Cache-Control', b'private, max-age=0, no-store, no-cache, must-revalidate'), (b'Vary', b'Origin, Accept-Encoding'), (b'Via', b'1.1 google'), (b'alt-svc', b'h3=\":443\"; ma=86400'), (b'x-groq-inference-region', b'us-west-1'), (b'x-ratelimit-limit-requests', b'14400'), (b'x-ratelimit-limit-tokens', b'15000'), (b'x-ratelimit-remaining-requests', b'14398'), (b'x-ratelimit-remaining-tokens', b'11036'), (b'x-ratelimit-reset-requests', b'11.008999999s'), (b'x-ratelimit-reset-tokens', b'15.856s'), (b'x-request-id', b'req_01jft2zm1jf1btr831ra0eygt4'), (b'Server', b'cloudflare'), (b'Content-Encoding', b'gzip')])\n",
      "2024-12-23 10:43:13 - INFO : HTTP Request: POST https://api.groq.com/openai/v1/chat/completions \"HTTP/1.1 200 OK\"\n",
      "2024-12-23 10:43:13 - DEBUG : receive_response_body.started request=<Request [b'POST']>\n",
      "2024-12-23 10:43:13 - DEBUG : receive_response_body.complete\n",
      "2024-12-23 10:43:13 - DEBUG : response_closed.started\n",
      "2024-12-23 10:43:13 - DEBUG : response_closed.complete\n",
      "2024-12-23 10:43:13 - DEBUG : HTTP Response: POST https://api.groq.com/openai/v1/chat/completions \"200 OK\" Headers({'date': 'Mon, 23 Dec 2024 15:43:14 GMT', 'content-type': 'application/json', 'transfer-encoding': 'chunked', 'connection': 'keep-alive', 'cf-ray': '8f697752ec45ac34-YYZ', 'cf-cache-status': 'DYNAMIC', 'cache-control': 'private, max-age=0, no-store, no-cache, must-revalidate', 'vary': 'Origin, Accept-Encoding', 'via': '1.1 google', 'alt-svc': 'h3=\":443\"; ma=86400', 'x-groq-inference-region': 'us-west-1', 'x-ratelimit-limit-requests': '14400', 'x-ratelimit-limit-tokens': '15000', 'x-ratelimit-remaining-requests': '14398', 'x-ratelimit-remaining-tokens': '11036', 'x-ratelimit-reset-requests': '11.008999999s', 'x-ratelimit-reset-tokens': '15.856s', 'x-request-id': 'req_01jft2zm1jf1btr831ra0eygt4', 'server': 'cloudflare', 'content-encoding': 'gzip'})\n",
      "2024-12-23 10:43:13 - DEBUG : request_id: req_01jft2zm1jf1btr831ra0eygt4\n",
      "2024-12-23 10:43:13 - DEBUG : > Refine context: rotating direction (see Figure 2 & operator’s m...\n",
      "2024-12-23 10:43:13 - DEBUG : Request options: {'method': 'post', 'url': '/chat/completions', 'files': None, 'json_data': {'messages': [{'role': 'user', 'content': \"You are an expert Q&A system that strictly operates in two modes when refining existing answers:\\n1. **Rewrite** an original answer using the new context.\\n2. **Repeat** the original answer if the new context isn't useful.\\nNever reference the original answer or context directly in your answer.\\nWhen in doubt, just repeat the original answer.\\nNew Context: rotating direction (see Figure 2 & operator’s manual/instructions for details).\\r\\n- The smoothness of the cut depends on the number of tips, sharpness and speed (rpm) of the blade. Therefore, blades with tungsten carbide tips (around 100) are ideal for tea pruning. Engine should be throttled adequately before the cut is made.\\r\\n- The cut should be preferably made by using one-third of the blade (circumference) from the front to the left (see Figure 2). Blade with broken or blunt tips should not be used for pruning.\\r\\n- Few branches nearest to the operator should be cut first at the recommended height and the balance should be removed progressively (step wise) at the same height by swinging the pruner (from the right to left) while moving forward.\\r\\n- Branches should be cut by exerting a mild pressure to the blade. The blade should never be dashed towards the frame of the tea bush as it damages the blade and the branches.\\r\\n- It is dangerous to try and remove branches/twigs or other matter entangled with the blade if any, while the engine is running.\\r\\n- One or two healthy and peripheral branches having 200-300 leaves on the left-side of the bush should be left as lungs.\\r\\n- Branches should be removed so that the top surface of the bush frame follows the slope of the land.\\r\\n- Manual cleaning of the frames by removing knots, damaged, dead, diseased and pest attacked branches is essential after the machine pruning to preserve the bush health.\\r\\n- The remnant fuel if any should be removed from the tank and those in the carburetor should also be burnt by running the engine for few minutes until it automatically stops at the end of the day.\\n\\n__nn_distance: 0.6666287183761597\\nissue_date: December\\nQuery: What is medium tea shade? give some technical details\\nOriginal Answer: I'm sorry but I do not have the capability to perform this task for you, I am happy to help you with any other queries you may have.\\nNew Answer: \"}], 'model': 'llama3-groq-70b-8192-tool-use-preview', 'stream': False, 'temperature': 0.0}}\n",
      "2024-12-23 10:43:13 - DEBUG : Sending HTTP Request: POST https://api.groq.com/openai/v1/chat/completions\n",
      "2024-12-23 10:43:13 - DEBUG : send_request_headers.started request=<Request [b'POST']>\n",
      "2024-12-23 10:43:13 - DEBUG : send_request_headers.complete\n",
      "2024-12-23 10:43:13 - DEBUG : send_request_body.started request=<Request [b'POST']>\n",
      "2024-12-23 10:43:13 - DEBUG : send_request_body.complete\n",
      "2024-12-23 10:43:13 - DEBUG : receive_response_headers.started request=<Request [b'POST']>\n",
      "2024-12-23 10:43:13 - DEBUG : receive_response_headers.complete return_value=(b'HTTP/1.1', 200, b'OK', [(b'Date', b'Mon, 23 Dec 2024 15:43:15 GMT'), (b'Content-Type', b'application/json'), (b'Transfer-Encoding', b'chunked'), (b'Connection', b'keep-alive'), (b'CF-Ray', b'8f697756bf87ac34-YYZ'), (b'CF-Cache-Status', b'DYNAMIC'), (b'Cache-Control', b'private, max-age=0, no-store, no-cache, must-revalidate'), (b'Vary', b'Origin, Accept-Encoding'), (b'Via', b'1.1 google'), (b'alt-svc', b'h3=\":443\"; ma=86400'), (b'x-groq-inference-region', b'us-west-1'), (b'x-ratelimit-limit-requests', b'14400'), (b'x-ratelimit-limit-tokens', b'15000'), (b'x-ratelimit-remaining-requests', b'14397'), (b'x-ratelimit-remaining-tokens', b'10589'), (b'x-ratelimit-reset-requests', b'17.415s'), (b'x-ratelimit-reset-tokens', b'17.643s'), (b'x-request-id', b'req_01jft2zmmhfm48rj8eqc1z81m2'), (b'Server', b'cloudflare'), (b'Content-Encoding', b'gzip')])\n",
      "2024-12-23 10:43:13 - INFO : HTTP Request: POST https://api.groq.com/openai/v1/chat/completions \"HTTP/1.1 200 OK\"\n",
      "2024-12-23 10:43:13 - DEBUG : receive_response_body.started request=<Request [b'POST']>\n",
      "2024-12-23 10:43:13 - DEBUG : receive_response_body.complete\n",
      "2024-12-23 10:43:13 - DEBUG : response_closed.started\n",
      "2024-12-23 10:43:13 - DEBUG : response_closed.complete\n",
      "2024-12-23 10:43:13 - DEBUG : HTTP Response: POST https://api.groq.com/openai/v1/chat/completions \"200 OK\" Headers({'date': 'Mon, 23 Dec 2024 15:43:15 GMT', 'content-type': 'application/json', 'transfer-encoding': 'chunked', 'connection': 'keep-alive', 'cf-ray': '8f697756bf87ac34-YYZ', 'cf-cache-status': 'DYNAMIC', 'cache-control': 'private, max-age=0, no-store, no-cache, must-revalidate', 'vary': 'Origin, Accept-Encoding', 'via': '1.1 google', 'alt-svc': 'h3=\":443\"; ma=86400', 'x-groq-inference-region': 'us-west-1', 'x-ratelimit-limit-requests': '14400', 'x-ratelimit-limit-tokens': '15000', 'x-ratelimit-remaining-requests': '14397', 'x-ratelimit-remaining-tokens': '10589', 'x-ratelimit-reset-requests': '17.415s', 'x-ratelimit-reset-tokens': '17.643s', 'x-request-id': 'req_01jft2zmmhfm48rj8eqc1z81m2', 'server': 'cloudflare', 'content-encoding': 'gzip'})\n",
      "2024-12-23 10:43:14 - DEBUG : request_id: req_01jft2zmmhfm48rj8eqc1z81m2\n",
      "2024-12-23 10:43:14 - DEBUG : > Refine context: smoothness of the cut depends on the number of ...\n",
      "2024-12-23 10:43:14 - DEBUG : Request options: {'method': 'post', 'url': '/chat/completions', 'files': None, 'json_data': {'messages': [{'role': 'user', 'content': \"You are an expert Q&A system that strictly operates in two modes when refining existing answers:\\n1. **Rewrite** an original answer using the new context.\\n2. **Repeat** the original answer if the new context isn't useful.\\nNever reference the original answer or context directly in your answer.\\nWhen in doubt, just repeat the original answer.\\nNew Context: smoothness of the cut depends on the number of tips, sharpness and speed (rpm) of the blade. Therefore, blades with tungsten carbide tips (around 100) are ideal for tea pruning. Engine should be throttled adequately before the cut is made.\\r\\n- The cut should be preferably made by using one-third of the blade (circumference) from the front to the left (see Figure 2). Blade with broken or blunt tips should not be used for pruning.\\r\\n- Few branches nearest to the operator should be cut first at the recommended height and the balance should be removed progressively (step wise) at the same height by swinging the pruner (from the right to left) while moving forward.\\r\\n- Branches should be cut by exerting a mild pressure to the blade. The blade should never be dashed towards the frame of the tea bush as it damages the blade and the branches.\\r\\n- It is dangerous to try and remove branches/twigs or other matter entangled with the blade if any, while the engine is running.\\r\\n- One or two healthy and peripheral branches having 200-300 leaves on the left-side of the bush should be left as lungs.\\r\\n- Branches should be removed so that the top surface of the bush frame follows the slope of the land.\\r\\n- Manual cleaning of the frames by removing knots, damaged, dead, diseased and pest attacked branches is essential after the machine pruning to preserve the bush health.\\r\\n- The remnant fuel if any should be removed from the tank and those in the carburetor should also be burnt by running the engine for few minutes until it automatically stops at the end of the day.\\n\\n__nn_distance: 0.6666287183761597\\nissue_date: December 2018\\nissuing_authority: Tea Research Institute\\nclass: guideline\\nreference_number: 02/2018\\ntitle: GUIDELINES ON THE USE OF CO-3 GRASS (HYBRID NAPIER) FOR SOIL REHABILITATION BEFORE REPLANTING OF TEA IN THE LOW COUNTRY\\noriginal_doc_id: 84\\n\\n# Planting of CO-3 Grass\\r\\n\\r\\n- After uprooting old tea, prepare and level the land for planting of grasses. Dolomite should be applied at the recommended rate to improve soil pH to the desirable range (Please refer TRI Advisory Circular No. SP 6 on Fertilizer Recommendations For Rehabilitation Grasses, Issued in July 2000).\\r\\n- Fresh cuttings with 3-4 nodes soon after removal from the mother plants are recommended for planting as sufficient amounts of food and water reserves should be present for successful sprouting of buds and initial growth.\\r\\n- The grass cuttings should be planted at the beginning of rainy season at a spacing of 0.3 m x 0.6 m; Approximately 55,500 stem-cuttings are required for one hectare.\\r\\n\\r\\nPage 2 of 3\\n\\n__nn_distance: 0.6664861440658569\\nissue_date: December 2021\\nissuing_authority: Tea Research Institute\\nclass: guideline\\nreference_number: 04/2021\\ntitle: Interim Guidelines on Strategic Cost Component Management in Tea Cultivation with Special Reference to Rational Use of Plant Nutrients and Tea Manufacture\\noriginal_doc_id: 95\\n\\n# 3.6\\r\\n\\r\\nSuitably re-siting machinery and automate/conveyorise appropriately for smooth tea manufacture\\n\\n__nn_distance: 0.6661047339439392\\nissue_date: nan\\nissuing_authority: Tea Research Institute\\nclass: guideline\\nreference_number: nan\\ntitle: nan\\noriginal_doc_id: 83\\n\\n# Soil Quality Index\\r\\n\\r\\nDevelopment, validation and use of Soil Quality Indices (SQIs) in the promotion of sustainable agriculture has been considered as a novel strategy. The soil quality is defined as the soil’s capacity to perform within managed ecosystem boundaries to sustain plant productivity while reducing soil degradation. A range of soil parameters or indicators has been identified to estimate soil quality, depending on crop, adoption of agricultural practices and crop interactions with environments. As to local tea cultivation, soil bulk density (BD; gram per cm3), available water content (AWC; mm per 30 cm), organic carbon (C; %) and microbial biomass content (MBC μg per gram of soil) from a depth of 0-30 cm, have been used to compute the soil quality indices for different tea growing regions. The scores given to averages of each of the above parameters and their variations in the Index are given in Table 1. Each parameter was provisionally assigned with weighted average and they were later validated from the actual data and their relationships.\\r\\n\\r\\nPage 1 of 3\\n\\n__nn_distance: 0.6658726930618286\\nissue_date: December 2021\\nissuing_authority: Tea Research Institute\\nclass: guideline\\nreference_number: 04/2021\\ntitle: Interim Guidelines on Strategic Cost Component Management in Tea Cultivation with Special Reference to Rational Use of Plant Nutrients and Tea Manufacture\\noriginal_doc_id: 95\\n\\n# 3.4\\r\\n\\r\\nStrictly monitor and reduce energy consumption by an appropriate energy (electrical and thermal) management plan. For example, maintain required stock of cut, split and dried firewood and use it to generate hot air for withering and drying processes.\\n\\n__nn_distance: 0.6652029752731323\\nissue_date: December 2018\\nissuing_authority: Tea Research Institute\\nclass: guideline\\nreference_number: 02/2018\\ntitle: GUIDELINES ON THE USE OF CO-3 GRASS (HYBRID NAPIER) FOR SOIL REHABILITATION BEFORE REPLANTING OF TEA IN THE LOW COUNTRY\\noriginal_doc_id: 84\\n\\n# Table 2: Root dry matter production (Metric tons per ha)\\r\\n\\r\\n|Type of grass|After 12 months|\\r\\n|---|---|\\r\\n|CO-3|7.9 - 11.7|\\r\\n|Guatemala|3.9 - 5.8|\\r\\n|Mana|1.6 - 5.0|\\nQuery: What is medium tea shade? give some technical details\\nOriginal Answer: The medium tea shade is a crucial aspect of tea plant maintenance. It involves a specific height and slope to ensure optimal growth and health of the tea bushes. The technical details include using a specialized machine with a rotating blade that cuts the branches at a specific angle, typically from the front to the left, using one-third of the blade's circumference. The machine should be used with a steady hand, applying mild pressure, and moving from right to left while the machine is in motion. This process helps in maintaining the required height and slope of the tea bushes, following the natural slope of the land.\\nNew Answer: \"}], 'model': 'llama3-groq-70b-8192-tool-use-preview', 'stream': False, 'temperature': 0.0}}\n",
      "2024-12-23 10:43:14 - DEBUG : Sending HTTP Request: POST https://api.groq.com/openai/v1/chat/completions\n",
      "2024-12-23 10:43:14 - DEBUG : send_request_headers.started request=<Request [b'POST']>\n",
      "2024-12-23 10:43:14 - DEBUG : send_request_headers.complete\n",
      "2024-12-23 10:43:14 - DEBUG : send_request_body.started request=<Request [b'POST']>\n",
      "2024-12-23 10:43:14 - DEBUG : send_request_body.complete\n",
      "2024-12-23 10:43:14 - DEBUG : receive_response_headers.started request=<Request [b'POST']>\n",
      "2024-12-23 10:43:14 - DEBUG : receive_response_headers.complete return_value=(b'HTTP/1.1', 200, b'OK', [(b'Date', b'Mon, 23 Dec 2024 15:43:16 GMT'), (b'Content-Type', b'application/json'), (b'Transfer-Encoding', b'chunked'), (b'Connection', b'keep-alive'), (b'CF-Ray', b'8f69775a5a93ac34-YYZ'), (b'CF-Cache-Status', b'DYNAMIC'), (b'Cache-Control', b'private, max-age=0, no-store, no-cache, must-revalidate'), (b'Vary', b'Origin, Accept-Encoding'), (b'Via', b'1.1 google'), (b'alt-svc', b'h3=\":443\"; ma=86400'), (b'x-groq-inference-region', b'us-west-1'), (b'x-ratelimit-limit-requests', b'14400'), (b'x-ratelimit-limit-tokens', b'15000'), (b'x-ratelimit-remaining-requests', b'14396'), (b'x-ratelimit-remaining-tokens', b'9080'), (b'x-ratelimit-reset-requests', b'23.42s'), (b'x-ratelimit-reset-tokens', b'23.679s'), (b'x-request-id', b'req_01jft2zn6effp94s8nrhwaypad'), (b'Server', b'cloudflare'), (b'Content-Encoding', b'gzip')])\n",
      "2024-12-23 10:43:14 - INFO : HTTP Request: POST https://api.groq.com/openai/v1/chat/completions \"HTTP/1.1 200 OK\"\n",
      "2024-12-23 10:43:14 - DEBUG : receive_response_body.started request=<Request [b'POST']>\n",
      "2024-12-23 10:43:14 - DEBUG : receive_response_body.complete\n",
      "2024-12-23 10:43:14 - DEBUG : response_closed.started\n",
      "2024-12-23 10:43:14 - DEBUG : response_closed.complete\n",
      "2024-12-23 10:43:14 - DEBUG : HTTP Response: POST https://api.groq.com/openai/v1/chat/completions \"200 OK\" Headers({'date': 'Mon, 23 Dec 2024 15:43:16 GMT', 'content-type': 'application/json', 'transfer-encoding': 'chunked', 'connection': 'keep-alive', 'cf-ray': '8f69775a5a93ac34-YYZ', 'cf-cache-status': 'DYNAMIC', 'cache-control': 'private, max-age=0, no-store, no-cache, must-revalidate', 'vary': 'Origin, Accept-Encoding', 'via': '1.1 google', 'alt-svc': 'h3=\":443\"; ma=86400', 'x-groq-inference-region': 'us-west-1', 'x-ratelimit-limit-requests': '14400', 'x-ratelimit-limit-tokens': '15000', 'x-ratelimit-remaining-requests': '14396', 'x-ratelimit-remaining-tokens': '9080', 'x-ratelimit-reset-requests': '23.42s', 'x-ratelimit-reset-tokens': '23.679s', 'x-request-id': 'req_01jft2zn6effp94s8nrhwaypad', 'server': 'cloudflare', 'content-encoding': 'gzip'})\n",
      "2024-12-23 10:43:14 - DEBUG : request_id: req_01jft2zn6effp94s8nrhwaypad\n"
     ]
    },
    {
     "data": {
      "text/plain": [
       "\"The medium tea shade is a precise process that involves using a machine with a rotating blade to cut the branches at a specific angle, typically from the front to the left, using one-third of the blade's circumference. The machine should be throttled adequately and used with a steady hand, applying mild pressure, and moving from right to left while the machine is in motion. This ensures the branches are cut at the correct height and slope, following the natural slope of the land, to maintain the health and growth of the tea bushes.\""
      ]
     },
     "execution_count": 28,
     "metadata": {},
     "output_type": "execute_result"
    }
   ],
   "source": [
    "query_engine.query('What is medium tea shade? give some technical details').response"
   ]
  },
  {
   "cell_type": "code",
   "execution_count": null,
   "metadata": {},
   "outputs": [],
   "source": []
  }
 ],
 "metadata": {
  "kernelspec": {
   "display_name": "srilanka",
   "language": "python",
   "name": "python3"
  },
  "language_info": {
   "codemirror_mode": {
    "name": "ipython",
    "version": 3
   },
   "file_extension": ".py",
   "mimetype": "text/x-python",
   "name": "python",
   "nbconvert_exporter": "python",
   "pygments_lexer": "ipython3",
   "version": "3.10.16"
  }
 },
 "nbformat": 4,
 "nbformat_minor": 2
}
